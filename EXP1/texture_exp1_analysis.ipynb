{
 "cells": [
  {
   "cell_type": "markdown",
   "metadata": {},
   "source": [
    "# Texture Experiment 1 Data Analaysis\n",
    "\n",
    "author: Tingying He,date: Feb. 2023\n",
    "\n",
    "This script is for analyzing the results of Texture Experiment 1.\n",
    "This experiment is to collect texture visualization design from designers."
   ]
  },
  {
   "cell_type": "code",
   "execution_count": 4,
   "metadata": {},
   "outputs": [],
   "source": [
    "# import lib\n",
    "import pandas as pd\n",
    "import numpy as np"
   ]
  },
  {
   "cell_type": "markdown",
   "metadata": {},
   "source": [
    "## Import and Clean Data"
   ]
  },
  {
   "cell_type": "code",
   "execution_count": 5,
   "metadata": {},
   "outputs": [
    {
     "data": {
      "text/html": [
       "<div>\n",
       "<style scoped>\n",
       "    .dataframe tbody tr th:only-of-type {\n",
       "        vertical-align: middle;\n",
       "    }\n",
       "\n",
       "    .dataframe tbody tr th {\n",
       "        vertical-align: top;\n",
       "    }\n",
       "\n",
       "    .dataframe thead th {\n",
       "        text-align: right;\n",
       "    }\n",
       "</style>\n",
       "<table border=\"1\" class=\"dataframe\">\n",
       "  <thead>\n",
       "    <tr style=\"text-align: right;\">\n",
       "      <th></th>\n",
       "      <th>participant_id</th>\n",
       "      <th>trial_num</th>\n",
       "      <th>browser_name</th>\n",
       "      <th>browser_version</th>\n",
       "      <th>os</th>\n",
       "      <th>os_version</th>\n",
       "      <th>window_width</th>\n",
       "      <th>window_height</th>\n",
       "      <th>condition_texture</th>\n",
       "      <th>condition_chart</th>\n",
       "      <th>...</th>\n",
       "      <th>first_design_time</th>\n",
       "      <th>second_design_time</th>\n",
       "      <th>strategy_goal</th>\n",
       "      <th>strategy_geo</th>\n",
       "      <th>strategy_icon</th>\n",
       "      <th>compare_texture</th>\n",
       "      <th>different_chart_geo</th>\n",
       "      <th>different_chart_icon</th>\n",
       "      <th>timestamp_end</th>\n",
       "      <th>formatted_data_end</th>\n",
       "    </tr>\n",
       "  </thead>\n",
       "  <tbody>\n",
       "    <tr>\n",
       "      <th>0</th>\n",
       "      <td>46347228420218900</td>\n",
       "      <td>0</td>\n",
       "      <td>Chrome</td>\n",
       "      <td>110.0.0.0</td>\n",
       "      <td>macOS</td>\n",
       "      <td>10.15.7</td>\n",
       "      <td>1462</td>\n",
       "      <td>764</td>\n",
       "      <td>0</td>\n",
       "      <td>0</td>\n",
       "      <td>...</td>\n",
       "      <td>678758</td>\n",
       "      <td>657842</td>\n",
       "      <td>\"In general, I tried to make all columns disti...</td>\n",
       "      <td>\" For the geometric one, I used non-orthodox g...</td>\n",
       "      <td>\"For the icon one, I found the given example m...</td>\n",
       "      <td>\"The tool is absolutely amazing and I had fun ...</td>\n",
       "      <td>\"Kind of OK for the pie, but definitely a disa...</td>\n",
       "      <td>\"It works for pie! Though the number of parts ...</td>\n",
       "      <td>1677262008924</td>\n",
       "      <td>20230224 19:06:48</td>\n",
       "    </tr>\n",
       "    <tr>\n",
       "      <th>1</th>\n",
       "      <td>58315540627590280</td>\n",
       "      <td>0</td>\n",
       "      <td>Chrome</td>\n",
       "      <td>110.0.0.0</td>\n",
       "      <td>macOS</td>\n",
       "      <td>10.15.7</td>\n",
       "      <td>1721</td>\n",
       "      <td>1296</td>\n",
       "      <td>1</td>\n",
       "      <td>0</td>\n",
       "      <td>...</td>\n",
       "      <td>90087</td>\n",
       "      <td>101551</td>\n",
       "      <td>\"I would never use the first design but tried ...</td>\n",
       "      <td>\"I looked for the best Bertin set - this one w...</td>\n",
       "      <td>\"applied consistent angles, line thickness, an...</td>\n",
       "      <td>\"Iconic textures are too 'whimsical' - not my ...</td>\n",
       "      <td>\"I didn't think they worked before, but I love...</td>\n",
       "      <td>\"Works very well. The patterns are easy to reg...</td>\n",
       "      <td>1677452100564</td>\n",
       "      <td>20230226 15:55:00</td>\n",
       "    </tr>\n",
       "    <tr>\n",
       "      <th>2</th>\n",
       "      <td>62730917848025580</td>\n",
       "      <td>0</td>\n",
       "      <td>Chrome</td>\n",
       "      <td>110.0.0.0</td>\n",
       "      <td>macOS</td>\n",
       "      <td>10.15.7</td>\n",
       "      <td>1410</td>\n",
       "      <td>625</td>\n",
       "      <td>1</td>\n",
       "      <td>2</td>\n",
       "      <td>...</td>\n",
       "      <td>321440</td>\n",
       "      <td>69646</td>\n",
       "      <td>\"- Differentiating the different categories us...</td>\n",
       "      <td>\"See above. It was much easier to quickly come...</td>\n",
       "      <td>\"See above. Overall, I don't think the icon ch...</td>\n",
       "      <td>\"I love the use of hand-drawn icons on maps! H...</td>\n",
       "      <td>\"I think they work better in this context. The...</td>\n",
       "      <td>\"Yes, with some fine tuning, like the \"eggplan...</td>\n",
       "      <td>1677516526841</td>\n",
       "      <td>20230227 10:48:46</td>\n",
       "    </tr>\n",
       "    <tr>\n",
       "      <th>3</th>\n",
       "      <td>52141995445163140</td>\n",
       "      <td>0</td>\n",
       "      <td>Chrome</td>\n",
       "      <td>110.0.0.0</td>\n",
       "      <td>macOS</td>\n",
       "      <td>10.15.7</td>\n",
       "      <td>1395</td>\n",
       "      <td>763</td>\n",
       "      <td>1</td>\n",
       "      <td>1</td>\n",
       "      <td>...</td>\n",
       "      <td>244080</td>\n",
       "      <td>4420</td>\n",
       "      <td>\"differentiation\"</td>\n",
       "      <td>\"Avoid moiré, avoid small features.\"</td>\n",
       "      <td>\"at least two full icons per slice\"</td>\n",
       "      <td>\"What philistine puts corn on a pizza?\"</td>\n",
       "      <td>\"No. The density is wrong for the map.\"</td>\n",
       "      <td>\"No, and assigning a different pattern to a ca...</td>\n",
       "      <td>1677532411825</td>\n",
       "      <td>20230227 16:13:31</td>\n",
       "    </tr>\n",
       "    <tr>\n",
       "      <th>4</th>\n",
       "      <td>12582568450783694</td>\n",
       "      <td>0</td>\n",
       "      <td>Chrome</td>\n",
       "      <td>110.0.0.0</td>\n",
       "      <td>macOS</td>\n",
       "      <td>10.15.7</td>\n",
       "      <td>1470</td>\n",
       "      <td>860</td>\n",
       "      <td>1</td>\n",
       "      <td>1</td>\n",
       "      <td>...</td>\n",
       "      <td>1003180</td>\n",
       "      <td>4768</td>\n",
       "      <td>\"I thought about trying not to have one patter...</td>\n",
       "      <td>\"I thought about conceptual matches between th...</td>\n",
       "      <td>\"Uniformity in the style of icons. Roughly sam...</td>\n",
       "      <td>\"I had a hard time with the iconic representat...</td>\n",
       "      <td>\"Bar chart yes. Map definitely not.\"</td>\n",
       "      <td>\"Bar chart yes (but not YES!). Map - kind of b...</td>\n",
       "      <td>1677564697464</td>\n",
       "      <td>20230227 22:11:37</td>\n",
       "    </tr>\n",
       "  </tbody>\n",
       "</table>\n",
       "<p>5 rows × 28 columns</p>\n",
       "</div>"
      ],
      "text/plain": [
       "      participant_id  trial_num browser_name browser_version     os  \\\n",
       "0  46347228420218900          0       Chrome       110.0.0.0  macOS   \n",
       "1  58315540627590280          0       Chrome       110.0.0.0  macOS   \n",
       "2  62730917848025580          0       Chrome       110.0.0.0  macOS   \n",
       "3  52141995445163140          0       Chrome       110.0.0.0  macOS   \n",
       "4  12582568450783694          0       Chrome       110.0.0.0  macOS   \n",
       "\n",
       "  os_version  window_width  window_height  condition_texture  condition_chart  \\\n",
       "0    10.15.7          1462            764                  0                0   \n",
       "1    10.15.7          1721           1296                  1                0   \n",
       "2    10.15.7          1410            625                  1                2   \n",
       "3    10.15.7          1395            763                  1                1   \n",
       "4    10.15.7          1470            860                  1                1   \n",
       "\n",
       "   ...  first_design_time second_design_time  \\\n",
       "0  ...             678758             657842   \n",
       "1  ...              90087             101551   \n",
       "2  ...             321440              69646   \n",
       "3  ...             244080               4420   \n",
       "4  ...            1003180               4768   \n",
       "\n",
       "                                       strategy_goal  \\\n",
       "0  \"In general, I tried to make all columns disti...   \n",
       "1  \"I would never use the first design but tried ...   \n",
       "2  \"- Differentiating the different categories us...   \n",
       "3                                  \"differentiation\"   \n",
       "4  \"I thought about trying not to have one patter...   \n",
       "\n",
       "                                        strategy_geo  \\\n",
       "0  \" For the geometric one, I used non-orthodox g...   \n",
       "1  \"I looked for the best Bertin set - this one w...   \n",
       "2  \"See above. It was much easier to quickly come...   \n",
       "3               \"Avoid moiré, avoid small features.\"   \n",
       "4  \"I thought about conceptual matches between th...   \n",
       "\n",
       "                                       strategy_icon  \\\n",
       "0  \"For the icon one, I found the given example m...   \n",
       "1  \"applied consistent angles, line thickness, an...   \n",
       "2  \"See above. Overall, I don't think the icon ch...   \n",
       "3                \"at least two full icons per slice\"   \n",
       "4  \"Uniformity in the style of icons. Roughly sam...   \n",
       "\n",
       "                                     compare_texture  \\\n",
       "0  \"The tool is absolutely amazing and I had fun ...   \n",
       "1  \"Iconic textures are too 'whimsical' - not my ...   \n",
       "2  \"I love the use of hand-drawn icons on maps! H...   \n",
       "3            \"What philistine puts corn on a pizza?\"   \n",
       "4  \"I had a hard time with the iconic representat...   \n",
       "\n",
       "                                 different_chart_geo  \\\n",
       "0  \"Kind of OK for the pie, but definitely a disa...   \n",
       "1  \"I didn't think they worked before, but I love...   \n",
       "2  \"I think they work better in this context. The...   \n",
       "3            \"No. The density is wrong for the map.\"   \n",
       "4               \"Bar chart yes. Map definitely not.\"   \n",
       "\n",
       "                                different_chart_icon  timestamp_end  \\\n",
       "0  \"It works for pie! Though the number of parts ...  1677262008924   \n",
       "1  \"Works very well. The patterns are easy to reg...  1677452100564   \n",
       "2  \"Yes, with some fine tuning, like the \"eggplan...  1677516526841   \n",
       "3  \"No, and assigning a different pattern to a ca...  1677532411825   \n",
       "4  \"Bar chart yes (but not YES!). Map - kind of b...  1677564697464   \n",
       "\n",
       "   formatted_data_end  \n",
       "0   20230224 19:06:48  \n",
       "1   20230226 15:55:00  \n",
       "2   20230227 10:48:46  \n",
       "3   20230227 16:13:31  \n",
       "4   20230227 22:11:37  \n",
       "\n",
       "[5 rows x 28 columns]"
      ]
     },
     "execution_count": 5,
     "metadata": {},
     "output_type": "execute_result"
    }
   ],
   "source": [
    "# import data\n",
    "df=pd.read_csv(\"/Users/tingyinghe/Library/CloudStorage/GoogleDrive-tingying0305@gmail.com/My Drive/02 Texture Project/experiment_1/data_analysis/results230314.csv\")\n",
    "df.head()"
   ]
  },
  {
   "cell_type": "code",
   "execution_count": 6,
   "metadata": {},
   "outputs": [
    {
     "name": "stdout",
     "output_type": "stream",
     "text": [
      "Number of times : 33\n"
     ]
    }
   ],
   "source": [
    "num_rows = len(df)\n",
    "print(\"Number of times :\", num_rows)"
   ]
  },
  {
   "cell_type": "markdown",
   "metadata": {},
   "source": [
    "### Unique participants"
   ]
  },
  {
   "cell_type": "markdown",
   "metadata": {},
   "source": [
    "## Background"
   ]
  },
  {
   "cell_type": "code",
   "execution_count": 7,
   "metadata": {},
   "outputs": [
    {
     "name": "stdout",
     "output_type": "stream",
     "text": [
      "Number of unique participants: 30\n"
     ]
    }
   ],
   "source": [
    "df_unique = df.drop_duplicates(subset='participant_id')\n",
    "df_unique_num_rows = len(df_unique)\n",
    "print(\"Number of unique participants:\", df_unique_num_rows)"
   ]
  },
  {
   "cell_type": "code",
   "execution_count": 11,
   "metadata": {},
   "outputs": [],
   "source": [
    "def printDemographics(df):\n",
    "    #gender\n",
    "    male_count = len(df[df['gender'] == 'woman'])\n",
    "    female_count = len(df[df['gender'] == 'man'])\n",
    "    other_count = len(df[(df['gender'] != 'woman') & (df['gender'] != 'man')])\n",
    "    print(\"Gender\")\n",
    "    print(\"male:\", male_count)\n",
    "    print(\"female:\", female_count)\n",
    "    print(\"other(please check):\", other_count)\n",
    "    print()\n",
    "    \n",
    "    # age\n",
    "    print(\"Age\")\n",
    "    print(\"mean:\", np.mean(df['age']))\n",
    "    print(\"sd:\", df['age'].std())\n",
    "    print()\n",
    "    \n",
    "    # experitise\n",
    "    print(\"Experiencee\")\n",
    "    print(\"mean:\", np.mean(df['experience']))\n",
    "    print(\"sd:\", df['experience'].std())\n",
    "    print()\n",
    "    \n"
   ]
  },
  {
   "cell_type": "code",
   "execution_count": 12,
   "metadata": {},
   "outputs": [
    {
     "name": "stdout",
     "output_type": "stream",
     "text": [
      "Gender\n",
      "male: 18\n",
      "female: 12\n",
      "other(please check): 0\n",
      "\n",
      "Age\n",
      "mean: 40.1\n",
      "sd: 14.427822738220666\n",
      "\n",
      "Experiencee\n",
      "mean: 13.433333333333334\n",
      "sd: 10.988029013849363\n",
      "\n"
     ]
    }
   ],
   "source": [
    "printDemographics(df_unique)"
   ]
  },
  {
   "cell_type": "code",
   "execution_count": 13,
   "metadata": {},
   "outputs": [
    {
     "data": {
      "text/plain": [
       "woman    18\n",
       "man      12\n",
       "Name: gender, dtype: int64"
      ]
     },
     "execution_count": 13,
     "metadata": {},
     "output_type": "execute_result"
    }
   ],
   "source": [
    "df_unique['gender'].value_counts()"
   ]
  },
  {
   "cell_type": "markdown",
   "metadata": {},
   "source": [
    "## Condition"
   ]
  },
  {
   "cell_type": "code",
   "execution_count": 14,
   "metadata": {},
   "outputs": [
    {
     "data": {
      "text/plain": [
       "1    15\n",
       "2    11\n",
       "0     7\n",
       "Name: condition_chart, dtype: int64"
      ]
     },
     "execution_count": 14,
     "metadata": {},
     "output_type": "execute_result"
    }
   ],
   "source": [
    "condition_chart = df['condition_chart'].value_counts()\n",
    "condition_chart"
   ]
  },
  {
   "cell_type": "code",
   "execution_count": null,
   "metadata": {},
   "outputs": [],
   "source": []
  },
  {
   "cell_type": "code",
   "execution_count": null,
   "metadata": {},
   "outputs": [],
   "source": []
  }
 ],
 "metadata": {
  "kernelspec": {
   "display_name": "Python 3",
   "language": "python",
   "name": "python3"
  },
  "language_info": {
   "codemirror_mode": {
    "name": "ipython",
    "version": 3
   },
   "file_extension": ".py",
   "mimetype": "text/x-python",
   "name": "python",
   "nbconvert_exporter": "python",
   "pygments_lexer": "ipython3",
   "version": "3.8.5"
  }
 },
 "nbformat": 4,
 "nbformat_minor": 5
}
{
 "cells": [
  {
   "cell_type": "markdown",
   "metadata": {},
   "source": [
    "# Texture Experiment 1 Data Analaysis\n",
    "\n",
    "author: Tingying He,date: Feb. 2023\n",
    "\n",
    "This script is for analyzing the results of Texture Experiment 1.\n",
    "This experiment is to collect texture visualization design from designers."
   ]
  },
  {
   "cell_type": "code",
   "execution_count": 4,
   "metadata": {},
   "outputs": [],
   "source": [
    "# import lib\n",
    "import pandas as pd\n",
    "import numpy as np"
   ]
  },
  {
   "cell_type": "markdown",
   "metadata": {},
   "source": [
    "## Import and Clean Data"
   ]
  },
  {
   "cell_type": "code",
   "execution_count": 5,
   "metadata": {},
   "outputs": [
    {
     "data": {
      "text/html": [
       "<div>\n",
       "<style scoped>\n",
       "    .dataframe tbody tr th:only-of-type {\n",
       "        vertical-align: middle;\n",
       "    }\n",
       "\n",
       "    .dataframe tbody tr th {\n",
       "        vertical-align: top;\n",
       "    }\n",
       "\n",
       "    .dataframe thead th {\n",
       "        text-align: right;\n",
       "    }\n",
       "</style>\n",
       "<table border=\"1\" class=\"dataframe\">\n",
       "  <thead>\n",
       "    <tr style=\"text-align: right;\">\n",
       "      <th></th>\n",
       "      <th>participant_id</th>\n",
       "      <th>trial_num</th>\n",
       "      <th>browser_name</th>\n",
       "      <th>browser_version</th>\n",
       "      <th>os</th>\n",
       "      <th>os_version</th>\n",
       "      <th>window_width</th>\n",
       "      <th>window_height</th>\n",
       "      <th>condition_texture</th>\n",
       "      <th>condition_chart</th>\n",
       "      <th>...</th>\n",
       "      <th>first_design_time</th>\n",
       "      <th>second_design_time</th>\n",
       "      <th>strategy_goal</th>\n",
       "      <th>strategy_geo</th>\n",
       "      <th>strategy_icon</th>\n",
       "      <th>compare_texture</th>\n",
       "      <th>different_chart_geo</th>\n",
       "      <th>different_chart_icon</th>\n",
       "      <th>timestamp_end</th>\n",
       "      <th>formatted_data_end</th>\n",
       "    </tr>\n",
       "  </thead>\n",
       "  <tbody>\n",
       "    <tr>\n",
       "      <th>0</th>\n",
       "      <td>46347228420218900</td>\n",
       "      <td>0</td>\n",
       "      <td>Chrome</td>\n",
       "      <td>110.0.0.0</td>\n",
       "      <td>macOS</td>\n",
       "      <td>10.15.7</td>\n",
       "      <td>1462</td>\n",
       "      <td>764</td>\n",
       "      <td>0</td>\n",
       "      <td>0</td>\n",
       "      <td>...</td>\n",
       "      <td>678758</td>\n",
       "      <td>657842</td>\n",
       "      <td>\"In general, I tried to make all columns disti...</td>\n",
       "      <td>\" For the geometric one, I used non-orthodox g...</td>\n",
       "      <td>\"For the icon one, I found the given example m...</td>\n",
       "      <td>\"The tool is absolutely amazing and I had fun ...</td>\n",
       "      <td>\"Kind of OK for the pie, but definitely a disa...</td>\n",
       "      <td>\"It works for pie! Though the number of parts ...</td>\n",
       "      <td>1677262008924</td>\n",
       "      <td>20230224 19:06:48</td>\n",
       "    </tr>\n",
       "    <tr>\n",
       "      <th>1</th>\n",
       "      <td>58315540627590280</td>\n",
       "      <td>0</td>\n",
       "      <td>Chrome</td>\n",
       "      <td>110.0.0.0</td>\n",
       "      <td>macOS</td>\n",
       "      <td>10.15.7</td>\n",
       "      <td>1721</td>\n",
       "      <td>1296</td>\n",
       "      <td>1</td>\n",
       "      <td>0</td>\n",
       "      <td>...</td>\n",
       "      <td>90087</td>\n",
       "      <td>101551</td>\n",
       "      <td>\"I would never use the first design but tried ...</td>\n",
       "      <td>\"I looked for the best Bertin set - this one w...</td>\n",
       "      <td>\"applied consistent angles, line thickness, an...</td>\n",
       "      <td>\"Iconic textures are too 'whimsical' - not my ...</td>\n",
       "      <td>\"I didn't think they worked before, but I love...</td>\n",
       "      <td>\"Works very well. The patterns are easy to reg...</td>\n",
       "      <td>1677452100564</td>\n",
       "      <td>20230226 15:55:00</td>\n",
       "    </tr>\n",
       "    <tr>\n",
       "      <th>2</th>\n",
       "      <td>62730917848025580</td>\n",
       "      <td>0</td>\n",
       "      <td>Chrome</td>\n",
       "      <td>110.0.0.0</td>\n",
       "      <td>macOS</td>\n",
       "      <td>10.15.7</td>\n",
       "      <td>1410</td>\n",
       "      <td>625</td>\n",
       "      <td>1</td>\n",
       "      <td>2</td>\n",
       "      <td>...</td>\n",
       "      <td>321440</td>\n",
       "      <td>69646</td>\n",
       "      <td>\"- Differentiating the different categories us...</td>\n",
       "      <td>\"See above. It was much easier to quickly come...</td>\n",
       "      <td>\"See above. Overall, I don't think the icon ch...</td>\n",
       "      <td>\"I love the use of hand-drawn icons on maps! H...</td>\n",
       "      <td>\"I think they work better in this context. The...</td>\n",
       "      <td>\"Yes, with some fine tuning, like the \"eggplan...</td>\n",
       "      <td>1677516526841</td>\n",
       "      <td>20230227 10:48:46</td>\n",
       "    </tr>\n",
       "    <tr>\n",
       "      <th>3</th>\n",
       "      <td>52141995445163140</td>\n",
       "      <td>0</td>\n",
       "      <td>Chrome</td>\n",
       "      <td>110.0.0.0</td>\n",
       "      <td>macOS</td>\n",
       "      <td>10.15.7</td>\n",
       "      <td>1395</td>\n",
       "      <td>763</td>\n",
       "      <td>1</td>\n",
       "      <td>1</td>\n",
       "      <td>...</td>\n",
       "      <td>244080</td>\n",
       "      <td>4420</td>\n",
       "      <td>\"differentiation\"</td>\n",
       "      <td>\"Avoid moiré, avoid small features.\"</td>\n",
       "      <td>\"at least two full icons per slice\"</td>\n",
       "      <td>\"What philistine puts corn on a pizza?\"</td>\n",
       "      <td>\"No. The density is wrong for the map.\"</td>\n",
       "      <td>\"No, and assigning a different pattern to a ca...</td>\n",
       "      <td>1677532411825</td>\n",
       "      <td>20230227 16:13:31</td>\n",
       "    </tr>\n",
       "    <tr>\n",
       "      <th>4</th>\n",
       "      <td>12582568450783694</td>\n",
       "      <td>0</td>\n",
       "      <td>Chrome</td>\n",
       "      <td>110.0.0.0</td>\n",
       "      <td>macOS</td>\n",
       "      <td>10.15.7</td>\n",
       "      <td>1470</td>\n",
       "      <td>860</td>\n",
       "      <td>1</td>\n",
       "      <td>1</td>\n",
       "      <td>...</td>\n",
       "      <td>1003180</td>\n",
       "      <td>4768</td>\n",
       "      <td>\"I thought about trying not to have one patter...</td>\n",
       "      <td>\"I thought about conceptual matches between th...</td>\n",
       "      <td>\"Uniformity in the style of icons. Roughly sam...</td>\n",
       "      <td>\"I had a hard time with the iconic representat...</td>\n",
       "      <td>\"Bar chart yes. Map definitely not.\"</td>\n",
       "      <td>\"Bar chart yes (but not YES!). Map - kind of b...</td>\n",
       "      <td>1677564697464</td>\n",
       "      <td>20230227 22:11:37</td>\n",
       "    </tr>\n",
       "  </tbody>\n",
       "</table>\n",
       "<p>5 rows × 28 columns</p>\n",
       "</div>"
      ],
      "text/plain": [
       "      participant_id  trial_num browser_name browser_version     os  \\\n",
       "0  46347228420218900          0       Chrome       110.0.0.0  macOS   \n",
       "1  58315540627590280          0       Chrome       110.0.0.0  macOS   \n",
       "2  62730917848025580          0       Chrome       110.0.0.0  macOS   \n",
       "3  52141995445163140          0       Chrome       110.0.0.0  macOS   \n",
       "4  12582568450783694          0       Chrome       110.0.0.0  macOS   \n",
       "\n",
       "  os_version  window_width  window_height  condition_texture  condition_chart  \\\n",
       "0    10.15.7          1462            764                  0                0   \n",
       "1    10.15.7          1721           1296                  1                0   \n",
       "2    10.15.7          1410            625                  1                2   \n",
       "3    10.15.7          1395            763                  1                1   \n",
       "4    10.15.7          1470            860                  1                1   \n",
       "\n",
       "   ...  first_design_time second_design_time  \\\n",
       "0  ...             678758             657842   \n",
       "1  ...              90087             101551   \n",
       "2  ...             321440              69646   \n",
       "3  ...             244080               4420   \n",
       "4  ...            1003180               4768   \n",
       "\n",
       "                                       strategy_goal  \\\n",
       "0  \"In general, I tried to make all columns disti...   \n",
       "1  \"I would never use the first design but tried ...   \n",
       "2  \"- Differentiating the different categories us...   \n",
       "3                                  \"differentiation\"   \n",
       "4  \"I thought about trying not to have one patter...   \n",
       "\n",
       "                                        strategy_geo  \\\n",
       "0  \" For the geometric one, I used non-orthodox g...   \n",
       "1  \"I looked for the best Bertin set - this one w...   \n",
       "2  \"See above. It was much easier to quickly come...   \n",
       "3               \"Avoid moiré, avoid small features.\"   \n",
       "4  \"I thought about conceptual matches between th...   \n",
       "\n",
       "                                       strategy_icon  \\\n",
       "0  \"For the icon one, I found the given example m...   \n",
       "1  \"applied consistent angles, line thickness, an...   \n",
       "2  \"See above. Overall, I don't think the icon ch...   \n",
       "3                \"at least two full icons per slice\"   \n",
       "4  \"Uniformity in the style of icons. Roughly sam...   \n",
       "\n",
       "                                     compare_texture  \\\n",
       "0  \"The tool is absolutely amazing and I had fun ...   \n",
       "1  \"Iconic textures are too 'whimsical' - not my ...   \n",
       "2  \"I love the use of hand-drawn icons on maps! H...   \n",
       "3            \"What philistine puts corn on a pizza?\"   \n",
       "4  \"I had a hard time with the iconic representat...   \n",
       "\n",
       "                                 different_chart_geo  \\\n",
       "0  \"Kind of OK for the pie, but definitely a disa...   \n",
       "1  \"I didn't think they worked before, but I love...   \n",
       "2  \"I think they work better in this context. The...   \n",
       "3            \"No. The density is wrong for the map.\"   \n",
       "4               \"Bar chart yes. Map definitely not.\"   \n",
       "\n",
       "                                different_chart_icon  timestamp_end  \\\n",
       "0  \"It works for pie! Though the number of parts ...  1677262008924   \n",
       "1  \"Works very well. The patterns are easy to reg...  1677452100564   \n",
       "2  \"Yes, with some fine tuning, like the \"eggplan...  1677516526841   \n",
       "3  \"No, and assigning a different pattern to a ca...  1677532411825   \n",
       "4  \"Bar chart yes (but not YES!). Map - kind of b...  1677564697464   \n",
       "\n",
       "   formatted_data_end  \n",
       "0   20230224 19:06:48  \n",
       "1   20230226 15:55:00  \n",
       "2   20230227 10:48:46  \n",
       "3   20230227 16:13:31  \n",
       "4   20230227 22:11:37  \n",
       "\n",
       "[5 rows x 28 columns]"
      ]
     },
     "execution_count": 5,
     "metadata": {},
     "output_type": "execute_result"
    }
   ],
   "source": [
    "# import data\n",
    "df=pd.read_csv(\"/Users/tingyinghe/Library/CloudStorage/GoogleDrive-tingying0305@gmail.com/My Drive/02 Texture Project/experiment_1/data_analysis/results230314.csv\")\n",
    "df.head()"
   ]
  },
  {
   "cell_type": "code",
   "execution_count": 6,
   "metadata": {},
   "outputs": [
    {
     "name": "stdout",
     "output_type": "stream",
     "text": [
      "Number of times : 33\n"
     ]
    }
   ],
   "source": [
    "num_rows = len(df)\n",
    "print(\"Number of times :\", num_rows)"
   ]
  },
  {
   "cell_type": "markdown",
   "metadata": {},
   "source": [
    "### Unique participants"
   ]
  },
  {
   "cell_type": "markdown",
   "metadata": {},
   "source": [
    "## Background"
   ]
  },
  {
   "cell_type": "code",
   "execution_count": 7,
   "metadata": {},
   "outputs": [
    {
     "name": "stdout",
     "output_type": "stream",
     "text": [
      "Number of unique participants: 30\n"
     ]
    }
   ],
   "source": [
    "df_unique = df.drop_duplicates(subset='participant_id')\n",
    "df_unique_num_rows = len(df_unique)\n",
    "print(\"Number of unique participants:\", df_unique_num_rows)"
   ]
  },
  {
   "cell_type": "code",
   "execution_count": 11,
   "metadata": {},
   "outputs": [],
   "source": [
    "def printDemographics(df):\n",
    "    #gender\n",
    "    male_count = len(df[df['gender'] == 'woman'])\n",
    "    female_count = len(df[df['gender'] == 'man'])\n",
    "    other_count = len(df[(df['gender'] != 'woman') & (df['gender'] != 'man')])\n",
    "    print(\"Gender\")\n",
    "    print(\"male:\", male_count)\n",
    "    print(\"female:\", female_count)\n",
    "    print(\"other(please check):\", other_count)\n",
    "    print()\n",
    "    \n",
    "    # age\n",
    "    print(\"Age\")\n",
    "    print(\"mean:\", np.mean(df['age']))\n",
    "    print(\"sd:\", df['age'].std())\n",
    "    print()\n",
    "    \n",
    "    # experitise\n",
    "    print(\"Experiencee\")\n",
    "    print(\"mean:\", np.mean(df['experience']))\n",
    "    print(\"sd:\", df['experience'].std())\n",
    "    print()\n",
    "    \n"
   ]
  },
  {
   "cell_type": "code",
   "execution_count": 12,
   "metadata": {},
   "outputs": [
    {
     "name": "stdout",
     "output_type": "stream",
     "text": [
      "Gender\n",
      "male: 18\n",
      "female: 12\n",
      "other(please check): 0\n",
      "\n",
      "Age\n",
      "mean: 40.1\n",
      "sd: 14.427822738220666\n",
      "\n",
      "Experiencee\n",
      "mean: 13.433333333333334\n",
      "sd: 10.988029013849363\n",
      "\n"
     ]
    }
   ],
   "source": [
    "printDemographics(df_unique)"
   ]
  },
  {
   "cell_type": "code",
   "execution_count": 13,
   "metadata": {},
   "outputs": [
    {
     "data": {
      "text/plain": [
       "woman    18\n",
       "man      12\n",
       "Name: gender, dtype: int64"
      ]
     },
     "execution_count": 13,
     "metadata": {},
     "output_type": "execute_result"
    }
   ],
   "source": [
    "df_unique['gender'].value_counts()"
   ]
  },
  {
   "cell_type": "markdown",
   "metadata": {},
   "source": [
    "## Condition"
   ]
  },
  {
   "cell_type": "code",
   "execution_count": 14,
   "metadata": {},
   "outputs": [
    {
     "data": {
      "text/plain": [
       "1    15\n",
       "2    11\n",
       "0     7\n",
       "Name: condition_chart, dtype: int64"
      ]
     },
     "execution_count": 14,
     "metadata": {},
     "output_type": "execute_result"
    }
   ],
   "source": [
    "condition_chart = df['condition_chart'].value_counts()\n",
    "condition_chart"
   ]
  },
  {
   "cell_type": "code",
   "execution_count": null,
   "metadata": {},
   "outputs": [],
   "source": []
  },
  {
   "cell_type": "code",
   "execution_count": null,
   "metadata": {},
   "outputs": [],
   "source": []
  }
 ],
 "metadata": {
  "kernelspec": {
   "display_name": "Python 3",
   "language": "python",
   "name": "python3"
  },
  "language_info": {
   "codemirror_mode": {
    "name": "ipython",
    "version": 3
   },
   "file_extension": ".py",
   "mimetype": "text/x-python",
   "name": "python",
   "nbconvert_exporter": "python",
   "pygments_lexer": "ipython3",
   "version": "3.8.5"
  }
 },
 "nbformat": 4,
 "nbformat_minor": 5
}
