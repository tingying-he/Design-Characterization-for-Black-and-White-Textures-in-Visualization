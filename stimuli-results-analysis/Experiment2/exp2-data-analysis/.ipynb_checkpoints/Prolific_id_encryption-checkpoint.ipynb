{
 "cells": [
  {
   "cell_type": "markdown",
   "metadata": {},
   "source": [
    "# Prolific id encryption\n",
    "author: Tingying He, date: August, 2023\n",
    "\n",
    "This script is used to encrypt the Prolific ID. By running this script, all Prolific IDs in the raw data will be replaced with corresponding unique participant IDs.\n"
   ]
  },
  {
   "cell_type": "markdown",
   "metadata": {},
   "source": [
    "### `encrypt_prolific_ids(file_name, column_name, output_path)`\n",
    "\n",
    "This function reads a CSV file that contains a specific column of participant IDs, referred to as prolific IDs. It then encrypts these prolific IDs by converting each one to a corresponding unique new ID using the `uuid` library. The mapping between the original prolific IDs and the unique new IDs is persistent across multiple calls to the function, meaning that the same prolific ID will always be mapped to the same unique new ID, even when processed in different files.\n",
    "\n",
    "#### Parameters:\n",
    "\n",
    "- `file_name` (str): The path and name of the input CSV file containing the prolific IDs. This file should have a specific column containing the prolific IDs to be encrypted.\n",
    "\n",
    "- `column_name` (str): The name of the column in the CSV file that contains the prolific IDs to be encrypted. This column should exist in the specified CSV file.\n",
    "\n",
    "- `output_path` (str): The directory where the new file with the encrypted IDs will be saved. The new file will have the same name as the original file and will be saved in this directory.\n",
    "\n",
    "#### Output:\n",
    "\n",
    "- A new CSV file is created in the specified `output_path` with the same structure as the original file, except that the prolific IDs in the specified column are replaced with unique new IDs.\n",
    "- A message is printed to the console with the path of the newly created file.\n",
    "\n",
    "\n",
    "#### Notes:\n",
    "\n",
    "- The function keeps a global mapping of the original prolific IDs to the unique new IDs. This ensures that the same mapping is used across different files, and the same prolific ID is always mapped to the same unique new ID.\n",
    "- The specified output directory should exist before calling the function.\n",
    "- The specified column name should exist in the CSV file, or an error message will be printed.\n",
    "\n",
    "---"
   ]
  },
  {
   "cell_type": "code",
   "execution_count": 12,
   "metadata": {},
   "outputs": [],
   "source": [
    "import csv\n",
    "import uuid\n",
    "import os\n",
    "import shutil\n",
    "import pandas as pd"
   ]
  },
  {
   "cell_type": "code",
   "execution_count": 13,
   "metadata": {},
   "outputs": [],
   "source": [
    "# Path to the folder containing the CSV files\n",
    "folder_path = 'final_data_original'\n",
    "\n",
    "# Path to the folder saving the output files\n",
    "output_path = 'final_data'"
   ]
  },
  {
   "cell_type": "code",
   "execution_count": 17,
   "metadata": {},
   "outputs": [],
   "source": [
    "# Global mapping of prolific IDs to unique new IDs\n",
    "id_mapping = {}\n",
    "\n",
    "def encrypt_prolific_ids(file_name, column_name, output_path):\n",
    "    global id_mapping\n",
    "\n",
    "    # Read the file using pandas\n",
    "    df = pd.read_csv(os.path.join(folder_path, os.path.basename(file_name)))\n",
    "\n",
    "    # Check if the column_name exists in the DataFrame\n",
    "    if column_name not in df.columns:\n",
    "        print(f\"Column '{column_name}' not found in the file.\")\n",
    "        return\n",
    "\n",
    "    # For each prolific ID, generate a unique new ID if not already in id_mapping\n",
    "    for prolific_id in df[column_name].unique():\n",
    "        if prolific_id not in id_mapping:\n",
    "            id_mapping[prolific_id] = str(uuid.uuid4())\n",
    "\n",
    "    # Replace the prolific IDs in the specified column with the corresponding unique new IDs\n",
    "    df[column_name] = df[column_name].map(id_mapping)\n",
    "\n",
    "    # Prepare the output file name\n",
    "    output_file_name = os.path.join(output_path, os.path.basename(file_name))\n",
    "\n",
    "    # Write the DataFrame to the new file\n",
    "    df.to_csv(output_file_name, index=False)\n",
    "    print(f\"File with encrypted IDs has been saved to {output_file_name}\")"
   ]
  },
  {
   "cell_type": "code",
   "execution_count": 18,
   "metadata": {},
   "outputs": [
    {
     "name": "stdout",
     "output_type": "stream",
     "text": [
      "File with encrypted IDs has been saved to final_data_encrypted_prolific_id/prolific_export_640bd0f630a99d7f77ef9361-20230313.csv\n"
     ]
    }
   ],
   "source": [
    "encrypt_prolific_ids('prolific_export_640bd0f630a99d7f77ef9361-20230313.csv', \n",
    "                     'Participant id', output_path)"
   ]
  },
  {
   "cell_type": "code",
   "execution_count": 19,
   "metadata": {},
   "outputs": [
    {
     "name": "stdout",
     "output_type": "stream",
     "text": [
      "File with encrypted IDs has been saved to final_data_encrypted_prolific_id/results-survey893947-20230313.csv\n"
     ]
    }
   ],
   "source": [
    "encrypt_prolific_ids('results-survey893947-20230313.csv', \n",
    "                     'PID', output_path)"
   ]
  },
  {
   "cell_type": "code",
   "execution_count": null,
   "metadata": {},
   "outputs": [],
   "source": []
  },
  {
   "cell_type": "code",
   "execution_count": null,
   "metadata": {},
   "outputs": [],
   "source": []
  }
 ],
 "metadata": {
  "kernelspec": {
   "display_name": "Python 3",
   "language": "python",
   "name": "python3"
  },
  "language_info": {
   "codemirror_mode": {
    "name": "ipython",
    "version": 3
   },
   "file_extension": ".py",
   "mimetype": "text/x-python",
   "name": "python",
   "nbconvert_exporter": "python",
   "pygments_lexer": "ipython3",
   "version": "3.8.5"
  }
 },
 "nbformat": 4,
 "nbformat_minor": 4
}
