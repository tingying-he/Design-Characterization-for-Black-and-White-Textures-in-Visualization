{
 "cells": [
  {
   "cell_type": "markdown",
   "metadata": {},
   "source": [
    "# Exp2 Data Analysis\n",
    "\n",
    "author: Tingying He date: 20230311\n",
    "\n",
    "Input data:\n",
    "1. Exp2 results exported from LimeSurvey (.csv)\n",
    "    * Export format:CSV\n",
    "    * General: Completed responses only\n",
    "    * Responses: Answer codes\n",
    "    * Heading Question code\n",
    "    \n",
    "2. Exp2 demographic data exported from Prolific (.csv)\n",
    "\n",
    "\n",
    "Output:\n",
    "1. Valid responses of Exp2 (a .csv file without Prolific ID)\n",
    "    * excluded responses that consent = no\n",
    "    * excluded responses that failed attention check question, and save the Prolific IDs of these responses to a list\n",
    "2. Demographics of Exp2 (gender, age, highest education)\n",
    "3. Rating of each vis per condition (a .csv file)\n",
    "    * score of BeauVis scale (mean, median, mode)\n",
    "    * score of vibratory question (mean, median, mode)\n",
    "    * count how many times is this vis ranked first per condition"
   ]
  },
  {
   "cell_type": "code",
   "execution_count": 1,
   "metadata": {},
   "outputs": [],
   "source": [
    "# import lib\n",
    "import pandas as pd\n",
    "import numpy as np\n",
    "import os\n",
    "from IPython.display import Image, display #display images\n",
    "import math\n",
    "import matplotlib.pyplot as plt\n",
    "import matplotlib.colors as mcolors"
   ]
  },
  {
   "cell_type": "code",
   "execution_count": 3,
   "metadata": {},
   "outputs": [
    {
     "data": {
      "text/html": [
       "<div>\n",
       "<style scoped>\n",
       "    .dataframe tbody tr th:only-of-type {\n",
       "        vertical-align: middle;\n",
       "    }\n",
       "\n",
       "    .dataframe tbody tr th {\n",
       "        vertical-align: top;\n",
       "    }\n",
       "\n",
       "    .dataframe thead th {\n",
       "        text-align: right;\n",
       "    }\n",
       "</style>\n",
       "<table border=\"1\" class=\"dataframe\">\n",
       "  <thead>\n",
       "    <tr style=\"text-align: right;\">\n",
       "      <th></th>\n",
       "      <th>id</th>\n",
       "      <th>submitdate</th>\n",
       "      <th>lastpage</th>\n",
       "      <th>startlanguage</th>\n",
       "      <th>seed</th>\n",
       "      <th>startdate</th>\n",
       "      <th>datestamp</th>\n",
       "      <th>PID</th>\n",
       "      <th>random</th>\n",
       "      <th>CF001</th>\n",
       "      <th>...</th>\n",
       "      <th>ReasonMapGeoTime</th>\n",
       "      <th>groupTime8657</th>\n",
       "      <th>MapIcon1Time</th>\n",
       "      <th>MapIcon2Time</th>\n",
       "      <th>MapIcon3Time</th>\n",
       "      <th>MapIcon4Time</th>\n",
       "      <th>RankMapIconTime</th>\n",
       "      <th>ReasonMapIconTime</th>\n",
       "      <th>groupTime8640</th>\n",
       "      <th>FT001Time</th>\n",
       "    </tr>\n",
       "  </thead>\n",
       "  <tbody>\n",
       "    <tr>\n",
       "      <th>0</th>\n",
       "      <td>6</td>\n",
       "      <td>2023-03-11 18:05:36</td>\n",
       "      <td>44</td>\n",
       "      <td>en</td>\n",
       "      <td>1128433390</td>\n",
       "      <td>2023-03-11 17:53:49</td>\n",
       "      <td>2023-03-11 18:05:36</td>\n",
       "      <td>c6e521a5-0831-4172-b8b2-66dfe945a24d</td>\n",
       "      <td>1</td>\n",
       "      <td>Y</td>\n",
       "      <td>...</td>\n",
       "      <td>NaN</td>\n",
       "      <td>NaN</td>\n",
       "      <td>NaN</td>\n",
       "      <td>NaN</td>\n",
       "      <td>NaN</td>\n",
       "      <td>NaN</td>\n",
       "      <td>NaN</td>\n",
       "      <td>NaN</td>\n",
       "      <td>NaN</td>\n",
       "      <td>NaN</td>\n",
       "    </tr>\n",
       "    <tr>\n",
       "      <th>1</th>\n",
       "      <td>7</td>\n",
       "      <td>2023-03-11 17:57:04</td>\n",
       "      <td>44</td>\n",
       "      <td>en</td>\n",
       "      <td>1869048242</td>\n",
       "      <td>2023-03-11 17:53:54</td>\n",
       "      <td>2023-03-11 17:57:04</td>\n",
       "      <td>d61a7259-8fe1-4a98-8100-ad38997edec7</td>\n",
       "      <td>3</td>\n",
       "      <td>Y</td>\n",
       "      <td>...</td>\n",
       "      <td>NaN</td>\n",
       "      <td>NaN</td>\n",
       "      <td>NaN</td>\n",
       "      <td>NaN</td>\n",
       "      <td>NaN</td>\n",
       "      <td>NaN</td>\n",
       "      <td>NaN</td>\n",
       "      <td>NaN</td>\n",
       "      <td>NaN</td>\n",
       "      <td>NaN</td>\n",
       "    </tr>\n",
       "    <tr>\n",
       "      <th>2</th>\n",
       "      <td>8</td>\n",
       "      <td>2023-03-11 18:05:02</td>\n",
       "      <td>44</td>\n",
       "      <td>en</td>\n",
       "      <td>386189921</td>\n",
       "      <td>2023-03-11 17:54:06</td>\n",
       "      <td>2023-03-11 18:05:02</td>\n",
       "      <td>4d862946-656c-48af-b081-f390b9cf0c26</td>\n",
       "      <td>3</td>\n",
       "      <td>Y</td>\n",
       "      <td>...</td>\n",
       "      <td>NaN</td>\n",
       "      <td>NaN</td>\n",
       "      <td>NaN</td>\n",
       "      <td>NaN</td>\n",
       "      <td>NaN</td>\n",
       "      <td>NaN</td>\n",
       "      <td>NaN</td>\n",
       "      <td>NaN</td>\n",
       "      <td>NaN</td>\n",
       "      <td>NaN</td>\n",
       "    </tr>\n",
       "    <tr>\n",
       "      <th>3</th>\n",
       "      <td>9</td>\n",
       "      <td>2023-03-11 18:10:54</td>\n",
       "      <td>44</td>\n",
       "      <td>en</td>\n",
       "      <td>1052729875</td>\n",
       "      <td>2023-03-11 17:54:39</td>\n",
       "      <td>2023-03-11 18:10:54</td>\n",
       "      <td>898bcd3a-0873-44fd-8851-026ca4b72bbb</td>\n",
       "      <td>3</td>\n",
       "      <td>Y</td>\n",
       "      <td>...</td>\n",
       "      <td>NaN</td>\n",
       "      <td>NaN</td>\n",
       "      <td>NaN</td>\n",
       "      <td>NaN</td>\n",
       "      <td>NaN</td>\n",
       "      <td>NaN</td>\n",
       "      <td>NaN</td>\n",
       "      <td>NaN</td>\n",
       "      <td>NaN</td>\n",
       "      <td>NaN</td>\n",
       "    </tr>\n",
       "    <tr>\n",
       "      <th>4</th>\n",
       "      <td>10</td>\n",
       "      <td>2023-03-11 18:06:36</td>\n",
       "      <td>44</td>\n",
       "      <td>en</td>\n",
       "      <td>1164250899</td>\n",
       "      <td>2023-03-11 17:58:07</td>\n",
       "      <td>2023-03-11 18:06:36</td>\n",
       "      <td>dddc42d1-3f72-4f37-b438-eea0cd14fca0</td>\n",
       "      <td>1</td>\n",
       "      <td>Y</td>\n",
       "      <td>...</td>\n",
       "      <td>NaN</td>\n",
       "      <td>NaN</td>\n",
       "      <td>NaN</td>\n",
       "      <td>NaN</td>\n",
       "      <td>NaN</td>\n",
       "      <td>NaN</td>\n",
       "      <td>NaN</td>\n",
       "      <td>NaN</td>\n",
       "      <td>NaN</td>\n",
       "      <td>NaN</td>\n",
       "    </tr>\n",
       "  </tbody>\n",
       "</table>\n",
       "<p>5 rows × 248 columns</p>\n",
       "</div>"
      ],
      "text/plain": [
       "   id           submitdate  lastpage startlanguage        seed  \\\n",
       "0   6  2023-03-11 18:05:36        44            en  1128433390   \n",
       "1   7  2023-03-11 17:57:04        44            en  1869048242   \n",
       "2   8  2023-03-11 18:05:02        44            en   386189921   \n",
       "3   9  2023-03-11 18:10:54        44            en  1052729875   \n",
       "4  10  2023-03-11 18:06:36        44            en  1164250899   \n",
       "\n",
       "             startdate            datestamp  \\\n",
       "0  2023-03-11 17:53:49  2023-03-11 18:05:36   \n",
       "1  2023-03-11 17:53:54  2023-03-11 17:57:04   \n",
       "2  2023-03-11 17:54:06  2023-03-11 18:05:02   \n",
       "3  2023-03-11 17:54:39  2023-03-11 18:10:54   \n",
       "4  2023-03-11 17:58:07  2023-03-11 18:06:36   \n",
       "\n",
       "                                    PID  random CF001  ... ReasonMapGeoTime  \\\n",
       "0  c6e521a5-0831-4172-b8b2-66dfe945a24d       1     Y  ...              NaN   \n",
       "1  d61a7259-8fe1-4a98-8100-ad38997edec7       3     Y  ...              NaN   \n",
       "2  4d862946-656c-48af-b081-f390b9cf0c26       3     Y  ...              NaN   \n",
       "3  898bcd3a-0873-44fd-8851-026ca4b72bbb       3     Y  ...              NaN   \n",
       "4  dddc42d1-3f72-4f37-b438-eea0cd14fca0       1     Y  ...              NaN   \n",
       "\n",
       "  groupTime8657  MapIcon1Time  MapIcon2Time  MapIcon3Time  MapIcon4Time  \\\n",
       "0           NaN           NaN           NaN           NaN           NaN   \n",
       "1           NaN           NaN           NaN           NaN           NaN   \n",
       "2           NaN           NaN           NaN           NaN           NaN   \n",
       "3           NaN           NaN           NaN           NaN           NaN   \n",
       "4           NaN           NaN           NaN           NaN           NaN   \n",
       "\n",
       "   RankMapIconTime  ReasonMapIconTime  groupTime8640  FT001Time  \n",
       "0              NaN                NaN            NaN        NaN  \n",
       "1              NaN                NaN            NaN        NaN  \n",
       "2              NaN                NaN            NaN        NaN  \n",
       "3              NaN                NaN            NaN        NaN  \n",
       "4              NaN                NaN            NaN        NaN  \n",
       "\n",
       "[5 rows x 248 columns]"
      ]
     },
     "execution_count": 3,
     "metadata": {},
     "output_type": "execute_result"
    }
   ],
   "source": [
    "# import data from LimeSurvey\n",
    "df=pd.read_csv(\"final_data/results-survey893947-20230313.csv\")\n",
    "df.head()"
   ]
  },
  {
   "cell_type": "code",
   "execution_count": 4,
   "metadata": {},
   "outputs": [
    {
     "data": {
      "text/html": [
       "<div>\n",
       "<style scoped>\n",
       "    .dataframe tbody tr th:only-of-type {\n",
       "        vertical-align: middle;\n",
       "    }\n",
       "\n",
       "    .dataframe tbody tr th {\n",
       "        vertical-align: top;\n",
       "    }\n",
       "\n",
       "    .dataframe thead th {\n",
       "        text-align: right;\n",
       "    }\n",
       "</style>\n",
       "<table border=\"1\" class=\"dataframe\">\n",
       "  <thead>\n",
       "    <tr style=\"text-align: right;\">\n",
       "      <th></th>\n",
       "      <th>Submission id</th>\n",
       "      <th>Participant id</th>\n",
       "      <th>Status</th>\n",
       "      <th>Started at</th>\n",
       "      <th>Completed at</th>\n",
       "      <th>Reviewed at</th>\n",
       "      <th>Archived at</th>\n",
       "      <th>Time taken</th>\n",
       "      <th>Completion code</th>\n",
       "      <th>Total approvals</th>\n",
       "      <th>Fluent languages</th>\n",
       "      <th>Age</th>\n",
       "      <th>Sex</th>\n",
       "      <th>Ethnicity simplified</th>\n",
       "      <th>Country of birth</th>\n",
       "      <th>Country of residence</th>\n",
       "      <th>Nationality</th>\n",
       "      <th>Language</th>\n",
       "      <th>Student status</th>\n",
       "      <th>Employment status</th>\n",
       "    </tr>\n",
       "  </thead>\n",
       "  <tbody>\n",
       "    <tr>\n",
       "      <th>0</th>\n",
       "      <td>640cb218a93da14b166ce66b</td>\n",
       "      <td>c6e521a5-0831-4172-b8b2-66dfe945a24d</td>\n",
       "      <td>APPROVED</td>\n",
       "      <td>2023-03-11T16:53:44.623000Z</td>\n",
       "      <td>2023-03-11T17:05:47.258000Z</td>\n",
       "      <td>2023-03-11T17:05:47.776000</td>\n",
       "      <td>2023-03-11T17:05:47.718520Z</td>\n",
       "      <td>723</td>\n",
       "      <td>C18N4HK9</td>\n",
       "      <td>377</td>\n",
       "      <td>Polish, English</td>\n",
       "      <td>48</td>\n",
       "      <td>Female</td>\n",
       "      <td>White</td>\n",
       "      <td>Poland</td>\n",
       "      <td>Poland</td>\n",
       "      <td>Poland</td>\n",
       "      <td>Polish</td>\n",
       "      <td>No</td>\n",
       "      <td>Full-Time</td>\n",
       "    </tr>\n",
       "    <tr>\n",
       "      <th>1</th>\n",
       "      <td>640cb2195cbcb6cb7782f0d2</td>\n",
       "      <td>4d862946-656c-48af-b081-f390b9cf0c26</td>\n",
       "      <td>APPROVED</td>\n",
       "      <td>2023-03-11T16:53:59.483000Z</td>\n",
       "      <td>2023-03-11T17:05:11.770000Z</td>\n",
       "      <td>2023-03-11T17:05:12.288000</td>\n",
       "      <td>2023-03-11T17:05:12.214161Z</td>\n",
       "      <td>673</td>\n",
       "      <td>C18N4HK9</td>\n",
       "      <td>17</td>\n",
       "      <td>English, Portuguese</td>\n",
       "      <td>22</td>\n",
       "      <td>Male</td>\n",
       "      <td>White</td>\n",
       "      <td>Portugal</td>\n",
       "      <td>Portugal</td>\n",
       "      <td>Portugal</td>\n",
       "      <td>Portuguese</td>\n",
       "      <td>Yes</td>\n",
       "      <td>Not in paid work (e.g. homemaker', 'retired or...</td>\n",
       "    </tr>\n",
       "    <tr>\n",
       "      <th>2</th>\n",
       "      <td>640cb21ef4195b9d7e2a767a</td>\n",
       "      <td>d61a7259-8fe1-4a98-8100-ad38997edec7</td>\n",
       "      <td>APPROVED</td>\n",
       "      <td>2023-03-11T16:53:51.741000Z</td>\n",
       "      <td>2023-03-11T16:57:08.730000Z</td>\n",
       "      <td>2023-03-11T16:57:09.210000</td>\n",
       "      <td>2023-03-11T16:57:09.146086Z</td>\n",
       "      <td>197</td>\n",
       "      <td>C18N4HK9</td>\n",
       "      <td>412</td>\n",
       "      <td>English</td>\n",
       "      <td>23</td>\n",
       "      <td>Female</td>\n",
       "      <td>White</td>\n",
       "      <td>United Kingdom</td>\n",
       "      <td>United Kingdom</td>\n",
       "      <td>United Kingdom</td>\n",
       "      <td>English</td>\n",
       "      <td>No</td>\n",
       "      <td>Full-Time</td>\n",
       "    </tr>\n",
       "    <tr>\n",
       "      <th>3</th>\n",
       "      <td>640cb238874d4e38282bec9b</td>\n",
       "      <td>898bcd3a-0873-44fd-8851-026ca4b72bbb</td>\n",
       "      <td>APPROVED</td>\n",
       "      <td>2023-03-11T16:54:35.218000Z</td>\n",
       "      <td>2023-03-11T17:11:03.422000Z</td>\n",
       "      <td>2023-03-11T17:11:04.135000</td>\n",
       "      <td>2023-03-11T17:11:04.057605Z</td>\n",
       "      <td>989</td>\n",
       "      <td>C18N4HK9</td>\n",
       "      <td>273</td>\n",
       "      <td>Greek, English</td>\n",
       "      <td>24</td>\n",
       "      <td>Male</td>\n",
       "      <td>White</td>\n",
       "      <td>Greece</td>\n",
       "      <td>Greece</td>\n",
       "      <td>Greece</td>\n",
       "      <td>Greek</td>\n",
       "      <td>Yes</td>\n",
       "      <td>Unemployed (and job seeking)</td>\n",
       "    </tr>\n",
       "    <tr>\n",
       "      <th>4</th>\n",
       "      <td>640cb3183d9fc174e2a493a3</td>\n",
       "      <td>dddc42d1-3f72-4f37-b438-eea0cd14fca0</td>\n",
       "      <td>APPROVED</td>\n",
       "      <td>2023-03-11T16:58:00.928000Z</td>\n",
       "      <td>2023-03-11T17:06:41.209000Z</td>\n",
       "      <td>2023-03-11T17:06:41.944000</td>\n",
       "      <td>2023-03-11T17:06:41.860476Z</td>\n",
       "      <td>521</td>\n",
       "      <td>C18N4HK9</td>\n",
       "      <td>158</td>\n",
       "      <td>English, Portuguese</td>\n",
       "      <td>20</td>\n",
       "      <td>Male</td>\n",
       "      <td>White</td>\n",
       "      <td>Portugal</td>\n",
       "      <td>Portugal</td>\n",
       "      <td>Portugal</td>\n",
       "      <td>Portuguese</td>\n",
       "      <td>Yes</td>\n",
       "      <td>Unemployed (and job seeking)</td>\n",
       "    </tr>\n",
       "  </tbody>\n",
       "</table>\n",
       "</div>"
      ],
      "text/plain": [
       "              Submission id                        Participant id    Status  \\\n",
       "0  640cb218a93da14b166ce66b  c6e521a5-0831-4172-b8b2-66dfe945a24d  APPROVED   \n",
       "1  640cb2195cbcb6cb7782f0d2  4d862946-656c-48af-b081-f390b9cf0c26  APPROVED   \n",
       "2  640cb21ef4195b9d7e2a767a  d61a7259-8fe1-4a98-8100-ad38997edec7  APPROVED   \n",
       "3  640cb238874d4e38282bec9b  898bcd3a-0873-44fd-8851-026ca4b72bbb  APPROVED   \n",
       "4  640cb3183d9fc174e2a493a3  dddc42d1-3f72-4f37-b438-eea0cd14fca0  APPROVED   \n",
       "\n",
       "                    Started at                 Completed at  \\\n",
       "0  2023-03-11T16:53:44.623000Z  2023-03-11T17:05:47.258000Z   \n",
       "1  2023-03-11T16:53:59.483000Z  2023-03-11T17:05:11.770000Z   \n",
       "2  2023-03-11T16:53:51.741000Z  2023-03-11T16:57:08.730000Z   \n",
       "3  2023-03-11T16:54:35.218000Z  2023-03-11T17:11:03.422000Z   \n",
       "4  2023-03-11T16:58:00.928000Z  2023-03-11T17:06:41.209000Z   \n",
       "\n",
       "                  Reviewed at                  Archived at  Time taken  \\\n",
       "0  2023-03-11T17:05:47.776000  2023-03-11T17:05:47.718520Z         723   \n",
       "1  2023-03-11T17:05:12.288000  2023-03-11T17:05:12.214161Z         673   \n",
       "2  2023-03-11T16:57:09.210000  2023-03-11T16:57:09.146086Z         197   \n",
       "3  2023-03-11T17:11:04.135000  2023-03-11T17:11:04.057605Z         989   \n",
       "4  2023-03-11T17:06:41.944000  2023-03-11T17:06:41.860476Z         521   \n",
       "\n",
       "  Completion code  Total approvals     Fluent languages  Age     Sex  \\\n",
       "0        C18N4HK9              377      Polish, English   48  Female   \n",
       "1        C18N4HK9               17  English, Portuguese   22    Male   \n",
       "2        C18N4HK9              412              English   23  Female   \n",
       "3        C18N4HK9              273       Greek, English   24    Male   \n",
       "4        C18N4HK9              158  English, Portuguese   20    Male   \n",
       "\n",
       "  Ethnicity simplified Country of birth Country of residence     Nationality  \\\n",
       "0                White           Poland               Poland          Poland   \n",
       "1                White         Portugal             Portugal        Portugal   \n",
       "2                White   United Kingdom       United Kingdom  United Kingdom   \n",
       "3                White           Greece               Greece          Greece   \n",
       "4                White         Portugal             Portugal        Portugal   \n",
       "\n",
       "     Language Student status  \\\n",
       "0      Polish             No   \n",
       "1  Portuguese            Yes   \n",
       "2     English             No   \n",
       "3       Greek            Yes   \n",
       "4  Portuguese            Yes   \n",
       "\n",
       "                                   Employment status  \n",
       "0                                          Full-Time  \n",
       "1  Not in paid work (e.g. homemaker', 'retired or...  \n",
       "2                                          Full-Time  \n",
       "3                       Unemployed (and job seeking)  \n",
       "4                       Unemployed (and job seeking)  "
      ]
     },
     "execution_count": 4,
     "metadata": {},
     "output_type": "execute_result"
    }
   ],
   "source": [
    "# import data from Prolific\n",
    "df_p=pd.read_csv(\"final_data/prolific_export_640bd0f630a99d7f77ef9361-20230313.csv\")\n",
    "df_p.head()"
   ]
  },
  {
   "cell_type": "code",
   "execution_count": 5,
   "metadata": {},
   "outputs": [],
   "source": [
    "# add demographics data from Prolific(df_p) to df by prolific id\n",
    "\n",
    "# columns we want to get from Prolific\n",
    "# df['status'] = ''\n",
    "df['gender'] = ''\n",
    "df['age'] = ''\n",
    "\n",
    "# write these columns\n",
    "for index, row in df.iterrows():\n",
    "    for index_p, row_p in df_p.iterrows():\n",
    "        if row['PID'] == row_p['Participant id']:\n",
    "#             df.loc[index, 'status'] = row_p['Status']\n",
    "            df.loc[index, 'gender'] = row_p['Sex']\n",
    "            df.loc[index, 'age'] = row_p['Age']"
   ]
  },
  {
   "cell_type": "markdown",
   "metadata": {},
   "source": [
    "## Select the valid answers\n",
    "1. consent form\n",
    "2. attention check questions"
   ]
  },
  {
   "cell_type": "code",
   "execution_count": 6,
   "metadata": {},
   "outputs": [
    {
     "name": "stdout",
     "output_type": "stream",
     "text": [
      "170\n"
     ]
    }
   ],
   "source": [
    "# delete no consent responses\n",
    "df=df[df['CF001']==\"Y\"]\n",
    "print(df.shape[0])"
   ]
  },
  {
   "cell_type": "code",
   "execution_count": 8,
   "metadata": {},
   "outputs": [],
   "source": [
    "# we have one attention check question in our exp2, here we delete responses that are wrong for attention check\n",
    "\n",
    "# create an empty list to store the failed PID values\n",
    "attention_failed_PID = []\n",
    "\n",
    "# iterate through each row of the dataframe\n",
    "for index, row in df.iterrows():\n",
    "    # check if the value of column \"random\" is 3 and column \"barGeo1[disagree]\" is not equal to 2\n",
    "    if row[\"random\"] == 3 and row[\"BarGeo1[disagree]\"] != 2:\n",
    "        # add the value of column \"PID\" to attention_failed_PID\n",
    "        attention_failed_PID.append(row[\"PID\"])\n",
    "        # delete the row from df\n",
    "        # Note that the inplace=True parameter in the df.drop() method is used to modify the original df dataframe.\n",
    "        df.drop(index, inplace=True)\n",
    "        \n",
    "    # check if the value of column \"random\" is 2 and column \"mapGeo1[disagree]\" is not equal to 2\n",
    "    elif row[\"random\"] == 2 and row[\"MapGeo1[disagree]\"] != 2:\n",
    "        # add the value of column \"PID\" to attention_failed_PID\n",
    "        attention_failed_PID.append(row[\"PID\"])\n",
    "        # delete the row from df\n",
    "        df.drop(index, inplace=True)\n",
    "        \n",
    "    # check if the value of column \"random\" is 1 and column \"pieGeo1[disagree]\" is not equal to 2\n",
    "    elif row[\"random\"] == 1 and row[\"PieGeo1[disagree]\"] != 2:\n",
    "        # add the value of column \"PID\" to attention_failed_PID\n",
    "        attention_failed_PID.append(row[\"PID\"])\n",
    "        # delete the row from df\n",
    "        df.drop(index, inplace=True)"
   ]
  },
  {
   "cell_type": "code",
   "execution_count": 9,
   "metadata": {},
   "outputs": [
    {
     "data": {
      "text/plain": [
       "['778a425d-4d3a-48c4-b9fc-3d5c9db2575b',\n",
       " '1a4d9c4b-6030-48b3-bfd7-4676d7e974d1',\n",
       " '78a666db-c792-46fe-bab6-e0bf92a026f9',\n",
       " 'f26c66dc-117e-449d-8cb9-4e1fa79d6504',\n",
       " 'c1a745c1-51e1-411c-8f48-af7e8fb5d2a8',\n",
       " 'd0ebe71d-ba8e-46d7-a324-18a929fc4928',\n",
       " '6ce36328-94a3-47c6-969f-82e1ee6c6d82',\n",
       " 'd0ebe71d-ba8e-46d7-a324-18a929fc4928',\n",
       " '7981a014-ac3c-49e4-a0db-3eece46b85d4',\n",
       " '7b24fc87-6377-4a38-95c4-2fedb0ec8ca0',\n",
       " '442b5733-ed44-4041-a97c-bb80842222fe',\n",
       " '9d6ea405-5a78-4547-ae9c-37338b2e9807',\n",
       " '6d4fe651-ca4f-4274-b15e-e94b3a499590',\n",
       " '5942d442-b259-4731-8cee-1747eee709f3',\n",
       " 'df664682-d36b-458c-a511-5de58ba5bbcc',\n",
       " 'e753d2a4-d1d7-44d7-9833-3289a878aac1',\n",
       " '602eabb0-e986-46f5-8261-ddeac56ae310',\n",
       " '6292811a-f508-48a0-b1cd-afdbaf0a2189',\n",
       " '7773a70c-8f71-46c0-abbf-7e6957ee4252',\n",
       " '95e221ae-0602-407b-851c-9c9e8c992cd3']"
      ]
     },
     "execution_count": 9,
     "metadata": {},
     "output_type": "execute_result"
    }
   ],
   "source": [
    "# the attention failed PID values\n",
    "attention_failed_PID"
   ]
  },
  {
   "cell_type": "code",
   "execution_count": 10,
   "metadata": {},
   "outputs": [
    {
     "name": "stdout",
     "output_type": "stream",
     "text": [
      "150\n"
     ]
    }
   ],
   "source": [
    "# number of valid answer\n",
    "print(df.shape[0])"
   ]
  },
  {
   "cell_type": "code",
   "execution_count": 11,
   "metadata": {},
   "outputs": [],
   "source": [
    "df.to_csv('generated_csv/exp2_valid_responses.csv', index=False)"
   ]
  },
  {
   "cell_type": "code",
   "execution_count": 12,
   "metadata": {},
   "outputs": [],
   "source": [
    "# drop the 'Prolific Id' column\n",
    "df_no_PID = df.drop('PID', axis=1)\n",
    "df_no_PID.to_csv('generated_csv/exp2_valid_responses_without_prolificID.csv', index=False)"
   ]
  },
  {
   "cell_type": "markdown",
   "metadata": {},
   "source": [
    "# Demographics"
   ]
  },
  {
   "cell_type": "code",
   "execution_count": 13,
   "metadata": {},
   "outputs": [],
   "source": [
    "def printDemographics(df):\n",
    "    #gender\n",
    "    male_count = len(df[df['gender'] == 'Male'])\n",
    "    female_count = len(df[df['gender'] == 'Female'])\n",
    "    other_count = len(df[(df['gender'] != 'Male') & (df['gender'] != 'Female')])\n",
    "    print(\"Gender\")\n",
    "    print(\"male:\", male_count)\n",
    "    print(\"female:\", female_count)\n",
    "    print(\"other(please check):\", other_count)\n",
    "    print()\n",
    "    \n",
    "    # age\n",
    "    print(\"Age\")\n",
    "    print(\"mean:\", np.mean(df['age']))\n",
    "    print(\"sd:\", df['age'].std())\n",
    "    print()\n",
    "    \n",
    "# bac - Bachelor (or equivalent); mas - Master (or equivalent); phd - PhD (or equivalent)\n",
    "    bachelor_count = len(df[df['education'] == 'bac'])\n",
    "    master_count = len(df[df['education'] == 'mas'])\n",
    "    phd_count = len(df[df['education'] == 'phd'])\n",
    "    other_count = len(df[(df['education'] != 'bac') & (df['education'] != 'mas') & (df['education'] != 'phd')])\n",
    "\n",
    "    print(\"Eductaion\")\n",
    "    print(\"bachelor:\", bachelor_count)\n",
    "    print(\"master:\", master_count)\n",
    "    print(\"phd:\", phd_count)\n",
    "    print(\"other:\", other_count)\n",
    "    print()"
   ]
  },
  {
   "cell_type": "code",
   "execution_count": 14,
   "metadata": {},
   "outputs": [
    {
     "name": "stdout",
     "output_type": "stream",
     "text": [
      "Gender\n",
      "male: 75\n",
      "female: 75\n",
      "other(please check): 0\n",
      "\n",
      "Age\n",
      "mean: 28.226666666666667\n",
      "sd: 8.898492947335562\n",
      "\n",
      "Eductaion\n",
      "bachelor: 87\n",
      "master: 27\n",
      "phd: 3\n",
      "other: 33\n",
      "\n"
     ]
    }
   ],
   "source": [
    "printDemographics(df)"
   ]
  },
  {
   "cell_type": "markdown",
   "metadata": {},
   "source": [
    "## Data Analysis per Condition"
   ]
  },
  {
   "cell_type": "code",
   "execution_count": 15,
   "metadata": {},
   "outputs": [
    {
     "data": {
      "text/html": [
       "<div>\n",
       "<style scoped>\n",
       "    .dataframe tbody tr th:only-of-type {\n",
       "        vertical-align: middle;\n",
       "    }\n",
       "\n",
       "    .dataframe tbody tr th {\n",
       "        vertical-align: top;\n",
       "    }\n",
       "\n",
       "    .dataframe thead th {\n",
       "        text-align: right;\n",
       "    }\n",
       "</style>\n",
       "<table border=\"1\" class=\"dataframe\">\n",
       "  <thead>\n",
       "    <tr style=\"text-align: right;\">\n",
       "      <th></th>\n",
       "      <th>id</th>\n",
       "      <th>submitdate</th>\n",
       "      <th>lastpage</th>\n",
       "      <th>startlanguage</th>\n",
       "      <th>seed</th>\n",
       "      <th>startdate</th>\n",
       "      <th>datestamp</th>\n",
       "      <th>PID</th>\n",
       "      <th>random</th>\n",
       "      <th>CF001</th>\n",
       "      <th>...</th>\n",
       "      <th>MapIcon1Time</th>\n",
       "      <th>MapIcon2Time</th>\n",
       "      <th>MapIcon3Time</th>\n",
       "      <th>MapIcon4Time</th>\n",
       "      <th>RankMapIconTime</th>\n",
       "      <th>ReasonMapIconTime</th>\n",
       "      <th>groupTime8640</th>\n",
       "      <th>FT001Time</th>\n",
       "      <th>gender</th>\n",
       "      <th>age</th>\n",
       "    </tr>\n",
       "  </thead>\n",
       "  <tbody>\n",
       "    <tr>\n",
       "      <th>0</th>\n",
       "      <td>6</td>\n",
       "      <td>2023-03-11 18:05:36</td>\n",
       "      <td>44</td>\n",
       "      <td>en</td>\n",
       "      <td>1128433390</td>\n",
       "      <td>2023-03-11 17:53:49</td>\n",
       "      <td>2023-03-11 18:05:36</td>\n",
       "      <td>c6e521a5-0831-4172-b8b2-66dfe945a24d</td>\n",
       "      <td>1</td>\n",
       "      <td>Y</td>\n",
       "      <td>...</td>\n",
       "      <td>NaN</td>\n",
       "      <td>NaN</td>\n",
       "      <td>NaN</td>\n",
       "      <td>NaN</td>\n",
       "      <td>NaN</td>\n",
       "      <td>NaN</td>\n",
       "      <td>NaN</td>\n",
       "      <td>NaN</td>\n",
       "      <td>Female</td>\n",
       "      <td>48</td>\n",
       "    </tr>\n",
       "    <tr>\n",
       "      <th>1</th>\n",
       "      <td>7</td>\n",
       "      <td>2023-03-11 17:57:04</td>\n",
       "      <td>44</td>\n",
       "      <td>en</td>\n",
       "      <td>1869048242</td>\n",
       "      <td>2023-03-11 17:53:54</td>\n",
       "      <td>2023-03-11 17:57:04</td>\n",
       "      <td>d61a7259-8fe1-4a98-8100-ad38997edec7</td>\n",
       "      <td>3</td>\n",
       "      <td>Y</td>\n",
       "      <td>...</td>\n",
       "      <td>NaN</td>\n",
       "      <td>NaN</td>\n",
       "      <td>NaN</td>\n",
       "      <td>NaN</td>\n",
       "      <td>NaN</td>\n",
       "      <td>NaN</td>\n",
       "      <td>NaN</td>\n",
       "      <td>NaN</td>\n",
       "      <td>Female</td>\n",
       "      <td>23</td>\n",
       "    </tr>\n",
       "    <tr>\n",
       "      <th>2</th>\n",
       "      <td>8</td>\n",
       "      <td>2023-03-11 18:05:02</td>\n",
       "      <td>44</td>\n",
       "      <td>en</td>\n",
       "      <td>386189921</td>\n",
       "      <td>2023-03-11 17:54:06</td>\n",
       "      <td>2023-03-11 18:05:02</td>\n",
       "      <td>4d862946-656c-48af-b081-f390b9cf0c26</td>\n",
       "      <td>3</td>\n",
       "      <td>Y</td>\n",
       "      <td>...</td>\n",
       "      <td>NaN</td>\n",
       "      <td>NaN</td>\n",
       "      <td>NaN</td>\n",
       "      <td>NaN</td>\n",
       "      <td>NaN</td>\n",
       "      <td>NaN</td>\n",
       "      <td>NaN</td>\n",
       "      <td>NaN</td>\n",
       "      <td>Male</td>\n",
       "      <td>22</td>\n",
       "    </tr>\n",
       "    <tr>\n",
       "      <th>3</th>\n",
       "      <td>9</td>\n",
       "      <td>2023-03-11 18:10:54</td>\n",
       "      <td>44</td>\n",
       "      <td>en</td>\n",
       "      <td>1052729875</td>\n",
       "      <td>2023-03-11 17:54:39</td>\n",
       "      <td>2023-03-11 18:10:54</td>\n",
       "      <td>898bcd3a-0873-44fd-8851-026ca4b72bbb</td>\n",
       "      <td>3</td>\n",
       "      <td>Y</td>\n",
       "      <td>...</td>\n",
       "      <td>NaN</td>\n",
       "      <td>NaN</td>\n",
       "      <td>NaN</td>\n",
       "      <td>NaN</td>\n",
       "      <td>NaN</td>\n",
       "      <td>NaN</td>\n",
       "      <td>NaN</td>\n",
       "      <td>NaN</td>\n",
       "      <td>Male</td>\n",
       "      <td>24</td>\n",
       "    </tr>\n",
       "    <tr>\n",
       "      <th>4</th>\n",
       "      <td>10</td>\n",
       "      <td>2023-03-11 18:06:36</td>\n",
       "      <td>44</td>\n",
       "      <td>en</td>\n",
       "      <td>1164250899</td>\n",
       "      <td>2023-03-11 17:58:07</td>\n",
       "      <td>2023-03-11 18:06:36</td>\n",
       "      <td>dddc42d1-3f72-4f37-b438-eea0cd14fca0</td>\n",
       "      <td>1</td>\n",
       "      <td>Y</td>\n",
       "      <td>...</td>\n",
       "      <td>NaN</td>\n",
       "      <td>NaN</td>\n",
       "      <td>NaN</td>\n",
       "      <td>NaN</td>\n",
       "      <td>NaN</td>\n",
       "      <td>NaN</td>\n",
       "      <td>NaN</td>\n",
       "      <td>NaN</td>\n",
       "      <td>Male</td>\n",
       "      <td>20</td>\n",
       "    </tr>\n",
       "    <tr>\n",
       "      <th>...</th>\n",
       "      <td>...</td>\n",
       "      <td>...</td>\n",
       "      <td>...</td>\n",
       "      <td>...</td>\n",
       "      <td>...</td>\n",
       "      <td>...</td>\n",
       "      <td>...</td>\n",
       "      <td>...</td>\n",
       "      <td>...</td>\n",
       "      <td>...</td>\n",
       "      <td>...</td>\n",
       "      <td>...</td>\n",
       "      <td>...</td>\n",
       "      <td>...</td>\n",
       "      <td>...</td>\n",
       "      <td>...</td>\n",
       "      <td>...</td>\n",
       "      <td>...</td>\n",
       "      <td>...</td>\n",
       "      <td>...</td>\n",
       "      <td>...</td>\n",
       "    </tr>\n",
       "    <tr>\n",
       "      <th>164</th>\n",
       "      <td>194</td>\n",
       "      <td>2023-03-12 00:02:41</td>\n",
       "      <td>44</td>\n",
       "      <td>en</td>\n",
       "      <td>15725304</td>\n",
       "      <td>2023-03-11 23:49:24</td>\n",
       "      <td>2023-03-12 00:02:41</td>\n",
       "      <td>85dc914a-3ecc-44b3-954d-b45681febb16</td>\n",
       "      <td>3</td>\n",
       "      <td>Y</td>\n",
       "      <td>...</td>\n",
       "      <td>NaN</td>\n",
       "      <td>NaN</td>\n",
       "      <td>NaN</td>\n",
       "      <td>NaN</td>\n",
       "      <td>NaN</td>\n",
       "      <td>NaN</td>\n",
       "      <td>NaN</td>\n",
       "      <td>NaN</td>\n",
       "      <td>Male</td>\n",
       "      <td>26</td>\n",
       "    </tr>\n",
       "    <tr>\n",
       "      <th>165</th>\n",
       "      <td>195</td>\n",
       "      <td>2023-03-12 00:02:30</td>\n",
       "      <td>44</td>\n",
       "      <td>en</td>\n",
       "      <td>1168536639</td>\n",
       "      <td>2023-03-11 23:59:52</td>\n",
       "      <td>2023-03-12 00:02:30</td>\n",
       "      <td>9b784ff3-e0f8-4cb8-a10c-23975147e37d</td>\n",
       "      <td>3</td>\n",
       "      <td>Y</td>\n",
       "      <td>...</td>\n",
       "      <td>NaN</td>\n",
       "      <td>NaN</td>\n",
       "      <td>NaN</td>\n",
       "      <td>NaN</td>\n",
       "      <td>NaN</td>\n",
       "      <td>NaN</td>\n",
       "      <td>NaN</td>\n",
       "      <td>NaN</td>\n",
       "      <td>Male</td>\n",
       "      <td>21</td>\n",
       "    </tr>\n",
       "    <tr>\n",
       "      <th>166</th>\n",
       "      <td>196</td>\n",
       "      <td>2023-03-12 00:24:05</td>\n",
       "      <td>44</td>\n",
       "      <td>en</td>\n",
       "      <td>1487365893</td>\n",
       "      <td>2023-03-12 00:14:47</td>\n",
       "      <td>2023-03-12 00:24:05</td>\n",
       "      <td>97ea41c5-2a01-44a2-8d7c-797dcb5fb727</td>\n",
       "      <td>1</td>\n",
       "      <td>Y</td>\n",
       "      <td>...</td>\n",
       "      <td>NaN</td>\n",
       "      <td>NaN</td>\n",
       "      <td>NaN</td>\n",
       "      <td>NaN</td>\n",
       "      <td>NaN</td>\n",
       "      <td>NaN</td>\n",
       "      <td>NaN</td>\n",
       "      <td>NaN</td>\n",
       "      <td>Female</td>\n",
       "      <td>22</td>\n",
       "    </tr>\n",
       "    <tr>\n",
       "      <th>167</th>\n",
       "      <td>197</td>\n",
       "      <td>2023-03-12 00:22:45</td>\n",
       "      <td>44</td>\n",
       "      <td>en</td>\n",
       "      <td>564918238</td>\n",
       "      <td>2023-03-12 00:15:13</td>\n",
       "      <td>2023-03-12 00:22:45</td>\n",
       "      <td>5ef08532-f678-4217-b130-555647fea1e1</td>\n",
       "      <td>2</td>\n",
       "      <td>Y</td>\n",
       "      <td>...</td>\n",
       "      <td>29.8</td>\n",
       "      <td>20.72</td>\n",
       "      <td>26.47</td>\n",
       "      <td>14.7</td>\n",
       "      <td>43.8</td>\n",
       "      <td>98.39</td>\n",
       "      <td>NaN</td>\n",
       "      <td>NaN</td>\n",
       "      <td>Female</td>\n",
       "      <td>23</td>\n",
       "    </tr>\n",
       "    <tr>\n",
       "      <th>168</th>\n",
       "      <td>198</td>\n",
       "      <td>2023-03-12 00:18:20</td>\n",
       "      <td>44</td>\n",
       "      <td>en</td>\n",
       "      <td>2092145993</td>\n",
       "      <td>2023-03-12 00:15:15</td>\n",
       "      <td>2023-03-12 00:18:20</td>\n",
       "      <td>4ac72177-ab61-40ac-96f7-b30995343665</td>\n",
       "      <td>3</td>\n",
       "      <td>Y</td>\n",
       "      <td>...</td>\n",
       "      <td>NaN</td>\n",
       "      <td>NaN</td>\n",
       "      <td>NaN</td>\n",
       "      <td>NaN</td>\n",
       "      <td>NaN</td>\n",
       "      <td>NaN</td>\n",
       "      <td>NaN</td>\n",
       "      <td>NaN</td>\n",
       "      <td>Male</td>\n",
       "      <td>29</td>\n",
       "    </tr>\n",
       "  </tbody>\n",
       "</table>\n",
       "<p>150 rows × 250 columns</p>\n",
       "</div>"
      ],
      "text/plain": [
       "      id           submitdate  lastpage startlanguage        seed  \\\n",
       "0      6  2023-03-11 18:05:36        44            en  1128433390   \n",
       "1      7  2023-03-11 17:57:04        44            en  1869048242   \n",
       "2      8  2023-03-11 18:05:02        44            en   386189921   \n",
       "3      9  2023-03-11 18:10:54        44            en  1052729875   \n",
       "4     10  2023-03-11 18:06:36        44            en  1164250899   \n",
       "..   ...                  ...       ...           ...         ...   \n",
       "164  194  2023-03-12 00:02:41        44            en    15725304   \n",
       "165  195  2023-03-12 00:02:30        44            en  1168536639   \n",
       "166  196  2023-03-12 00:24:05        44            en  1487365893   \n",
       "167  197  2023-03-12 00:22:45        44            en   564918238   \n",
       "168  198  2023-03-12 00:18:20        44            en  2092145993   \n",
       "\n",
       "               startdate            datestamp  \\\n",
       "0    2023-03-11 17:53:49  2023-03-11 18:05:36   \n",
       "1    2023-03-11 17:53:54  2023-03-11 17:57:04   \n",
       "2    2023-03-11 17:54:06  2023-03-11 18:05:02   \n",
       "3    2023-03-11 17:54:39  2023-03-11 18:10:54   \n",
       "4    2023-03-11 17:58:07  2023-03-11 18:06:36   \n",
       "..                   ...                  ...   \n",
       "164  2023-03-11 23:49:24  2023-03-12 00:02:41   \n",
       "165  2023-03-11 23:59:52  2023-03-12 00:02:30   \n",
       "166  2023-03-12 00:14:47  2023-03-12 00:24:05   \n",
       "167  2023-03-12 00:15:13  2023-03-12 00:22:45   \n",
       "168  2023-03-12 00:15:15  2023-03-12 00:18:20   \n",
       "\n",
       "                                      PID  random CF001  ... MapIcon1Time  \\\n",
       "0    c6e521a5-0831-4172-b8b2-66dfe945a24d       1     Y  ...          NaN   \n",
       "1    d61a7259-8fe1-4a98-8100-ad38997edec7       3     Y  ...          NaN   \n",
       "2    4d862946-656c-48af-b081-f390b9cf0c26       3     Y  ...          NaN   \n",
       "3    898bcd3a-0873-44fd-8851-026ca4b72bbb       3     Y  ...          NaN   \n",
       "4    dddc42d1-3f72-4f37-b438-eea0cd14fca0       1     Y  ...          NaN   \n",
       "..                                    ...     ...   ...  ...          ...   \n",
       "164  85dc914a-3ecc-44b3-954d-b45681febb16       3     Y  ...          NaN   \n",
       "165  9b784ff3-e0f8-4cb8-a10c-23975147e37d       3     Y  ...          NaN   \n",
       "166  97ea41c5-2a01-44a2-8d7c-797dcb5fb727       1     Y  ...          NaN   \n",
       "167  5ef08532-f678-4217-b130-555647fea1e1       2     Y  ...         29.8   \n",
       "168  4ac72177-ab61-40ac-96f7-b30995343665       3     Y  ...          NaN   \n",
       "\n",
       "    MapIcon2Time  MapIcon3Time  MapIcon4Time  RankMapIconTime  \\\n",
       "0            NaN           NaN           NaN              NaN   \n",
       "1            NaN           NaN           NaN              NaN   \n",
       "2            NaN           NaN           NaN              NaN   \n",
       "3            NaN           NaN           NaN              NaN   \n",
       "4            NaN           NaN           NaN              NaN   \n",
       "..           ...           ...           ...              ...   \n",
       "164          NaN           NaN           NaN              NaN   \n",
       "165          NaN           NaN           NaN              NaN   \n",
       "166          NaN           NaN           NaN              NaN   \n",
       "167        20.72         26.47          14.7             43.8   \n",
       "168          NaN           NaN           NaN              NaN   \n",
       "\n",
       "     ReasonMapIconTime  groupTime8640  FT001Time  gender  age  \n",
       "0                  NaN            NaN        NaN  Female   48  \n",
       "1                  NaN            NaN        NaN  Female   23  \n",
       "2                  NaN            NaN        NaN    Male   22  \n",
       "3                  NaN            NaN        NaN    Male   24  \n",
       "4                  NaN            NaN        NaN    Male   20  \n",
       "..                 ...            ...        ...     ...  ...  \n",
       "164                NaN            NaN        NaN    Male   26  \n",
       "165                NaN            NaN        NaN    Male   21  \n",
       "166                NaN            NaN        NaN  Female   22  \n",
       "167              98.39            NaN        NaN  Female   23  \n",
       "168                NaN            NaN        NaN    Male   29  \n",
       "\n",
       "[150 rows x 250 columns]"
      ]
     },
     "execution_count": 15,
     "metadata": {},
     "output_type": "execute_result"
    }
   ],
   "source": [
    "df"
   ]
  },
  {
   "cell_type": "code",
   "execution_count": 16,
   "metadata": {},
   "outputs": [
    {
     "data": {
      "text/plain": [
       "3    53\n",
       "2    53\n",
       "1    44\n",
       "Name: random, dtype: int64"
      ]
     },
     "execution_count": 16,
     "metadata": {},
     "output_type": "execute_result"
    }
   ],
   "source": [
    "# number of each condition\n",
    "# 1 - pie; 2 - map; 3 - bar;\n",
    "df['random'].value_counts()"
   ]
  },
  {
   "cell_type": "code",
   "execution_count": 17,
   "metadata": {},
   "outputs": [],
   "source": [
    "# Get a csv with header: \n",
    "# participant_id beauvis-bar-geo beauvis-bar-icon vibratory-bar-geo vibratory-bar-icon\n",
    "df_bar = pd.DataFrame(columns=['participant_id',\n",
    "                               'chart', # like BarGeo1\n",
    "                               'beauvis_bar_geo', \n",
    "                               'beauvis_bar_icon', \n",
    "                               'vibratory_bar_geo',\n",
    "                               'vibratory_bar_icon',\n",
    "                              ])"
   ]
  },
  {
   "cell_type": "code",
   "execution_count": 18,
   "metadata": {},
   "outputs": [],
   "source": [
    "def generate_df_per_chart_type(df, chartType, df_output):\n",
    "    \"\"\"\n",
    "    chart_type = \"Bar\", \"Pie\" or \"Map\"\n",
    "    \"\"\"\n",
    "    if chartType == \"Bar\":\n",
    "        random = 3\n",
    "    elif chartType == \"Pie\":\n",
    "        random = 1\n",
    "    elif chartType == \"Map\":\n",
    "        random = 2\n",
    "    # iterate through each row of the dataframe\n",
    "    for index, row in df.iterrows():\n",
    "        # check if the value of column \"random\" is the chart_type\n",
    "        if row[\"random\"] == random: # 1-pie, 2-map,3-bar\n",
    "            # get geo score of 4 charts, and write them into 4 rows\n",
    "            beauvis_geo1 = np.mean(row[[f\"{chartType}Geo1[enjoyable]\", f\"{chartType}Geo1[likable]\", f\"{chartType}Geo1[pleasing]\", f\"{chartType}Geo1[nice]\", f\"{chartType}Geo1[appealing]\"]])\n",
    "            new_row = {\"participant_id\": row[\"PID\"], \n",
    "                       \"chart\": f\"{chartType}Geo1\", \n",
    "                       f\"beauvis_{chartType}Geo\": beauvis_geo1,\n",
    "                       f\"vibratory_{chartType}Geo\": row[f\"{chartType}Geo1[vibratory]\"]}\n",
    "            df_output = df_output.append(new_row, ignore_index=True)\n",
    "            \n",
    "            beauvis_geo2 = np.mean(row[[f\"{chartType}Geo2[enjoyable]\", f\"{chartType}Geo2[likable]\", f\"{chartType}Geo2[pleasing]\", f\"{chartType}Geo2[nice]\", f\"{chartType}Geo2[appealing]\"]])\n",
    "            new_row = {\"participant_id\": row[\"PID\"], \n",
    "                       \"chart\": f\"{chartType}Geo2\", \n",
    "                       f\"beauvis_{chartType}Geo\": beauvis_geo2,\n",
    "                       f\"vibratory_{chartType}Geo\": row[f\"{chartType}Geo2[vibratory]\"]}\n",
    "            df_output = df_output.append(new_row, ignore_index=True)\n",
    "            \n",
    "            beauvis_geo3 = np.mean(row[[f\"{chartType}Geo3[enjoyable]\", f\"{chartType}Geo3[likable]\", f\"{chartType}Geo3[pleasing]\", f\"{chartType}Geo3[nice]\", f\"{chartType}Geo3[appealing]\"]])\n",
    "            new_row = {\"participant_id\": row[\"PID\"], \n",
    "                       \"chart\": f\"{chartType}Geo3\", \n",
    "                       f\"beauvis_{chartType}Geo\": beauvis_geo3,\n",
    "                       f\"vibratory_{chartType}Geo\": row[f\"{chartType}Geo3[vibratory]\"]}\n",
    "            df_output = df_output.append(new_row, ignore_index=True)\n",
    "            \n",
    "            beauvis_geo4 = np.mean(row[[f\"{chartType}Geo4[enjoyable]\", f\"{chartType}Geo4[likable]\", f\"{chartType}Geo4[pleasing]\", f\"{chartType}Geo4[nice]\", f\"{chartType}Geo4[appealing]\"]])\n",
    "            new_row = {\"participant_id\": row[\"PID\"], \n",
    "                       \"chart\": f\"{chartType}Geo4\", \n",
    "                       f\"beauvis_{chartType}Geo\": beauvis_geo4,\n",
    "                       f\"vibratory_{chartType}Geo\": row[f\"{chartType}Geo4[vibratory]\"]}\n",
    "            df_output = df_output.append(new_row, ignore_index=True)\n",
    "            \n",
    "            # get icon score of 4 charts, and write them into 4 rows\n",
    "            beauvis_icon1 = np.mean(row[[f\"{chartType}Icon1[enjoyable]\", f\"{chartType}Icon1[likable]\", f\"{chartType}Icon1[pleasing]\", f\"{chartType}Icon1[nice]\", f\"{chartType}Icon1[appealing]\"]])\n",
    "            new_row = {\"participant_id\": row[\"PID\"], \n",
    "                        \"chart\": f\"{chartType}Icon1\", \n",
    "                        f\"beauvis_{chartType}Icon\": beauvis_icon1,\n",
    "                        f\"vibratory_{chartType}Icon\": row[f\"{chartType}Icon1[vibratory]\"]}\n",
    "            df_output = df_output.append(new_row, ignore_index=True)\n",
    "\n",
    "            beauvis_icon2 = np.mean(row[[f\"{chartType}Icon2[enjoyable]\", f\"{chartType}Icon2[likable]\", f\"{chartType}Icon2[pleasing]\", f\"{chartType}Icon2[nice]\", f\"{chartType}Icon2[appealing]\"]])\n",
    "            new_row = {\"participant_id\": row[\"PID\"], \n",
    "                        \"chart\": f\"{chartType}Icon2\", \n",
    "                        f\"beauvis_{chartType}Icon\": beauvis_icon2,\n",
    "                        f\"vibratory_{chartType}Icon\": row[f\"{chartType}Icon2[vibratory]\"]}\n",
    "            df_output = df_output.append(new_row, ignore_index=True)\n",
    "\n",
    "            beauvis_icon3 = np.mean(row[[f\"{chartType}Icon3[enjoyable]\", f\"{chartType}Icon3[likable]\", f\"{chartType}Icon3[pleasing]\", f\"{chartType}Icon3[nice]\", f\"{chartType}Icon3[appealing]\"]])\n",
    "            new_row = {\"participant_id\": row[\"PID\"], \n",
    "                        \"chart\": f\"{chartType}Icon3\", \n",
    "                        f\"beauvis_{chartType}Icon\": beauvis_icon3,\n",
    "                        f\"vibratory_{chartType}Icon\": row[f\"{chartType}Icon3[vibratory]\"]}\n",
    "            df_output = df_output.append(new_row, ignore_index=True)\n",
    "\n",
    "            beauvis_icon4 = np.mean(row[[f\"{chartType}Icon4[enjoyable]\", f\"{chartType}Icon4[likable]\", f\"{chartType}Icon4[pleasing]\", f\"{chartType}Icon4[nice]\", f\"{chartType}Icon4[appealing]\"]])\n",
    "            new_row = {\"participant_id\": row[\"PID\"], \n",
    "                        \"chart\": f\"{chartType}Icon4\", \n",
    "                        f\"beauvis_{chartType}Icon\": beauvis_icon4,\n",
    "                        f\"vibratory_{chartType}Icon\": row[f\"{chartType}Icon4[vibratory]\"]}\n",
    "            df_output = df_output.append(new_row, ignore_index=True)\n",
    "            \n",
    "    \n",
    "    return df_output\n"
   ]
  },
  {
   "cell_type": "code",
   "execution_count": 19,
   "metadata": {},
   "outputs": [],
   "source": [
    "def generate_df_per_chart_type_average_per_participant(df, chartType, df_output):\n",
    "    \"\"\"\n",
    "    chart_type = \"Bar\", \"Pie\" or \"Map\"\n",
    "    \"\"\"\n",
    "    if chartType == \"Bar\":\n",
    "        random = 3\n",
    "    elif chartType == \"Pie\":\n",
    "        random = 1\n",
    "    elif chartType == \"Map\":\n",
    "        random = 2\n",
    "    # iterate through each row of the dataframe\n",
    "    for index, row in df.iterrows():\n",
    "        # check if the value of column \"random\" is the chart_type\n",
    "        if row[\"random\"] == random: # 1-pie, 2-map,3-bar\n",
    "            # get average geo score of 4 charts\n",
    "            beauvis_geo1 = np.mean(row[[f\"{chartType}Geo1[enjoyable]\", f\"{chartType}Geo1[likable]\", f\"{chartType}Geo1[pleasing]\", f\"{chartType}Geo1[nice]\", f\"{chartType}Geo1[appealing]\"]])\n",
    "            \n",
    "            beauvis_geo2 = np.mean(row[[f\"{chartType}Geo2[enjoyable]\", f\"{chartType}Geo2[likable]\", f\"{chartType}Geo2[pleasing]\", f\"{chartType}Geo2[nice]\", f\"{chartType}Geo2[appealing]\"]])\n",
    "           \n",
    "            beauvis_geo3 = np.mean(row[[f\"{chartType}Geo3[enjoyable]\", f\"{chartType}Geo3[likable]\", f\"{chartType}Geo3[pleasing]\", f\"{chartType}Geo3[nice]\", f\"{chartType}Geo3[appealing]\"]])\n",
    "                   \n",
    "            beauvis_geo4 = np.mean(row[[f\"{chartType}Geo4[enjoyable]\", f\"{chartType}Geo4[likable]\", f\"{chartType}Geo4[pleasing]\", f\"{chartType}Geo4[nice]\", f\"{chartType}Geo4[appealing]\"]])\n",
    "            \n",
    "            beauvis_geo = (beauvis_geo1+ beauvis_geo2+ beauvis_geo3+ beauvis_geo4)/4\n",
    "            \n",
    "            # get average icon score of 4 charts\n",
    "            beauvis_icon1 = np.mean(row[[f\"{chartType}Icon1[enjoyable]\", f\"{chartType}Icon1[likable]\", f\"{chartType}Icon1[pleasing]\", f\"{chartType}Icon1[nice]\", f\"{chartType}Icon1[appealing]\"]])\n",
    "\n",
    "            beauvis_icon2 = np.mean(row[[f\"{chartType}Icon2[enjoyable]\", f\"{chartType}Icon2[likable]\", f\"{chartType}Icon2[pleasing]\", f\"{chartType}Icon2[nice]\", f\"{chartType}Icon2[appealing]\"]])\n",
    "\n",
    "            beauvis_icon3 = np.mean(row[[f\"{chartType}Icon3[enjoyable]\", f\"{chartType}Icon3[likable]\", f\"{chartType}Icon3[pleasing]\", f\"{chartType}Icon3[nice]\", f\"{chartType}Icon3[appealing]\"]])\n",
    "\n",
    "            beauvis_icon4 = np.mean(row[[f\"{chartType}Icon4[enjoyable]\", f\"{chartType}Icon4[likable]\", f\"{chartType}Icon4[pleasing]\", f\"{chartType}Icon4[nice]\", f\"{chartType}Icon4[appealing]\"]])\n",
    "\n",
    "            beauvis_icon = (beauvis_icon1+ beauvis_icon2+ beauvis_icon3+ beauvis_icon4)/4\n",
    "            \n",
    "            vibratory_geo1 = row[f\"{chartType}Geo1[vibratory]\"]\n",
    "            vibratory_geo2 = row[f\"{chartType}Geo2[vibratory]\"]\n",
    "            vibratory_geo3 = row[f\"{chartType}Geo3[vibratory]\"]\n",
    "            vibratory_geo4 = row[f\"{chartType}Geo4[vibratory]\"]\n",
    "            \n",
    "            vibratory_geo = (vibratory_geo1 + vibratory_geo2 + vibratory_geo3 + vibratory_geo4)/4\n",
    "            \n",
    "            vibratory_icon1 = row[f\"{chartType}Icon1[vibratory]\"]\n",
    "            vibratory_icon2 = row[f\"{chartType}Icon2[vibratory]\"]\n",
    "            vibratory_icon3 = row[f\"{chartType}Icon3[vibratory]\"]\n",
    "            vibratory_icon4 = row[f\"{chartType}Icon4[vibratory]\"]\n",
    "            \n",
    "            vibratory_icon = (vibratory_icon1 + vibratory_icon2 + vibratory_icon3 + vibratory_icon4)/4\n",
    "            # get average vibratory score of 4 charts\n",
    "            new_row = {\"participant_id\": row[\"PID\"], \n",
    "                       f\"beauvis_{chartType.lower()}_geo\": beauvis_geo,\n",
    "                       f\"beauvis_{chartType.lower()}_icon\": beauvis_icon,\n",
    "                       f\"vibratory_{chartType.lower()}_geo\": vibratory_geo,\n",
    "                       f\"vibratory_{chartType.lower()}_icon\": vibratory_icon\n",
    "                      }\n",
    "            df_output = df_output.append(new_row, ignore_index=True)\n",
    "            \n",
    "    return df_output\n"
   ]
  },
  {
   "cell_type": "code",
   "execution_count": 20,
   "metadata": {},
   "outputs": [],
   "source": [
    "# create three empty dataframes with appropriate column names\n",
    "df_bar = pd.DataFrame(columns=['participant_id',\n",
    "                               'beauvis_bar_geo', \n",
    "                               'beauvis_bar_icon', \n",
    "                               'vibratory_bar_geo',\n",
    "                               'vibratory_bar_icon',\n",
    "                              ])\n",
    "\n",
    "# call the generate_df_per_chart_type function with each dataframe\n",
    "df_bar = generate_df_per_chart_type_average_per_participant(df, \"Bar\", df_bar)\n",
    "df_bar.to_csv('generated_csv/exp2_bar.csv', index=False)"
   ]
  },
  {
   "cell_type": "code",
   "execution_count": 21,
   "metadata": {},
   "outputs": [],
   "source": [
    "# create three empty dataframes with appropriate column names\n",
    "df_pie = pd.DataFrame(columns=['participant_id',\n",
    "                               'beauvis_pie_geo', \n",
    "                               'beauvis_pie_icon', \n",
    "                               'vibratory_pie_geo',\n",
    "                               'vibratory_pie_icon',\n",
    "                              ])\n",
    "\n",
    "# call the generate_df_per_chart_type function with each dataframe\n",
    "df_pie = generate_df_per_chart_type_average_per_participant(df, \"Pie\", df_pie)\n",
    "df_pie.to_csv('generated_csv/exp2_pie.csv', index=False)"
   ]
  },
  {
   "cell_type": "code",
   "execution_count": 22,
   "metadata": {},
   "outputs": [],
   "source": [
    "# create three empty dataframes with appropriate column names\n",
    "df_map = pd.DataFrame(columns=['participant_id',\n",
    "                               'beauvis_map_geo', \n",
    "                               'beauvis_map_icon', \n",
    "                               'vibratory_map_geo',\n",
    "                               'vibratory_map_icon',\n",
    "                              ])\n",
    "\n",
    "# call the generate_df_per_chart_type function with each dataframe\n",
    "df_map = generate_df_per_chart_type_average_per_participant(df, \"Map\", df_map)\n",
    "df_map.to_csv('generated_csv/exp2_map.csv', index=False)"
   ]
  },
  {
   "cell_type": "code",
   "execution_count": 23,
   "metadata": {},
   "outputs": [],
   "source": [
    "df_exp2 = pd.merge(df_bar, df_pie, on='participant_id', how='outer')\n",
    "df_exp2 = pd.merge(df_exp2, df_map, on='participant_id', how='outer')\n",
    "df_exp2.to_csv('generated_csv/exp2-data.csv', index=False)\n",
    "df_exp2.to_csv('CI-analysis/exp-data/exp2-data.csv', index=False)"
   ]
  },
  {
   "cell_type": "markdown",
   "metadata": {},
   "source": [
    "## Analysis per Image\n",
    "\n",
    "This is to calculate the beauvis scores (mean, median, mode), times of being ranked first, vibratory scores (mean, median, mode) per image"
   ]
  },
  {
   "cell_type": "code",
   "execution_count": 24,
   "metadata": {},
   "outputs": [],
   "source": [
    "# add columns in df to save the BeauVis score (mean of 5 terms)\n",
    "df['BarGeo1_beauvis'] = np.nan\n",
    "df['BarGeo2_beauvis'] = np.nan\n",
    "df['BarGeo3_beauvis'] = np.nan\n",
    "df['BarGeo4_beauvis'] = np.nan\n",
    "\n",
    "df['BarIcon1_beauvis'] = np.nan\n",
    "df['BarIcon2_beauvis'] = np.nan\n",
    "df['BarIcon3_beauvis'] = np.nan\n",
    "df['BarIcon4_beauvis'] = np.nan\n",
    "\n",
    "df['PieGeo1_beauvis'] = np.nan\n",
    "df['PieGeo2_beauvis'] = np.nan\n",
    "df['PieGeo3_beauvis'] = np.nan\n",
    "df['PieGeo4_beauvis'] = np.nan\n",
    "\n",
    "df['PieIcon1_beauvis'] = np.nan\n",
    "df['PieIcon2_beauvis'] = np.nan\n",
    "df['PieIcon3_beauvis'] = np.nan\n",
    "df['PieIcon4_beauvis'] = np.nan\n",
    "\n",
    "df['MapGeo1_beauvis'] = np.nan\n",
    "df['MapGeo2_beauvis'] = np.nan\n",
    "df['MapGeo3_beauvis'] = np.nan\n",
    "df['MapGeo4_beauvis'] = np.nan\n",
    "\n",
    "df['MapIcon1_beauvis'] = np.nan\n",
    "df['MapIcon2_beauvis'] = np.nan\n",
    "df['MapIcon3_beauvis'] = np.nan\n",
    "df['MapIcon4_beauvis'] = np.nan"
   ]
  },
  {
   "cell_type": "code",
   "execution_count": 25,
   "metadata": {},
   "outputs": [],
   "source": [
    "def calculate_scores(df, condition, chart_type, df_scores):\n",
    "    \"\"\"\n",
    "    calculate_scores calculates the BeauVis score, vibratory score and times of being ranked first in the condition\n",
    "\n",
    "    :param df: the df of valid answers\n",
    "    :param condition: such as \"BarGeo\"\n",
    "    :param chart_type: bar-3, pie-1, map-2\n",
    "    :return: scores are the scores of each vis in the condition\n",
    "    \"\"\" \n",
    "    \n",
    "    \n",
    "    \n",
    "    # iterate through each row of the dataframe\n",
    "    for index, row in df.iterrows():\n",
    "        # check if the value of column \"random\" is the chart_type\n",
    "        if row[\"random\"] == chart_type:\n",
    "            # calculate the average values of items in BeauVis for each BarGeo column\n",
    "            condition_1_beauvis = np.mean(row[[f\"{condition}1[enjoyable]\", f\"{condition}1[likable]\", f\"{condition}1[pleasing]\", f\"{condition}1[nice]\", f\"{condition}1[appealing]\"]])\n",
    "            condition_2_beauvis = np.mean(row[[f\"{condition}2[enjoyable]\", f\"{condition}2[likable]\", f\"{condition}2[pleasing]\", f\"{condition}2[nice]\", f\"{condition}2[appealing]\"]])\n",
    "            condition_3_beauvis = np.mean(row[[f\"{condition}3[enjoyable]\", f\"{condition}3[likable]\", f\"{condition}3[pleasing]\", f\"{condition}3[nice]\", f\"{condition}3[appealing]\"]])\n",
    "            condition_4_beauvis = np.mean(row[[f\"{condition}4[enjoyable]\", f\"{condition}4[likable]\", f\"{condition}4[pleasing]\", f\"{condition}4[nice]\", f\"{condition}4[appealing]\"]])\n",
    "\n",
    "            # update the value of df (the original dataframe)\n",
    "            df.loc[index, f\"{condition}1_beauvis\"] = condition_1_beauvis\n",
    "            df.loc[index, f\"{condition}2_beauvis\"] = condition_2_beauvis\n",
    "            df.loc[index, f\"{condition}3_beauvis\"] = condition_3_beauvis\n",
    "            df.loc[index, f\"{condition}4_beauvis\"] = condition_4_beauvis\n",
    "\n",
    "            \n",
    "    # BeauVis score: mean\n",
    "    condition_1_beauvis_mean = df[f\"{condition}1_beauvis\"].mean()\n",
    "    condition_2_beauvis_mean = df[f\"{condition}2_beauvis\"].mean()\n",
    "    condition_3_beauvis_mean = df[f\"{condition}3_beauvis\"].mean()\n",
    "    condition_4_beauvis_mean = df[f\"{condition}4_beauvis\"].mean()\n",
    "    \n",
    "    # BeauVis score: median\n",
    "    condition_1_beauvis_median = df[f\"{condition}1_beauvis\"].median()\n",
    "    condition_2_beauvis_median = df[f\"{condition}2_beauvis\"].median()\n",
    "    condition_3_beauvis_median = df[f\"{condition}3_beauvis\"].median()\n",
    "    condition_4_beauvis_median = df[f\"{condition}4_beauvis\"].median()\n",
    "    \n",
    "    # BeauVis score: mode\n",
    "    condition_1_beauvis_mode = df[f\"{condition}1_beauvis\"].mode().tolist()\n",
    "    condition_2_beauvis_mode = df[f\"{condition}2_beauvis\"].mode().tolist()\n",
    "    condition_3_beauvis_mode = df[f\"{condition}3_beauvis\"].mode().tolist()\n",
    "    condition_4_beauvis_mode = df[f\"{condition}4_beauvis\"].mode().tolist()\n",
    "    \n",
    "    # Vibratory score: mean\n",
    "    condition_1_vibratory_mean = df[f\"{condition}1[vibratory]\"].mean()\n",
    "    condition_2_vibratory_mean = df[f\"{condition}2[vibratory]\"].mean()\n",
    "    condition_3_vibratory_mean = df[f\"{condition}3[vibratory]\"].mean()\n",
    "    condition_4_vibratory_mean = df[f\"{condition}4[vibratory]\"].mean()\n",
    "    \n",
    "    # Vibratory score: median\n",
    "    condition_1_vibratory_median = df[f\"{condition}1[vibratory]\"].median()\n",
    "    condition_2_vibratory_median = df[f\"{condition}2[vibratory]\"].median()\n",
    "    condition_3_vibratory_median = df[f\"{condition}3[vibratory]\"].median()\n",
    "    condition_4_vibratory_median = df[f\"{condition}4[vibratory]\"].median()\n",
    "    \n",
    "    # Vibratory score: mode\n",
    "    condition_1_vibratory_mode = df[f\"{condition}1[vibratory]\"].mode().tolist()\n",
    "    condition_2_vibratory_mode = df[f\"{condition}2[vibratory]\"].mode().tolist()\n",
    "    condition_3_vibratory_mode = df[f\"{condition}3[vibratory]\"].mode().tolist()\n",
    "    condition_4_vibratory_mode = df[f\"{condition}4[vibratory]\"].mode().tolist()\n",
    "    \n",
    "    # Count the number of occurrences of this condition being ranked first\n",
    "    rank_column_name = f\"Rank{condition}[1]\" #e.g., for BarGeo condition, we target column RankBarGeo[1]\n",
    "    # We did not standardize the question codes when preparing the questionnaire, so there are \"or\" in the left side.\n",
    "    # For the bar chart, the codes for the four charts in the ranking question are like \"BG01\", \"BG02\" or \"BI01\", \"BI02\". However, for the pie chart and map, the codes are simply 1, 2, 3, 4.\n",
    "    condition_1_rankfirst = ((df[rank_column_name].apply(str).str.endswith('1')) | (df[rank_column_name] == 1)).sum()\n",
    "    condition_2_rankfirst = ((df[rank_column_name].apply(str).str.endswith('2')) | (df[rank_column_name] == 2)).sum()\n",
    "    condition_3_rankfirst = ((df[rank_column_name].apply(str).str.endswith('3')) | (df[rank_column_name] == 3)).sum()\n",
    "    condition_4_rankfirst = ((df[rank_column_name].apply(str).str.endswith('4')) | (df[rank_column_name] == 4)).sum()\n",
    "\n",
    "    \n",
    "    # create a list of data for a new row and append the new row to the DataFrame\n",
    "    new_row_condition_1 = [f\"{condition}1\", \n",
    "               condition_1_beauvis_mean,\n",
    "               condition_1_beauvis_median,\n",
    "               condition_1_beauvis_mode,\n",
    "               condition_1_rankfirst,\n",
    "               condition_1_vibratory_mean,\n",
    "               condition_1_vibratory_median,\n",
    "               condition_1_vibratory_mode\n",
    "              ]\n",
    "    # add the new row to the DataFrame\n",
    "    df_scores.loc[len(df_scores)] = new_row_condition_1\n",
    "    \n",
    "    new_row_condition_2 = [f\"{condition}2\", \n",
    "               condition_2_beauvis_mean,\n",
    "               condition_2_beauvis_median,\n",
    "               condition_2_beauvis_mode,\n",
    "               condition_2_rankfirst,\n",
    "               condition_2_vibratory_mean,\n",
    "               condition_2_vibratory_median,\n",
    "               condition_2_vibratory_mode\n",
    "              ]\n",
    "    # add the new row to the DataFrame\n",
    "    df_scores.loc[len(df_scores)] = new_row_condition_2\n",
    "    \n",
    "    new_row_condition_3 = [f\"{condition}3\", \n",
    "               condition_3_beauvis_mean,\n",
    "               condition_3_beauvis_median,\n",
    "               condition_3_beauvis_mode,\n",
    "               condition_3_rankfirst,\n",
    "               condition_3_vibratory_mean,\n",
    "               condition_3_vibratory_median,\n",
    "               condition_3_vibratory_mode\n",
    "              ]\n",
    "    # add the new row to the DataFrame\n",
    "    df_scores.loc[len(df_scores)] = new_row_condition_3\n",
    "    \n",
    "    new_row_condition_4 = [f\"{condition}4\", \n",
    "               condition_4_beauvis_mean,\n",
    "               condition_4_beauvis_median,\n",
    "               condition_4_beauvis_mode,\n",
    "               condition_4_rankfirst,\n",
    "               condition_4_vibratory_mean,\n",
    "               condition_4_vibratory_median,\n",
    "               condition_4_vibratory_mode\n",
    "              ]\n",
    "    # add the new row to the DataFrame\n",
    "    df_scores.loc[len(df_scores)] = new_row_condition_4\n",
    "   \n",
    "    return df_scores"
   ]
  },
  {
   "cell_type": "code",
   "execution_count": 26,
   "metadata": {},
   "outputs": [],
   "source": [
    "path_to_pngs = \"png_selected_design_for_experiment2/\"\n",
    "image_width = 420"
   ]
  },
  {
   "cell_type": "code",
   "execution_count": 27,
   "metadata": {},
   "outputs": [],
   "source": [
    "def display_scores(df_scores, path_to_pngs, image_width):\n",
    "    for index, row in df_scores.iterrows():\n",
    "        display(Image(filename=f\"{path_to_pngs}{row['chart']}.png\", width=image_width))\n",
    "        print(row)"
   ]
  },
  {
   "cell_type": "code",
   "execution_count": 28,
   "metadata": {},
   "outputs": [],
   "source": [
    "df_scores = pd.DataFrame(columns=['chart',\n",
    "                                      'beauvis_mean', \n",
    "                                      'beauvis_median', \n",
    "                                      'beauvis_mode', \n",
    "                                      'ranked_first',\n",
    "                                      'vibratory_mean',\n",
    "                                      'vibratory_median',\n",
    "                                      'vibratory_mode'\n",
    "                                     ])"
   ]
  },
  {
   "cell_type": "code",
   "execution_count": 29,
   "metadata": {},
   "outputs": [],
   "source": [
    "# Geometric Bars\n",
    "condition = \"BarGeo\"\n",
    "chart_type = 3\n",
    "BarGeo_scores = calculate_scores(df, condition, chart_type, df_scores)"
   ]
  },
  {
   "cell_type": "code",
   "execution_count": 30,
   "metadata": {},
   "outputs": [],
   "source": [
    "# Iconic Bars\n",
    "condition = \"BarIcon\"\n",
    "chart_type = 3\n",
    "BarIcon_scores = calculate_scores(df, condition, chart_type, df_scores)"
   ]
  },
  {
   "cell_type": "code",
   "execution_count": 31,
   "metadata": {},
   "outputs": [],
   "source": [
    "# Geometric Pies\n",
    "condition = \"PieGeo\"\n",
    "chart_type = 1\n",
    "PieGeo_scores = calculate_scores(df, condition, chart_type, df_scores)"
   ]
  },
  {
   "cell_type": "code",
   "execution_count": 32,
   "metadata": {},
   "outputs": [],
   "source": [
    "# Iconic Pies\n",
    "condition = \"PieIcon\"\n",
    "chart_type = 1\n",
    "PieIcon_scores = calculate_scores(df, condition, chart_type, df_scores)"
   ]
  },
  {
   "cell_type": "code",
   "execution_count": 33,
   "metadata": {},
   "outputs": [],
   "source": [
    "# Geometric Maps\n",
    "condition = \"MapGeo\"\n",
    "chart_type = 2\n",
    "MapGeo_scores = calculate_scores(df, condition, chart_type, df_scores)"
   ]
  },
  {
   "cell_type": "code",
   "execution_count": 34,
   "metadata": {},
   "outputs": [],
   "source": [
    "# Iconic Maps\n",
    "condition = \"MapIcon\"\n",
    "chart_type = 2\n",
    "MapIcon_scores = calculate_scores(df, condition, chart_type, df_scores)"
   ]
  },
  {
   "cell_type": "code",
   "execution_count": 35,
   "metadata": {},
   "outputs": [],
   "source": [
    "df_scores.to_csv('generated_csv/exp2_scores.csv', index=False)"
   ]
  },
  {
   "cell_type": "markdown",
   "metadata": {},
   "source": [
    "## Distribution of BeauVis score for each chart"
   ]
  },
  {
   "cell_type": "code",
   "execution_count": 36,
   "metadata": {},
   "outputs": [],
   "source": [
    "# prepare data\n",
    "def createNumberList(df, columnName):\n",
    "    \"\"\"\n",
    "    create a list of numbers from a df column, remove all nan in this column\n",
    "    \"\"\"\n",
    "    numberList = [x for x in df[columnName].tolist() if not math.isnan(x)]\n",
    "    \n",
    "    return numberList"
   ]
  },
  {
   "cell_type": "code",
   "execution_count": 37,
   "metadata": {},
   "outputs": [],
   "source": [
    "def plotDistribution(df, theme, condition, width=8, height=6, color='blue', save_pdf=False):\n",
    "    \"\"\"\n",
    "    plot beauvis score distribution.\n",
    "    condition like BarGeo\n",
    "    \"\"\"\n",
    "    for i in range(1, 5):\n",
    "        chart_beauvis = createNumberList(df, f\"{condition}{i}_{theme}\")\n",
    "        \n",
    "        # create a histogram\n",
    "        plt.hist(chart_beauvis, bins=7, range=(1,7), align='mid', color=color)\n",
    "\n",
    "        # set plot dimensions\n",
    "        plt.gcf().set_size_inches(width, height)\n",
    "\n",
    "        # remove x and y axes\n",
    "        plt.axis('off')\n",
    "\n",
    "        # save to PDF if specified\n",
    "        if save_pdf:\n",
    "            plt.savefig(f\"generated_plots/distribution_{condition}{i}_beauvis.pdf\", bbox_inches='tight')\n",
    "\n",
    "        # display histogram\n",
    "        plt.show()"
   ]
  },
  {
   "cell_type": "code",
   "execution_count": 38,
   "metadata": {},
   "outputs": [
    {
     "data": {
      "image/png": "[encoded data removed]",
      "text/plain": [
       "<Figure size 576x432 with 1 Axes>"
      ]
     },
     "metadata": {
      "needs_background": "light"
     },
     "output_type": "display_data"
    },
    {
     "data": {
      "image/png": "[encoded data removed]",
      "text/plain": [
       "<Figure size 576x432 with 1 Axes>"
      ]
     },
     "metadata": {
      "needs_background": "light"
     },
     "output_type": "display_data"
    },
    {
     "data": {
      "image/png": "[encoded data removed]",
      "text/plain": [
       "<Figure size 576x432 with 1 Axes>"
      ]
     },
     "metadata": {
      "needs_background": "light"
     },
     "output_type": "display_data"
    },
    {
     "data": {
      "image/png": "[encoded data removed]",
      "text/plain": [
       "<Figure size 576x432 with 1 Axes>"
      ]
     },
     "metadata": {
      "needs_background": "light"
     },
     "output_type": "display_data"
    },
    {
     "data": {
      "image/png": "[encoded data removed]",
      "text/plain": [
       "<Figure size 576x432 with 1 Axes>"
      ]
     },
     "metadata": {
      "needs_background": "light"
     },
     "output_type": "display_data"
    },
    {
     "data": {
      "image/png": "[encoded data removed]",
      "text/plain": [
       "<Figure size 576x432 with 1 Axes>"
      ]
     },
     "metadata": {
      "needs_background": "light"
     },
     "output_type": "display_data"
    },
    {
     "data": {
      "image/png": "[encoded data removed]",
      "text/plain": [
       "<Figure size 576x432 with 1 Axes>"
      ]
     },
     "metadata": {
      "needs_background": "light"
     },
     "output_type": "display_data"
    },
    {
     "data": {
      "image/png": "[encoded data removed]",
      "text/plain": [
       "<Figure size 576x432 with 1 Axes>"
      ]
     },
     "metadata": {
      "needs_background": "light"
     },
     "output_type": "display_data"
    },
    {
     "data": {
      "image/png": "[encoded data removed]",
      "text/plain": [
       "<Figure size 576x432 with 1 Axes>"
      ]
     },
     "metadata": {
      "needs_background": "light"
     },
     "output_type": "display_data"
    },
    {
     "data": {
      "image/png": "[encoded data removed]",
      "text/plain": [
       "<Figure size 576x432 with 1 Axes>"
      ]
     },
     "metadata": {
      "needs_background": "light"
     },
     "output_type": "display_data"
    },
    {
     "data": {
      "image/png": "[encoded data removed]",
      "text/plain": [
       "<Figure size 576x432 with 1 Axes>"
      ]
     },
     "metadata": {
      "needs_background": "light"
     },
     "output_type": "display_data"
    },
    {
     "data": {
      "image/png": "[encoded data removed]",
      "text/plain": [
       "<Figure size 576x432 with 1 Axes>"
      ]
     },
     "metadata": {
      "needs_background": "light"
     },
     "output_type": "display_data"
    },
    {
     "data": {
      "image/png": "[encoded data removed]",
      "text/plain": [
       "<Figure size 576x432 with 1 Axes>"
      ]
     },
     "metadata": {
      "needs_background": "light"
     },
     "output_type": "display_data"
    },
    {
     "data": {
      "image/png": "[encoded data removed]",
      "text/plain": [
       "<Figure size 576x432 with 1 Axes>"
      ]
     },
     "metadata": {
      "needs_background": "light"
     },
     "output_type": "display_data"
    },
    {
     "data": {
      "image/png": "[encoded data removed]",
      "text/plain": [
       "<Figure size 576x432 with 1 Axes>"
      ]
     },
     "metadata": {
      "needs_background": "light"
     },
     "output_type": "display_data"
    },
    {
     "data": {
      "image/png": "[encoded data removed]",
      "text/plain": [
       "<Figure size 576x432 with 1 Axes>"
      ]
     },
     "metadata": {
      "needs_background": "light"
     },
     "output_type": "display_data"
    },
    {
     "data": {
      "image/png": "[encoded data removed]",
      "text/plain": [
       "<Figure size 576x432 with 1 Axes>"
      ]
     },
     "metadata": {
      "needs_background": "light"
     },
     "output_type": "display_data"
    },
    {
     "data": {
      "image/png": "[encoded data removed]",
      "text/plain": [
       "<Figure size 576x432 with 1 Axes>"
      ]
     },
     "metadata": {
      "needs_background": "light"
     },
     "output_type": "display_data"
    },
    {
     "data": {
      "image/png": "[encoded data removed]",
      "text/plain": [
       "<Figure size 576x432 with 1 Axes>"
      ]
     },
     "metadata": {
      "needs_background": "light"
     },
     "output_type": "display_data"
    },
    {
     "data": {
      "image/png": "[encoded data removed]",
      "text/plain": [
       "<Figure size 576x432 with 1 Axes>"
      ]
     },
     "metadata": {
      "needs_background": "light"
     },
     "output_type": "display_data"
    },
    {
     "data": {
      "image/png": "[encoded data removed]",
      "text/plain": [
       "<Figure size 576x432 with 1 Axes>"
      ]
     },
     "metadata": {
      "needs_background": "light"
     },
     "output_type": "display_data"
    },
    {
     "data": {
      "image/png": "[encoded data removed]",
      "text/plain": [
       "<Figure size 576x432 with 1 Axes>"
      ]
     },
     "metadata": {
      "needs_background": "light"
     },
     "output_type": "display_data"
    },
    {
     "data": {
      "image/png": "[encoded data removed]",
      "text/plain": [
       "<Figure size 576x432 with 1 Axes>"
      ]
     },
     "metadata": {
      "needs_background": "light"
     },
     "output_type": "display_data"
    },
    {
     "data": {
      "image/png": "[encoded data removed]",
      "text/plain": [
       "<Figure size 576x432 with 1 Axes>"
      ]
     },
     "metadata": {
      "needs_background": "light"
     },
     "output_type": "display_data"
    }
   ],
   "source": [
    "all_condition_list = [\"BarGeo\", \"BarIcon\", \"PieGeo\", \"PieIcon\", \"MapGeo\", \"MapIcon\"]\n",
    "for condition in all_condition_list:\n",
    "    plotDistribution(df, \"beauvis\", condition, width=8, height=6, color=\"black\", save_pdf=True)"
   ]
  },
  {
   "cell_type": "code",
   "execution_count": null,
   "metadata": {},
   "outputs": [],
   "source": []
  }
 ],
 "metadata": {
  "kernelspec": {
   "display_name": "Python 3",
   "language": "python",
   "name": "python3"
  },
  "language_info": {
   "codemirror_mode": {
    "name": "ipython",
    "version": 3
   },
   "file_extension": ".py",
   "mimetype": "text/x-python",
   "name": "python",
   "nbconvert_exporter": "python",
   "pygments_lexer": "ipython3",
   "version": "3.8.5"
  }
 },
 "nbformat": 4,
 "nbformat_minor": 5
}
