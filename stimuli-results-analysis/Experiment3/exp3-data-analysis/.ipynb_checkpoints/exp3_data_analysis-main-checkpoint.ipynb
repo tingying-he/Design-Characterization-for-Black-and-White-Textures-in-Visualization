{
 "cells": [
  {
   "cell_type": "markdown",
   "id": "594082bb",
   "metadata": {},
   "source": [
    "# Exp3 Data Analysis\n",
    "\n",
    "author: Tingying He, date: 20230325\n",
    "\n",
    "\n",
    "This script is used for data preprocessing in Experiment 3 for the our paper \"Design Characterization for Black-and-White Textures in Visualization.\"\n",
    "\n",
    "To protect participants' personal information, please run another Python script \"Prolific ID encryption\" before executing this script. It will handle the encryption of Prolific IDs by replacing Prolific IDs to unique participant ids.\n",
    "\n",
    "## Input data:\n",
    "All the following data are stored in the folder final_data.\n",
    "1. Exp3 results download from our server (.csv)\n",
    "    * measurements.csv\n",
    "        * education\n",
    "        * readability score\n",
    "        * BeauVis score\n",
    "    * individual_texture: measurements of trials per participant (participant_id.csv), each trial is one row\n",
    "        * accuracy\n",
    "        * response time\n",
    "    \n",
    "2. Exp3 demographic data exported from Prolific (prolific_export_641f4d6c66bf43f77dc91ce4.csv)\n",
    "    * gender\n",
    "    * age\n",
    "\n",
    "## Output\n",
    "All generated .csv are in the generated_csv folder. Specifically, the files are used as input for CI analysis will also be written into the CI-analysis/exp-data folder. We used R to calculate CIs. The R scripts are located in the CI-analysis folder. \n",
    "\n",
    "### Basic information\n",
    "1. Valid responses of Exp3 (a .csv file without Prolific ID)\n",
    "2. Number of participants in each condition (bar/pie)\n",
    "3. Demographics (gender, age, highest education)\n",
    "\n",
    "### Files for CI analysis\n",
    "4. Seperated data files (correct_rate.csv, response_time.csv, beauvis.csv, readable.csv). These files are used as input for CI analysis. We used R to calculate CIs. The R scripts are located in the CI-analysis folder. These four files will also be written into the CI-analysis/exp-data folder.\n",
    "\n",
    "\n",
    "For correct rate, we averaged correct rate for all trials for each participant in each condition. \n",
    "\n",
    "For response time, we only counted the correct trials of participants who have reached a 90% overall correct rate (correct rate >= 90%)\n",
    "\n",
    "For BeauVis score readability, we only counted the trials of participants who have reached a 90% overall correct rate (correct rate >= 90%)\n",
    "\n",
    "We explain this analysis in detail in our paper and the appendix.\n",
    "    "
   ]
  },
  {
   "cell_type": "code",
   "execution_count": 36,
   "id": "b8c1319b",
   "metadata": {},
   "outputs": [],
   "source": [
    "# import lib\n",
    "import pandas as pd\n",
    "import matplotlib.pyplot as plt\n",
    "import numpy as np\n",
    "import scipy.stats as st\n",
    "import math\n",
    "import os\n",
    "import glob # read csv files"
   ]
  },
  {
   "cell_type": "markdown",
   "id": "db9c57e8",
   "metadata": {},
   "source": [
    "# Basic information"
   ]
  },
  {
   "cell_type": "markdown",
   "id": "c0a43ffe",
   "metadata": {},
   "source": [
    "## Import data"
   ]
  },
  {
   "cell_type": "code",
   "execution_count": 37,
   "id": "4c7a6cc6",
   "metadata": {},
   "outputs": [
    {
     "data": {
      "text/html": [
       "<div>\n",
       "<style scoped>\n",
       "    .dataframe tbody tr th:only-of-type {\n",
       "        vertical-align: middle;\n",
       "    }\n",
       "\n",
       "    .dataframe tbody tr th {\n",
       "        vertical-align: top;\n",
       "    }\n",
       "\n",
       "    .dataframe thead th {\n",
       "        text-align: right;\n",
       "    }\n",
       "</style>\n",
       "<table border=\"1\" class=\"dataframe\">\n",
       "  <thead>\n",
       "    <tr style=\"text-align: right;\">\n",
       "      <th></th>\n",
       "      <th>participant_id</th>\n",
       "      <th>study_id</th>\n",
       "      <th>session_id</th>\n",
       "      <th>condition</th>\n",
       "      <th>is_debug</th>\n",
       "      <th>exclude_reloaders</th>\n",
       "      <th>timestamp_0</th>\n",
       "      <th>browser_name</th>\n",
       "      <th>browser_version</th>\n",
       "      <th>os</th>\n",
       "      <th>...</th>\n",
       "      <th>beauvis3_bar_icon</th>\n",
       "      <th>beauvis4_bar_icon</th>\n",
       "      <th>readable_pie_icon</th>\n",
       "      <th>beauvis0_pie_icon</th>\n",
       "      <th>beauvis1_pie_icon</th>\n",
       "      <th>beauvis2_pie_icon</th>\n",
       "      <th>beauvis3_pie_icon</th>\n",
       "      <th>beauvis4_pie_icon</th>\n",
       "      <th>timestamp_98</th>\n",
       "      <th>optionalComments</th>\n",
       "    </tr>\n",
       "  </thead>\n",
       "  <tbody>\n",
       "    <tr>\n",
       "      <th>0</th>\n",
       "      <td>57b6b5b9-a92f-4b9e-806c-6f023dde730f</td>\n",
       "      <td>641f4f507c8086c2b12966b8</td>\n",
       "      <td>641f500950a46280aa19f017</td>\n",
       "      <td>bar</td>\n",
       "      <td>False</td>\n",
       "      <td>1</td>\n",
       "      <td>1679773711081</td>\n",
       "      <td>Chrome</td>\n",
       "      <td>111.0.0.0</td>\n",
       "      <td>Windows</td>\n",
       "      <td>...</td>\n",
       "      <td>6.0</td>\n",
       "      <td>6.0</td>\n",
       "      <td>NaN</td>\n",
       "      <td>NaN</td>\n",
       "      <td>NaN</td>\n",
       "      <td>NaN</td>\n",
       "      <td>NaN</td>\n",
       "      <td>NaN</td>\n",
       "      <td>1679774282918</td>\n",
       "      <td>NaN</td>\n",
       "    </tr>\n",
       "    <tr>\n",
       "      <th>1</th>\n",
       "      <td>1a5cc2e8-11db-43f4-9696-80c602fffb49</td>\n",
       "      <td>641f4f507c8086c2b12966b9</td>\n",
       "      <td>641f4fd2e1622d07fec05566</td>\n",
       "      <td>pie</td>\n",
       "      <td>False</td>\n",
       "      <td>1</td>\n",
       "      <td>1679773742913</td>\n",
       "      <td>Chrome</td>\n",
       "      <td>111.0.0.0</td>\n",
       "      <td>Windows</td>\n",
       "      <td>...</td>\n",
       "      <td>NaN</td>\n",
       "      <td>NaN</td>\n",
       "      <td>6.0</td>\n",
       "      <td>6.0</td>\n",
       "      <td>6.0</td>\n",
       "      <td>5.0</td>\n",
       "      <td>5.0</td>\n",
       "      <td>6.0</td>\n",
       "      <td>1679774929743</td>\n",
       "      <td>NaN</td>\n",
       "    </tr>\n",
       "    <tr>\n",
       "      <th>2</th>\n",
       "      <td>947936b5-e9b0-47cf-9323-8635083d65fb</td>\n",
       "      <td>641f4f507c8086c2b12966b9</td>\n",
       "      <td>641f500f09e06ae2bcac7171</td>\n",
       "      <td>pie</td>\n",
       "      <td>False</td>\n",
       "      <td>1</td>\n",
       "      <td>1679773925640</td>\n",
       "      <td>Chrome</td>\n",
       "      <td>111.0.0.0</td>\n",
       "      <td>Windows</td>\n",
       "      <td>...</td>\n",
       "      <td>NaN</td>\n",
       "      <td>NaN</td>\n",
       "      <td>4.0</td>\n",
       "      <td>7.0</td>\n",
       "      <td>7.0</td>\n",
       "      <td>7.0</td>\n",
       "      <td>7.0</td>\n",
       "      <td>7.0</td>\n",
       "      <td>1679775043993</td>\n",
       "      <td>Everything went well and I enjoyed the study a...</td>\n",
       "    </tr>\n",
       "    <tr>\n",
       "      <th>3</th>\n",
       "      <td>96f993c9-e338-4a07-b1cf-8592327966dc</td>\n",
       "      <td>641f4f507c8086c2b12966b8</td>\n",
       "      <td>641f5048b37c6fb7641a3b7b</td>\n",
       "      <td>pie</td>\n",
       "      <td>False</td>\n",
       "      <td>1</td>\n",
       "      <td>1679773787086</td>\n",
       "      <td>Chrome</td>\n",
       "      <td>111.0.0.0</td>\n",
       "      <td>Windows</td>\n",
       "      <td>...</td>\n",
       "      <td>NaN</td>\n",
       "      <td>NaN</td>\n",
       "      <td>6.0</td>\n",
       "      <td>6.0</td>\n",
       "      <td>6.0</td>\n",
       "      <td>6.0</td>\n",
       "      <td>7.0</td>\n",
       "      <td>6.0</td>\n",
       "      <td>1679775987213</td>\n",
       "      <td>NaN</td>\n",
       "    </tr>\n",
       "    <tr>\n",
       "      <th>4</th>\n",
       "      <td>bcc9876e-1d81-414a-81fa-586bfb2134eb</td>\n",
       "      <td>641f4f507c8086c2b12966b9</td>\n",
       "      <td>641f5a718d356fa41d9aeaa7</td>\n",
       "      <td>pie</td>\n",
       "      <td>False</td>\n",
       "      <td>1</td>\n",
       "      <td>1679776376504</td>\n",
       "      <td>Chrome</td>\n",
       "      <td>111.0.0.0</td>\n",
       "      <td>macOS</td>\n",
       "      <td>...</td>\n",
       "      <td>NaN</td>\n",
       "      <td>NaN</td>\n",
       "      <td>3.0</td>\n",
       "      <td>5.0</td>\n",
       "      <td>6.0</td>\n",
       "      <td>6.0</td>\n",
       "      <td>5.0</td>\n",
       "      <td>6.0</td>\n",
       "      <td>1679776964033</td>\n",
       "      <td>NaN</td>\n",
       "    </tr>\n",
       "  </tbody>\n",
       "</table>\n",
       "<p>5 rows × 147 columns</p>\n",
       "</div>"
      ],
      "text/plain": [
       "                         participant_id                  study_id  \\\n",
       "0  57b6b5b9-a92f-4b9e-806c-6f023dde730f  641f4f507c8086c2b12966b8   \n",
       "1  1a5cc2e8-11db-43f4-9696-80c602fffb49  641f4f507c8086c2b12966b9   \n",
       "2  947936b5-e9b0-47cf-9323-8635083d65fb  641f4f507c8086c2b12966b9   \n",
       "3  96f993c9-e338-4a07-b1cf-8592327966dc  641f4f507c8086c2b12966b8   \n",
       "4  bcc9876e-1d81-414a-81fa-586bfb2134eb  641f4f507c8086c2b12966b9   \n",
       "\n",
       "                 session_id condition  is_debug  exclude_reloaders  \\\n",
       "0  641f500950a46280aa19f017       bar     False                  1   \n",
       "1  641f4fd2e1622d07fec05566       pie     False                  1   \n",
       "2  641f500f09e06ae2bcac7171       pie     False                  1   \n",
       "3  641f5048b37c6fb7641a3b7b       pie     False                  1   \n",
       "4  641f5a718d356fa41d9aeaa7       pie     False                  1   \n",
       "\n",
       "     timestamp_0 browser_name browser_version       os  ... beauvis3_bar_icon  \\\n",
       "0  1679773711081       Chrome       111.0.0.0  Windows  ...               6.0   \n",
       "1  1679773742913       Chrome       111.0.0.0  Windows  ...               NaN   \n",
       "2  1679773925640       Chrome       111.0.0.0  Windows  ...               NaN   \n",
       "3  1679773787086       Chrome       111.0.0.0  Windows  ...               NaN   \n",
       "4  1679776376504       Chrome       111.0.0.0    macOS  ...               NaN   \n",
       "\n",
       "   beauvis4_bar_icon readable_pie_icon  beauvis0_pie_icon  beauvis1_pie_icon  \\\n",
       "0                6.0               NaN                NaN                NaN   \n",
       "1                NaN               6.0                6.0                6.0   \n",
       "2                NaN               4.0                7.0                7.0   \n",
       "3                NaN               6.0                6.0                6.0   \n",
       "4                NaN               3.0                5.0                6.0   \n",
       "\n",
       "   beauvis2_pie_icon  beauvis3_pie_icon  beauvis4_pie_icon   timestamp_98  \\\n",
       "0                NaN                NaN                NaN  1679774282918   \n",
       "1                5.0                5.0                6.0  1679774929743   \n",
       "2                7.0                7.0                7.0  1679775043993   \n",
       "3                6.0                7.0                6.0  1679775987213   \n",
       "4                6.0                5.0                6.0  1679776964033   \n",
       "\n",
       "                                    optionalComments  \n",
       "0                                                NaN  \n",
       "1                                                NaN  \n",
       "2  Everything went well and I enjoyed the study a...  \n",
       "3                                                NaN  \n",
       "4                                                NaN  \n",
       "\n",
       "[5 rows x 147 columns]"
      ]
     },
     "execution_count": 37,
     "metadata": {},
     "output_type": "execute_result"
    }
   ],
   "source": [
    "# import data from LimeSurvey\n",
    "df=pd.read_csv(\"final_data/measurements.csv\")\n",
    "df.head()"
   ]
  },
  {
   "cell_type": "code",
   "execution_count": 38,
   "id": "625d3073",
   "metadata": {},
   "outputs": [
    {
     "data": {
      "text/html": [
       "<div>\n",
       "<style scoped>\n",
       "    .dataframe tbody tr th:only-of-type {\n",
       "        vertical-align: middle;\n",
       "    }\n",
       "\n",
       "    .dataframe tbody tr th {\n",
       "        vertical-align: top;\n",
       "    }\n",
       "\n",
       "    .dataframe thead th {\n",
       "        text-align: right;\n",
       "    }\n",
       "</style>\n",
       "<table border=\"1\" class=\"dataframe\">\n",
       "  <thead>\n",
       "    <tr style=\"text-align: right;\">\n",
       "      <th></th>\n",
       "      <th>Submission id</th>\n",
       "      <th>Participant id</th>\n",
       "      <th>Status</th>\n",
       "      <th>Started at</th>\n",
       "      <th>Completed at</th>\n",
       "      <th>Reviewed at</th>\n",
       "      <th>Archived at</th>\n",
       "      <th>Time taken</th>\n",
       "      <th>Completion code</th>\n",
       "      <th>Total approvals</th>\n",
       "      <th>Fluent languages</th>\n",
       "      <th>Age</th>\n",
       "      <th>Sex</th>\n",
       "      <th>Ethnicity simplified</th>\n",
       "      <th>Country of birth</th>\n",
       "      <th>Country of residence</th>\n",
       "      <th>Nationality</th>\n",
       "      <th>Language</th>\n",
       "      <th>Student status</th>\n",
       "      <th>Employment status</th>\n",
       "    </tr>\n",
       "  </thead>\n",
       "  <tbody>\n",
       "    <tr>\n",
       "      <th>0</th>\n",
       "      <td>641f4fd2e1622d07fec05566</td>\n",
       "      <td>1a5cc2e8-11db-43f4-9696-80c602fffb49</td>\n",
       "      <td>AWAITING REVIEW</td>\n",
       "      <td>2023-03-25T19:48:46.811000Z</td>\n",
       "      <td>2023-03-25T20:09:03.830000Z</td>\n",
       "      <td>NaN</td>\n",
       "      <td>2023-03-25T20:09:04.289051Z</td>\n",
       "      <td>1218</td>\n",
       "      <td>CDR2RKQG</td>\n",
       "      <td>43</td>\n",
       "      <td>English</td>\n",
       "      <td>25</td>\n",
       "      <td>Female</td>\n",
       "      <td>Black</td>\n",
       "      <td>South Africa</td>\n",
       "      <td>Hungary</td>\n",
       "      <td>South Africa</td>\n",
       "      <td>English</td>\n",
       "      <td>Yes</td>\n",
       "      <td>Part-Time</td>\n",
       "    </tr>\n",
       "    <tr>\n",
       "      <th>1</th>\n",
       "      <td>641f500950a46280aa19f017</td>\n",
       "      <td>57b6b5b9-a92f-4b9e-806c-6f023dde730f</td>\n",
       "      <td>AWAITING REVIEW</td>\n",
       "      <td>2023-03-25T19:48:27.145000Z</td>\n",
       "      <td>2023-03-25T19:58:09.564000Z</td>\n",
       "      <td>NaN</td>\n",
       "      <td>2023-03-25T19:58:10.195660Z</td>\n",
       "      <td>583</td>\n",
       "      <td>CDR2RKQG</td>\n",
       "      <td>124</td>\n",
       "      <td>English, Portuguese</td>\n",
       "      <td>20</td>\n",
       "      <td>Male</td>\n",
       "      <td>White</td>\n",
       "      <td>Portugal</td>\n",
       "      <td>Portugal</td>\n",
       "      <td>Portugal</td>\n",
       "      <td>Portuguese</td>\n",
       "      <td>Yes</td>\n",
       "      <td>Unemployed (and job seeking)</td>\n",
       "    </tr>\n",
       "    <tr>\n",
       "      <th>2</th>\n",
       "      <td>641f500f09e06ae2bcac7171</td>\n",
       "      <td>947936b5-e9b0-47cf-9323-8635083d65fb</td>\n",
       "      <td>AWAITING REVIEW</td>\n",
       "      <td>2023-03-25T19:51:36.509000Z</td>\n",
       "      <td>2023-03-25T20:12:28.797000Z</td>\n",
       "      <td>NaN</td>\n",
       "      <td>2023-03-25T20:12:29.298077Z</td>\n",
       "      <td>1253</td>\n",
       "      <td>CDR2RKQG</td>\n",
       "      <td>108</td>\n",
       "      <td>Afrikaans, English</td>\n",
       "      <td>32</td>\n",
       "      <td>Female</td>\n",
       "      <td>Black</td>\n",
       "      <td>South Africa</td>\n",
       "      <td>South Africa</td>\n",
       "      <td>South Africa</td>\n",
       "      <td>English</td>\n",
       "      <td>DATA_EXPIRED</td>\n",
       "      <td>DATA_EXPIRED</td>\n",
       "    </tr>\n",
       "    <tr>\n",
       "      <th>3</th>\n",
       "      <td>641f5048b37c6fb7641a3b7b</td>\n",
       "      <td>96f993c9-e338-4a07-b1cf-8592327966dc</td>\n",
       "      <td>AWAITING REVIEW</td>\n",
       "      <td>2023-03-25T19:49:28.482000Z</td>\n",
       "      <td>2023-03-25T20:26:42.445000Z</td>\n",
       "      <td>NaN</td>\n",
       "      <td>2023-03-25T20:26:43.105111Z</td>\n",
       "      <td>2234</td>\n",
       "      <td>CDR2RKQG</td>\n",
       "      <td>241</td>\n",
       "      <td>Spanish, English</td>\n",
       "      <td>29</td>\n",
       "      <td>Male</td>\n",
       "      <td>Mixed</td>\n",
       "      <td>Mexico</td>\n",
       "      <td>Mexico</td>\n",
       "      <td>Mexico</td>\n",
       "      <td>Spanish</td>\n",
       "      <td>Yes</td>\n",
       "      <td>Unemployed (and job seeking)</td>\n",
       "    </tr>\n",
       "    <tr>\n",
       "      <th>4</th>\n",
       "      <td>641f5a4346c497b1deff68bb</td>\n",
       "      <td>63986aae-ac83-48f4-a925-523362687985</td>\n",
       "      <td>AWAITING REVIEW</td>\n",
       "      <td>2023-03-25T20:32:03.666000Z</td>\n",
       "      <td>2023-03-25T20:44:22.791000Z</td>\n",
       "      <td>NaN</td>\n",
       "      <td>2023-03-25T20:44:23.147554Z</td>\n",
       "      <td>740</td>\n",
       "      <td>CDR2RKQG</td>\n",
       "      <td>242</td>\n",
       "      <td>English, Polish</td>\n",
       "      <td>21</td>\n",
       "      <td>Male</td>\n",
       "      <td>White</td>\n",
       "      <td>Poland</td>\n",
       "      <td>Poland</td>\n",
       "      <td>Poland</td>\n",
       "      <td>Polish</td>\n",
       "      <td>Yes</td>\n",
       "      <td>Other</td>\n",
       "    </tr>\n",
       "  </tbody>\n",
       "</table>\n",
       "</div>"
      ],
      "text/plain": [
       "              Submission id                        Participant id  \\\n",
       "0  641f4fd2e1622d07fec05566  1a5cc2e8-11db-43f4-9696-80c602fffb49   \n",
       "1  641f500950a46280aa19f017  57b6b5b9-a92f-4b9e-806c-6f023dde730f   \n",
       "2  641f500f09e06ae2bcac7171  947936b5-e9b0-47cf-9323-8635083d65fb   \n",
       "3  641f5048b37c6fb7641a3b7b  96f993c9-e338-4a07-b1cf-8592327966dc   \n",
       "4  641f5a4346c497b1deff68bb  63986aae-ac83-48f4-a925-523362687985   \n",
       "\n",
       "            Status                   Started at                 Completed at  \\\n",
       "0  AWAITING REVIEW  2023-03-25T19:48:46.811000Z  2023-03-25T20:09:03.830000Z   \n",
       "1  AWAITING REVIEW  2023-03-25T19:48:27.145000Z  2023-03-25T19:58:09.564000Z   \n",
       "2  AWAITING REVIEW  2023-03-25T19:51:36.509000Z  2023-03-25T20:12:28.797000Z   \n",
       "3  AWAITING REVIEW  2023-03-25T19:49:28.482000Z  2023-03-25T20:26:42.445000Z   \n",
       "4  AWAITING REVIEW  2023-03-25T20:32:03.666000Z  2023-03-25T20:44:22.791000Z   \n",
       "\n",
       "   Reviewed at                  Archived at  Time taken Completion code  \\\n",
       "0          NaN  2023-03-25T20:09:04.289051Z        1218        CDR2RKQG   \n",
       "1          NaN  2023-03-25T19:58:10.195660Z         583        CDR2RKQG   \n",
       "2          NaN  2023-03-25T20:12:29.298077Z        1253        CDR2RKQG   \n",
       "3          NaN  2023-03-25T20:26:43.105111Z        2234        CDR2RKQG   \n",
       "4          NaN  2023-03-25T20:44:23.147554Z         740        CDR2RKQG   \n",
       "\n",
       "   Total approvals     Fluent languages  Age     Sex Ethnicity simplified  \\\n",
       "0               43              English   25  Female                Black   \n",
       "1              124  English, Portuguese   20    Male                White   \n",
       "2              108   Afrikaans, English   32  Female                Black   \n",
       "3              241     Spanish, English   29    Male                Mixed   \n",
       "4              242      English, Polish   21    Male                White   \n",
       "\n",
       "  Country of birth Country of residence   Nationality    Language  \\\n",
       "0     South Africa              Hungary  South Africa     English   \n",
       "1         Portugal             Portugal      Portugal  Portuguese   \n",
       "2     South Africa         South Africa  South Africa     English   \n",
       "3           Mexico               Mexico        Mexico     Spanish   \n",
       "4           Poland               Poland        Poland      Polish   \n",
       "\n",
       "  Student status             Employment status  \n",
       "0            Yes                     Part-Time  \n",
       "1            Yes  Unemployed (and job seeking)  \n",
       "2   DATA_EXPIRED                  DATA_EXPIRED  \n",
       "3            Yes  Unemployed (and job seeking)  \n",
       "4            Yes                         Other  "
      ]
     },
     "execution_count": 38,
     "metadata": {},
     "output_type": "execute_result"
    }
   ],
   "source": [
    "# import data from Prolific\n",
    "df_p=pd.read_csv(\"final_data/prolific_export_641f4d6c66bf43f77dc91ce4.csv\")\n",
    "df_p.head()"
   ]
  },
  {
   "cell_type": "code",
   "execution_count": 39,
   "id": "8d7555a9",
   "metadata": {},
   "outputs": [],
   "source": [
    "# Set the folder path (for importing the files in the individual_texture folder)\n",
    "folder_path = 'final_data/individual_texture'"
   ]
  },
  {
   "cell_type": "code",
   "execution_count": 40,
   "id": "ec5d4e68",
   "metadata": {},
   "outputs": [],
   "source": [
    "# add demographics data from Prolific(df_p) to df by prolific id\n",
    "\n",
    "# columns we want to get from Prolific\n",
    "df['gender'] = ''\n",
    "df['age'] = ''\n",
    "\n",
    "# write these columns\n",
    "for index, row in df.iterrows():\n",
    "    for index_p, row_p in df_p.iterrows():\n",
    "        if row['participant_id'] == row_p['Participant id']:\n",
    "            df.loc[index, 'gender'] = row_p['Sex']\n",
    "            df.loc[index, 'age'] = row_p['Age']"
   ]
  },
  {
   "cell_type": "code",
   "execution_count": 41,
   "id": "7c1de10a",
   "metadata": {},
   "outputs": [
    {
     "data": {
      "text/plain": [
       "pie    83\n",
       "bar    67\n",
       "Name: condition, dtype: int64"
      ]
     },
     "execution_count": 41,
     "metadata": {},
     "output_type": "execute_result"
    }
   ],
   "source": [
    "# check condition balance\n",
    "df['condition'].value_counts()"
   ]
  },
  {
   "cell_type": "markdown",
   "id": "333102dc",
   "metadata": {},
   "source": [
    "## Select valid data"
   ]
  },
  {
   "cell_type": "code",
   "execution_count": 42,
   "id": "64ceeeaa",
   "metadata": {},
   "outputs": [],
   "source": [
    "df.to_csv('generated_csv/exp3_valid_responses.csv', index=False)"
   ]
  },
  {
   "cell_type": "code",
   "execution_count": 43,
   "id": "7419bbb1",
   "metadata": {},
   "outputs": [],
   "source": [
    "# drop the 'Prolific Id' column\n",
    "df_no_PID = df.drop('participant_id', axis=1)\n",
    "df_no_PID.to_csv('generated_csv/exp3_valid_responses_without_prolificID.csv', index=False)"
   ]
  },
  {
   "cell_type": "markdown",
   "id": "74480ef2",
   "metadata": {},
   "source": [
    "## Demographics"
   ]
  },
  {
   "cell_type": "code",
   "execution_count": 44,
   "id": "ff24c3dd",
   "metadata": {},
   "outputs": [],
   "source": [
    "def printDemographics(df):\n",
    "    #gender\n",
    "    male_count = len(df[df['gender'] == 'Male'])\n",
    "    female_count = len(df[df['gender'] == 'Female'])\n",
    "    other_count = len(df[(df['gender'] != 'Male') & (df['gender'] != 'Female')])\n",
    "    print(\"Gender\")\n",
    "    print(\"male:\", male_count)\n",
    "    print(\"female:\", female_count)\n",
    "    print(\"other(please check):\", other_count)\n",
    "    print()\n",
    "    \n",
    "    # age\n",
    "    print(\"Age\")\n",
    "    print(\"mean:\", np.mean(df['age']))\n",
    "    print(\"sd:\", df['age'].std())\n",
    "    print()\n",
    "    \n",
    "\n",
    "    bachelor_count = len(df[df['education'] == 'bachelor'])\n",
    "    master_count = len(df[df['education'] == 'master'])\n",
    "    phd_count = len(df[df['education'] == 'phd'])\n",
    "    other_count = len(df[(df['education'] != 'bachelor') & (df['education'] != 'master') & (df['education'] != 'phd')])\n",
    "\n",
    "    print(\"Eductaion\")\n",
    "    print(\"bachelor:\", bachelor_count)\n",
    "    print(\"master:\", master_count)\n",
    "    print(\"phd:\", phd_count)\n",
    "    print(\"other:\", other_count)\n",
    "    print()"
   ]
  },
  {
   "cell_type": "code",
   "execution_count": 45,
   "id": "7814e675",
   "metadata": {},
   "outputs": [
    {
     "name": "stdout",
     "output_type": "stream",
     "text": [
      "Gender\n",
      "male: 76\n",
      "female: 74\n",
      "other(please check): 0\n",
      "\n",
      "Age\n",
      "mean: 27.966666666666665\n",
      "sd: 8.062188377343173\n",
      "\n",
      "Eductaion\n",
      "bachelor: 99\n",
      "master: 23\n",
      "phd: 1\n",
      "other: 27\n",
      "\n"
     ]
    }
   ],
   "source": [
    "printDemographics(df)"
   ]
  },
  {
   "cell_type": "code",
   "execution_count": 46,
   "id": "3d3b2a65",
   "metadata": {},
   "outputs": [
    {
     "name": "stdout",
     "output_type": "stream",
     "text": [
      "Gender\n",
      "male: 39\n",
      "female: 28\n",
      "other(please check): 0\n",
      "\n",
      "Age\n",
      "mean: 27.865671641791046\n",
      "sd: 8.112645427352362\n",
      "\n",
      "Eductaion\n",
      "bachelor: 48\n",
      "master: 12\n",
      "phd: 1\n",
      "other: 6\n",
      "\n"
     ]
    }
   ],
   "source": [
    "printDemographics(df[df['condition'] == 'bar'])"
   ]
  },
  {
   "cell_type": "code",
   "execution_count": 47,
   "id": "445b55bc",
   "metadata": {},
   "outputs": [
    {
     "data": {
      "text/plain": [
       "67"
      ]
     },
     "execution_count": 47,
     "metadata": {},
     "output_type": "execute_result"
    }
   ],
   "source": [
    "len(df[df['condition'] == 'bar'])"
   ]
  },
  {
   "cell_type": "code",
   "execution_count": 48,
   "id": "5d270e6d",
   "metadata": {},
   "outputs": [
    {
     "data": {
      "text/plain": [
       "83"
      ]
     },
     "execution_count": 48,
     "metadata": {},
     "output_type": "execute_result"
    }
   ],
   "source": [
    "len(df[df['condition'] == 'pie'])"
   ]
  },
  {
   "cell_type": "code",
   "execution_count": 49,
   "id": "8eca94e0",
   "metadata": {},
   "outputs": [
    {
     "name": "stdout",
     "output_type": "stream",
     "text": [
      "Gender\n",
      "male: 37\n",
      "female: 46\n",
      "other(please check): 0\n",
      "\n",
      "Age\n",
      "mean: 28.048192771084338\n",
      "sd: 8.069671638463987\n",
      "\n",
      "Eductaion\n",
      "bachelor: 51\n",
      "master: 11\n",
      "phd: 0\n",
      "other: 21\n",
      "\n"
     ]
    }
   ],
   "source": [
    "printDemographics(df[df['condition'] == 'pie'])"
   ]
  },
  {
   "cell_type": "markdown",
   "id": "88f569e8",
   "metadata": {},
   "source": [
    "# Data analysis"
   ]
  },
  {
   "cell_type": "markdown",
   "id": "0346bb18",
   "metadata": {},
   "source": [
    "### Accuracy (correct rate)"
   ]
  },
  {
   "cell_type": "code",
   "execution_count": 50,
   "id": "09e21171",
   "metadata": {},
   "outputs": [],
   "source": [
    "# Find all CSV files in the individual_texture folder\n",
    "csv_files = glob.glob(os.path.join(folder_path, '*.csv'))\n",
    "\n",
    "# Define error rate data frame\n",
    "correct_rate_columns = ['participant_id', \n",
    "                        'correct_rate_bar_geo', \n",
    "                        'correct_rate_bar_icon', \n",
    "                        'correct_rate_bar_color', \n",
    "                        'correct_rate_pie_geo', \n",
    "                        'correct_rate_pie_icon', \n",
    "                        'correct_rate_pie_color']\n",
    "df_correct_rate = pd.DataFrame(columns=correct_rate_columns)\n",
    "\n",
    "\n",
    "# Define error rate data frame\n",
    "response_time_columns = ['participant_id', \n",
    "                        'response_time_bar_geo', \n",
    "                        'response_time_bar_icon', \n",
    "                        'response_time_bar_color', \n",
    "                        'response_time_pie_geo', \n",
    "                        'response_time_pie_icon', \n",
    "                        'response_time_pie_color']\n",
    "df_response_time = pd.DataFrame(columns=response_time_columns)"
   ]
  },
  {
   "cell_type": "code",
   "execution_count": 51,
   "id": "977789a0",
   "metadata": {},
   "outputs": [],
   "source": [
    "def get_correct_rate(df_file, texture_condition):\n",
    "    \"\"\"\n",
    "    This function is to calculate the correct rate in a condition per participant.\n",
    "    df_file: one file in individual _texture, which records all trials of a participant.\n",
    "    \"\"\"\n",
    "    df_file_filtered = df_file[(df_file['trial_type'] == 'real') &\n",
    "             (df_file['texture_condition'] == texture_condition)]\n",
    "    # find out the real trials(not training trails), and the texture condition we want\n",
    "    total_rows = len(df_file_filtered)\n",
    "    correct_rows = len(df_file_filtered[df_file_filtered['answer_accuracy'] == 1])\n",
    "    correct_rate = (correct_rows / total_rows) * 100\n",
    "    \n",
    "    return correct_rate"
   ]
  },
  {
   "cell_type": "code",
   "execution_count": 52,
   "id": "8f332007",
   "metadata": {},
   "outputs": [],
   "source": [
    "def get_overall_correct_rate(df_file):\n",
    "    \"\"\"\n",
    "    This function is to calculate the overall correct rate per participant.\n",
    "    df_file: one file in individual _texture, which records all trials of a participant.\n",
    "    \"\"\"\n",
    "    df_file_filtered = df_file[(df_file['trial_type'] == 'real')]\n",
    "    # find out the real trials(not training trails), and the texture condition we want\n",
    "    total_rows = len(df_file_filtered)\n",
    "    correct_rows = len(df_file_filtered[df_file_filtered['answer_accuracy'] == 1])\n",
    "    correct_rate = (correct_rows / total_rows) * 100\n",
    "    \n",
    "    return correct_rate"
   ]
  },
  {
   "cell_type": "markdown",
   "id": "aafb661d",
   "metadata": {},
   "source": [
    "### Response time"
   ]
  },
  {
   "cell_type": "code",
   "execution_count": 53,
   "id": "26d47bc2",
   "metadata": {},
   "outputs": [],
   "source": [
    "def get_response_time(df_file, texture_condition):\n",
    "    \"\"\"\n",
    "    This function is to calculate the response time per participant in a condition. \n",
    "    We average all trials each participant did.\n",
    "    df_file: one file in individual _texture, which records all trials of a participant.\n",
    "    \"\"\"\n",
    "    df_file_filtered = df_file[(df_file['trial_type'] == 'real') &\n",
    "             (df_file['texture_condition'] == texture_condition)& # find out the real trials(not training trails), and the texture condition we want\n",
    "             (df_file['answer_accuracy'] == 1)] # We only count correct trials\n",
    "    avg_response_time = df_file_filtered['elapsed_time'].mean()\n",
    "    \n",
    "    return avg_response_time"
   ]
  },
  {
   "cell_type": "code",
   "execution_count": 54,
   "id": "5edebe80",
   "metadata": {},
   "outputs": [],
   "source": [
    "# def get_response_time(df_file, texture_condition):\n",
    "#     \"\"\"\n",
    "#     This function is to calculate the response time per participant in a condition. We average all trials each participant did.\n",
    "#     df_file: one file in individual _texture, which records all trials of a participant.\n",
    "#     \"\"\"\n",
    "#     df_file_filtered = df_file[(df_file['trial_type'] == 'real') &\n",
    "#              (df_file['texture_condition'] == texture_condition)& # find out the real trials(not training trails), and the texture condition we want\n",
    "#              (df_file['answer_accuracy'] != -1)] # We exclude the time-out trials\n",
    "#     avg_response_time = df_file_filtered['elapsed_time'].mean()\n",
    "    \n",
    "#     return avg_response_time"
   ]
  },
  {
   "cell_type": "code",
   "execution_count": 55,
   "id": "79299937",
   "metadata": {},
   "outputs": [],
   "source": [
    "# def get_response_time(df_file, texture_condition):\n",
    "#     \"\"\"\n",
    "#     This function is to calculate the response time per participant in a condition. We average all trials each participant did.\n",
    "#     df_file: one file in individual _texture, which records all trials of a participant.\n",
    "#     \"\"\"\n",
    "#     df_file_filtered = df_file[(df_file['trial_type'] == 'real') &\n",
    "#              (df_file['texture_condition'] == texture_condition)] # find out the real trials(not training trails), and the texture condition we want\n",
    "\n",
    "#     avg_response_time = df_file_filtered['elapsed_time'].mean()\n",
    "    \n",
    "#     return avg_response_time"
   ]
  },
  {
   "cell_type": "code",
   "execution_count": 56,
   "id": "ca28db21",
   "metadata": {},
   "outputs": [
    {
     "name": "stdout",
     "output_type": "stream",
     "text": [
      "15c18f93-9d69-46cc-ad91-f2e92c74d36e.csv has 93.33333333333333% correct rate\n",
      "de190f7f-01d5-4a2d-95d5-65c327ffa9e3.csv has 96.66666666666667% correct rate\n",
      "a78c502f-57d2-4640-a6aa-508c7d73b03b.csv has 100.0% correct rate\n",
      "0026e5fb-0d1f-4c91-afcb-d1e7101ba249.csv has 95.0% correct rate\n",
      "b993fd5c-f9c0-4b38-a04c-a35c406a5f3e.csv has 95.0% correct rate\n",
      "947936b5-e9b0-47cf-9323-8635083d65fb.csv has 90.0% correct rate\n",
      "1ad742bb-a845-4016-82a2-7eb997759d00.csv has 95.0% correct rate\n",
      "b732bba2-460e-4db5-b534-b913ec044a5d.csv has 95.0% correct rate\n",
      "4ddb383d-d833-4e69-848a-fda769d52f60.csv has 93.33333333333333% correct rate\n",
      "d56a1da9-e307-4d72-a0f8-65c00242aa96.csv has 90.0% correct rate\n",
      "96f993c9-e338-4a07-b1cf-8592327966dc.csv has 91.66666666666666% correct rate\n",
      "31955294-3b9f-48e1-9490-deb1a5f40565.csv has 93.33333333333333% correct rate\n",
      "c599c211-cca9-4710-a63d-ac03d1c8ea68.csv has 93.33333333333333% correct rate\n",
      "1a5cc2e8-11db-43f4-9696-80c602fffb49.csv has 93.33333333333333% correct rate\n",
      "637053e5-70e8-41b2-9985-6331fd06ca96.csv has 95.0% correct rate\n",
      "9405acc5-0dbb-40be-ba00-5ec6ef7dd4e3.csv has 90.0% correct rate\n",
      "77c446b1-e93e-4d4a-9b0b-3ead21e08f18.csv has 95.0% correct rate\n",
      "5feacd71-a4b0-44a8-ba4b-38ef982b0043.csv has 90.0% correct rate\n",
      "bd443b29-c89d-4eef-91c0-f6ac0bd9bdd2.csv has 100.0% correct rate\n",
      "881cbb8c-c0a5-43ae-81dc-42d181fe5f0a.csv has 91.66666666666666% correct rate\n",
      "545df376-22b2-442a-b4d9-ddcd80922ef3.csv has 91.66666666666666% correct rate\n",
      "66948349-4522-4bf3-a790-84a8a0412427.csv has 90.0% correct rate\n",
      "f262eed8-3076-44e7-9747-06f571483909.csv has 95.0% correct rate\n",
      "a075a675-d758-4957-9349-3458c4ed90b6.csv has 95.0% correct rate\n",
      "5b1f2d9a-eb80-4e99-925c-a408301b1ac9.csv has 96.66666666666667% correct rate\n",
      "419603f3-e6a2-4e4e-8e6b-c716cbe63607.csv has 91.66666666666666% correct rate\n",
      "6ec84b99-9a7a-40f1-8384-b4f9b80a8f8f.csv has 100.0% correct rate\n",
      "bddc7cf8-a54c-45a3-8301-b6e8887b3fc9.csv has 77 rows instead of 78\n",
      "d031e23e-deb1-42c4-9c84-60514ff51330.csv has 90.0% correct rate\n",
      "06acf264-8a0b-4f1a-beea-8d32a6eabe6d.csv has 94.44444444444444% correct rate\n",
      "06acf264-8a0b-4f1a-beea-8d32a6eabe6d.csv has 70 rows instead of 78\n",
      "f987d7d8-83e6-404f-8ae4-09ac21fda356.csv has 91.66666666666666% correct rate\n",
      "ca384519-81e3-4ef9-b313-fa3ce418cf70.csv has 96.66666666666667% correct rate\n",
      "de62071a-0867-4561-8b25-4bb93a9c9621.csv has 95.0% correct rate\n",
      "5188f5ba-3ddf-4822-8e9d-137330605c17.csv has 98.33333333333333% correct rate\n",
      "a196f703-414e-4de0-b0e3-d7a033066f4c.csv has 98.33333333333333% correct rate\n",
      "b8a8958e-6c4b-4e66-ad20-cf45369d2970.csv has 90.0% correct rate\n",
      "5b30626d-41c5-48a3-888d-7095b96f8e11.csv has 100.0% correct rate\n",
      "5b4023a3-f786-4be2-8ef0-ff01e42a4a72.csv has 77 rows instead of 78\n",
      "2f0799b6-fb51-4b21-be3e-7aaad8e85cf5.csv has 91.66666666666666% correct rate\n",
      "e00d843e-2ce2-4adf-b823-e80a663aeb13.csv has 91.66666666666666% correct rate\n",
      "4575876b-a71e-4929-ae41-bca1a872ff3e.csv has 93.33333333333333% correct rate\n",
      "4e15472b-0299-4327-a748-9fcb12535f1e.csv has 93.33333333333333% correct rate\n",
      "43433db4-10cd-4d93-83e7-88d8661cbb7e.csv has 95.0% correct rate\n",
      "1c31ec36-99f9-4acd-b285-e4ff95c23020.csv has 90.0% correct rate\n",
      "a9e0d56f-0aa9-4db7-910c-74ce4fe54d46.csv has 98.33333333333333% correct rate\n",
      "75b9d19d-0624-4b83-8dfc-b160248c7744.csv has 95.0% correct rate\n",
      "fd289aaa-48ec-40f0-a26f-f88967203582.csv has 77 rows instead of 78\n",
      "278ae2bd-1ee7-4100-867c-8d0b6c0fb7ae.csv has 90.0% correct rate\n",
      "57b6b5b9-a92f-4b9e-806c-6f023dde730f.csv has 96.66666666666667% correct rate\n",
      "df3a52b2-4dcf-4c4f-8aa5-529d6c9214d2.csv has 91.52542372881356% correct rate\n",
      "df3a52b2-4dcf-4c4f-8aa5-529d6c9214d2.csv has 77 rows instead of 78\n",
      "1e578af3-b7d0-47ee-b4c0-90cc6ad9ab65.csv has 90.0% correct rate\n",
      "db3bf273-5273-4ee7-9450-8320c4e3c28a.csv has 90.0% correct rate\n",
      "1c30cc97-8af2-484d-8e4f-06bfc928722a.csv has 98.33333333333333% correct rate\n",
      "0c1369a3-8ef0-442f-bfa2-1e3ae17c6661.csv has 90.0% correct rate\n",
      "8fa05d6b-fda7-477e-a140-e96424aab50c.csv has 95.0% correct rate\n",
      "e6e9366d-01c4-43bb-9850-111ca887b793.csv has 91.66666666666666% correct rate\n",
      "58b780d1-82e8-498e-8029-a122d2eef553.csv has 98.33333333333333% correct rate\n",
      "20546548-48b8-44ae-8da5-f89a7a190947.csv has 98.33333333333333% correct rate\n",
      "9959a753-33cc-4c96-b083-889866a042c4.csv has 93.33333333333333% correct rate\n",
      "29b600d6-00af-4108-a292-e8cc0c3cb5cc.csv has 93.33333333333333% correct rate\n",
      "24bfc539-d0f7-44cc-9d6c-313285005c91.csv has 96.66666666666667% correct rate\n",
      "63986aae-ac83-48f4-a925-523362687985.csv has 90.0% correct rate\n",
      "83fb42db-2267-4b24-9b69-abb77380994e.csv has 91.66666666666666% correct rate\n",
      "0b124f68-b561-40f8-841f-78d7bd652b59.csv has 95.0% correct rate\n",
      "97ab59bd-3111-4b5e-8c0b-4cff1866f224.csv has 93.33333333333333% correct rate\n",
      "572c4ad8-6a2e-44dd-a4f9-f229a9003f4f.csv has 90.0% correct rate\n",
      "0e7eaa30-c470-4089-b6df-e1a1bd120cda.csv has 93.33333333333333% correct rate\n",
      "84d9afc5-0435-473e-aa65-14a4c43e031a.csv has 91.66666666666666% correct rate\n",
      "ebc44eb8-9a87-47a5-b331-a068f56fdc17.csv has 95.0% correct rate\n",
      "03d80915-22b6-419a-9485-4e8925068e95.csv has 91.66666666666666% correct rate\n",
      "67c83238-251b-44a3-9a2f-119256d75270.csv has 100.0% correct rate\n",
      "bf35bb70-ac48-408b-8a75-efe4589496c6.csv has 77 rows instead of 78\n",
      "227e0675-ec8a-4f90-8403-db90f118111a.csv has 96.66666666666667% correct rate\n",
      "59459a8f-ae88-4ad7-b408-b0d9ccf63daa.csv has 95.0% correct rate\n",
      "22bacae5-4d0e-4578-bb77-3f83b70cd5f0.csv has 93.33333333333333% correct rate\n",
      "43fda1c3-4729-4811-b706-dd1f9483ca61.csv has 91.66666666666666% correct rate\n",
      "7cd0ded7-a8f9-446a-a91c-a17121dc725c.csv has 90.0% correct rate\n",
      "743882d5-c3df-41e3-aa4e-4c964f0e81ff.csv has 96.66666666666667% correct rate\n",
      "6203f3c8-7399-4116-a1de-33caa6dd3051.csv has 95.0% correct rate\n",
      "b1a5cdc9-51d6-438d-9eff-de52bb3cfeba.csv has 95.0% correct rate\n",
      "207741ad-0954-4c9b-b844-036d2630e408.csv has 90.0% correct rate\n",
      "2be8ebce-464c-4a11-b1fc-7ffd146b94ee.csv has 96.66666666666667% correct rate\n",
      "9f516ed9-5aa5-4134-908b-f51b01b26e13.csv has 96.66666666666667% correct rate\n",
      "adf78906-5616-4f90-8190-35d65a044616.csv has 95.0% correct rate\n",
      "4733f8c6-0c48-4263-8765-5277b532b9ae.csv has 90.0% correct rate\n",
      "ae42d9b1-d56c-4baa-bad1-6a633cca51e1.csv has 76 rows instead of 78\n",
      "52ded35c-7a99-42df-a3cc-0b59d5f6dab1.csv has 91.66666666666666% correct rate\n",
      "4aff1621-01bf-49f1-bf8e-e7bcf8e4fe8f.csv has 96.66666666666667% correct rate\n",
      "3e322656-a073-4f0d-a148-b5b40ea5f6e7.csv has 98.33333333333333% correct rate\n",
      "d898612d-8efd-4339-8d57-7a6ee42b21f1.csv has 93.33333333333333% correct rate\n",
      "686fc680-115e-457d-90c1-bbced48ac88a.csv has 96.66666666666667% correct rate\n",
      "                           participant_id correct_rate_bar_geo  \\\n",
      "0    15c18f93-9d69-46cc-ad91-f2e92c74d36e                  NaN   \n",
      "1    de190f7f-01d5-4a2d-95d5-65c327ffa9e3                 95.0   \n",
      "2    a78c502f-57d2-4640-a6aa-508c7d73b03b                100.0   \n",
      "3    0026e5fb-0d1f-4c91-afcb-d1e7101ba249                 95.0   \n",
      "4    b993fd5c-f9c0-4b38-a04c-a35c406a5f3e                100.0   \n",
      "..                                    ...                  ...   \n",
      "145  14da7a02-e077-4e0b-9179-23b396c6173c                  NaN   \n",
      "146  d898612d-8efd-4339-8d57-7a6ee42b21f1                 90.0   \n",
      "147  686fc680-115e-457d-90c1-bbced48ac88a                  NaN   \n",
      "148  d2535fe5-b922-417f-8323-21c25fb2b973                 85.0   \n",
      "149  25d26875-2892-4ebf-b229-8520501533f7                  NaN   \n",
      "\n",
      "    correct_rate_bar_icon correct_rate_bar_color correct_rate_pie_geo  \\\n",
      "0                     NaN                    NaN                 95.0   \n",
      "1                    95.0                  100.0                  NaN   \n",
      "2                   100.0                  100.0                  NaN   \n",
      "3                    95.0                   95.0                  NaN   \n",
      "4                    90.0                   95.0                  NaN   \n",
      "..                    ...                    ...                  ...   \n",
      "145                   NaN                    NaN                 80.0   \n",
      "146                  95.0                   95.0                  NaN   \n",
      "147                   NaN                    NaN                100.0   \n",
      "148                  80.0                   75.0                  NaN   \n",
      "149                   NaN                    NaN                 75.0   \n",
      "\n",
      "    correct_rate_pie_icon correct_rate_pie_color  \n",
      "0                    95.0                   90.0  \n",
      "1                     NaN                    NaN  \n",
      "2                     NaN                    NaN  \n",
      "3                     NaN                    NaN  \n",
      "4                     NaN                    NaN  \n",
      "..                    ...                    ...  \n",
      "145                  90.0                   85.0  \n",
      "146                   NaN                    NaN  \n",
      "147                  90.0                  100.0  \n",
      "148                   NaN                    NaN  \n",
      "149                  60.0                  100.0  \n",
      "\n",
      "[150 rows x 7 columns]\n"
     ]
    }
   ],
   "source": [
    "# Initialize an empty list to store valid individual DataFrames\n",
    "dataframes = []\n",
    "high_accuracy_participant = 0\n",
    "high_accuracy_participants = []\n",
    "\n",
    "# Read and store each CSV file as a DataFrame, and check if the filename matches a participant_id\n",
    "for file in csv_files:\n",
    "    # Get the filename without extension, which should be the participant's id\n",
    "    file_name = os.path.splitext(os.path.basename(file))[0]\n",
    "\n",
    "    \n",
    "    # Check if the filename matches any value in the 'participant_id' column\n",
    "    if file_name in df['participant_id'].values:\n",
    "        # Read the CSV file and store it as a DataFrame\n",
    "        df_file = pd.read_csv(file)\n",
    "        \n",
    "        # Add this participants' answer to df_correct_rate\n",
    "        correct_rate_new_row = {\"participant_id\": file_name}\n",
    "        df_correct_rate = df_correct_rate.append(correct_rate_new_row, ignore_index=True)\n",
    "        \n",
    "        correct_rate = get_correct_rate(df_file, 'geo')\n",
    "        df_correct_rate.loc[df_correct_rate['participant_id'] == file_name, f\"correct_rate_{df_file['condition'].iloc[0]}_geo\"] = correct_rate\n",
    "        \n",
    "        correct_rate = get_correct_rate(df_file, 'icon')\n",
    "        df_correct_rate.loc[df_correct_rate['participant_id'] == file_name, f\"correct_rate_{df_file['condition'].iloc[0]}_icon\"] = correct_rate\n",
    "        \n",
    "        correct_rate = get_correct_rate(df_file, 'color')\n",
    "        df_correct_rate.loc[df_correct_rate['participant_id'] == file_name, f\"correct_rate_{df_file['condition'].iloc[0]}_color\"] = correct_rate\n",
    "        \n",
    "        # Add this participants' answer to df_response_time\n",
    "        # Check if this participant's overall correct rate > 90%\n",
    "        overall_correct_rate = get_overall_correct_rate(df_file)\n",
    "        if (overall_correct_rate >= 90):\n",
    "            high_accuracy_participant = high_accuracy_participant + 1\n",
    "            print(f\"{file_name}.csv has {overall_correct_rate}% correct rate\")\n",
    "            high_accuracy_participants.append(file_name)\n",
    "            response_time_new_row = {\"participant_id\": file_name}\n",
    "            df_response_time = df_response_time.append(response_time_new_row, ignore_index=True)\n",
    "\n",
    "            response_time = get_response_time(df_file, 'geo')\n",
    "            df_response_time.loc[df_response_time['participant_id'] == file_name, f\"response_time_{df_file['condition'].iloc[0]}_geo\"] = response_time\n",
    "\n",
    "            response_time = get_response_time(df_file, 'icon')\n",
    "            df_response_time.loc[df_response_time['participant_id'] == file_name, f\"response_time_{df_file['condition'].iloc[0]}_icon\"] = response_time\n",
    "\n",
    "            response_time = get_response_time(df_file, 'color')\n",
    "            df_response_time.loc[df_response_time['participant_id'] == file_name, f\"response_time_{df_file['condition'].iloc[0]}_color\"] = response_time\n",
    "\n",
    "        # Check if the number of rows is equal to 78\n",
    "        dataframes.append(df_file)\n",
    "        if df_file.shape[0] != 78:\n",
    "            # Print the filename if the number of rows is not equal to 78 (Please note here the lost trials can be real trials or training trials)\n",
    "            print(f\"{file_name}.csv has {df_file.shape[0]} rows instead of 78\")\n",
    "\n",
    "\n",
    "# Concatenate all individual DataFrames into a single DataFrame\n",
    "combined_df = pd.concat(dataframes, ignore_index=True)\n",
    "\n",
    "# Check the combined DataFrame\n",
    "# print(combined_df)\n",
    "\n",
    "print(df_correct_rate)\n",
    "\n",
    "combined_df.to_csv('generated_csv/combined.csv', index=False)\n",
    "\n",
    "df_correct_rate.to_csv('generated_csv/correct_rate.csv', index=False)\n",
    "df_correct_rate.to_csv('CI-analysis/exp-data/correct_rate.csv', index=False)\n",
    "df_response_time.to_csv('generated_csv/response_time.csv', index=False)\n",
    "df_response_time.to_csv('CI-analysis/exp-data/response_time.csv', index=False)"
   ]
  },
  {
   "cell_type": "code",
   "execution_count": 57,
   "id": "e086e03e",
   "metadata": {},
   "outputs": [
    {
     "data": {
      "text/plain": [
       "86"
      ]
     },
     "execution_count": 57,
     "metadata": {},
     "output_type": "execute_result"
    }
   ],
   "source": [
    "high_accuracy_participant"
   ]
  },
  {
   "cell_type": "code",
   "execution_count": 58,
   "id": "a4cfd5d9",
   "metadata": {},
   "outputs": [
    {
     "data": {
      "text/plain": [
       "real        8988\n",
       "training    2697\n",
       "Name: trial_type, dtype: int64"
      ]
     },
     "execution_count": 58,
     "metadata": {},
     "output_type": "execute_result"
    }
   ],
   "source": [
    "combined_df[\"trial_type\"].value_counts() # combined all trials from all validated participants"
   ]
  },
  {
   "cell_type": "code",
   "execution_count": 59,
   "id": "8beef262",
   "metadata": {},
   "outputs": [
    {
     "data": {
      "text/plain": [
       "86"
      ]
     },
     "execution_count": 59,
     "metadata": {},
     "output_type": "execute_result"
    }
   ],
   "source": [
    "len(high_accuracy_participants)"
   ]
  },
  {
   "cell_type": "markdown",
   "id": "17845e83",
   "metadata": {},
   "source": [
    "## Distribution of missing trials\n",
    "\n",
    "This section of scripts aims to determine how the missing trials are distributed among the high-accuracy participants."
   ]
  },
  {
   "cell_type": "code",
   "execution_count": 60,
   "id": "4b6a7eb1",
   "metadata": {},
   "outputs": [
    {
     "name": "stdout",
     "output_type": "stream",
     "text": [
      "bddc7cf8-a54c-45a3-8301-b6e8887b3fc9.csv has 1 rows missing\n",
      "06acf264-8a0b-4f1a-beea-8d32a6eabe6d.csv has 6 rows missing [high accuracy participant]\n",
      "5b4023a3-f786-4be2-8ef0-ff01e42a4a72.csv has 1 rows missing\n",
      "fd289aaa-48ec-40f0-a26f-f88967203582.csv has 1 rows missing\n",
      "df3a52b2-4dcf-4c4f-8aa5-529d6c9214d2.csv has 1 rows missing [high accuracy participant]\n",
      "ae42d9b1-d56c-4baa-bad1-6a633cca51e1.csv has 2 rows missing\n"
     ]
    }
   ],
   "source": [
    "# Read and store each CSV file as a DataFrame, and check if the filename matches a participant_id\n",
    "for file in csv_files:\n",
    "    # Get the filename without extension, which should be the participant's id\n",
    "    file_name = os.path.splitext(os.path.basename(file))[0]\n",
    "\n",
    "    \n",
    "    # Check if the filename matches any value in the high_accuracy_participants\n",
    "    if file_name in df['participant_id'].values:\n",
    "        # Read the CSV file and store it as a DataFrame\n",
    "        df_file = pd.read_csv(file)\n",
    "        \n",
    "        # Check number of rows of \"real\" experiment df_file have\n",
    "        num_real = len(df_file[df_file['trial_type'] == 'real'])\n",
    "        \n",
    "        if (num_real != 60):\n",
    "            if file_name in high_accuracy_participants:\n",
    "                print(f\"{file_name}.csv has {60 - num_real} rows missing [high accuracy participant]\")\n",
    "            else:\n",
    "                print(f\"{file_name}.csv has {60 - num_real} rows missing\")"
   ]
  },
  {
   "cell_type": "markdown",
   "id": "6314565e",
   "metadata": {},
   "source": [
    "## Data analysis"
   ]
  },
  {
   "cell_type": "markdown",
   "id": "793982c6",
   "metadata": {},
   "source": [
    "### Aesthetic"
   ]
  },
  {
   "cell_type": "code",
   "execution_count": 61,
   "id": "bf36905f",
   "metadata": {},
   "outputs": [],
   "source": [
    "# aesthetics\n",
    "def writeBeauvisScore(df, condition):\n",
    "    \"\"\"\n",
    "    calculate average score of 5 items in the BeauVis scale per participants (row), \n",
    "    and write it into a column in df (beauvis_{condition})\n",
    "    \"\"\"\n",
    "    df[f\"beauvis_{condition}\"] = \"\"\n",
    "    for index, row in df.iterrows():\n",
    "        beauvis_score = np.mean(row[[f\"beauvis0_{condition}\", \n",
    "                                     f\"beauvis1_{condition}\",\n",
    "                                     f\"beauvis2_{condition}\",\n",
    "                                     f\"beauvis3_{condition}\",\n",
    "                                     f\"beauvis4_{condition}\"\n",
    "                                    ]])\n",
    "        # update the value of df (the original dataframe)\n",
    "        df.loc[index, f\"beauvis_{condition}\"] = beauvis_score"
   ]
  },
  {
   "cell_type": "code",
   "execution_count": 62,
   "id": "d171cc5d",
   "metadata": {},
   "outputs": [],
   "source": [
    "writeBeauvisScore(df, 'bar_geo')\n",
    "writeBeauvisScore(df, 'bar_icon')\n",
    "writeBeauvisScore(df, 'bar_color')\n",
    "writeBeauvisScore(df, 'pie_geo')\n",
    "writeBeauvisScore(df, 'pie_icon')\n",
    "writeBeauvisScore(df, 'pie_color')"
   ]
  },
  {
   "cell_type": "code",
   "execution_count": 63,
   "id": "7202cc1c",
   "metadata": {},
   "outputs": [],
   "source": [
    "df_beauvis = df.loc[:, ['participant_id',\n",
    "                        'beauvis_bar_geo',\n",
    "                        'beauvis_bar_icon',\n",
    "                        'beauvis_bar_color',\n",
    "                        'beauvis_pie_geo',\n",
    "                        'beauvis_pie_icon',\n",
    "                        'beauvis_pie_color',]]\n",
    "df_beauvis = df_beauvis[df_beauvis['participant_id'].isin(high_accuracy_participants)]\n",
    "df_beauvis.to_csv('generated_csv/beauvis.csv', index=False)\n",
    "df_beauvis.to_csv('CI-analysis/exp-data/beauvis.csv', index=False)"
   ]
  },
  {
   "cell_type": "markdown",
   "id": "57e6ce48",
   "metadata": {},
   "source": [
    "### Readability"
   ]
  },
  {
   "cell_type": "code",
   "execution_count": 64,
   "id": "66e41b63",
   "metadata": {},
   "outputs": [],
   "source": [
    "df_readable = df.loc[:, ['participant_id',\n",
    "                        'readable_bar_geo',\n",
    "                        'readable_bar_icon',\n",
    "                        'readable_bar_color',\n",
    "                        'readable_pie_geo',\n",
    "                        'readable_pie_icon',\n",
    "                        'readable_pie_color',]]\n",
    "df_readable = df_readable[df_readable['participant_id'].isin(high_accuracy_participants)]\n",
    "\n",
    "df_readable.to_csv('generated_csv/readable.csv', index=False)\n",
    "df_readable.to_csv('CI-analysis/exp-data/readable.csv', index=False)"
   ]
  },
  {
   "cell_type": "code",
   "execution_count": null,
   "id": "b42cecd7",
   "metadata": {},
   "outputs": [],
   "source": []
  },
  {
   "cell_type": "markdown",
   "id": "a80d3414",
   "metadata": {},
   "source": [
    "### Time Out\n",
    "analysis the distribution of time out trials"
   ]
  },
  {
   "cell_type": "code",
   "execution_count": 65,
   "id": "fd480224",
   "metadata": {},
   "outputs": [],
   "source": [
    "# Generate the subset DataFrame of time out real trials\n",
    "df_timeout_pre = combined_df[(combined_df['trial_type'] == 'real') & (combined_df['answer_accuracy'] == -1)]\n",
    "df_timeout_pre.to_csv('generated_csv/timeout.csv', index=False)\n",
    "df_timeout_pre = df_timeout_pre.reset_index(drop=True)"
   ]
  },
  {
   "cell_type": "code",
   "execution_count": 66,
   "id": "dd0ae4e1",
   "metadata": {},
   "outputs": [],
   "source": [
    "df_timeout = pd.read_csv('generated_csv/timeout.csv')"
   ]
  },
  {
   "cell_type": "code",
   "execution_count": 67,
   "id": "dab3ab72",
   "metadata": {},
   "outputs": [],
   "source": [
    "# Fix df_timeout, because for some trials, the key_pressed was not logged.\n",
    "# function to apply on each row\n",
    "def shift_values(row):\n",
    "    if row['key_pressed'] != 'none':\n",
    "        row.loc['key_pressed':] = row.loc['key_pressed':].shift(1)\n",
    "        row['key_pressed'] = 'none'\n",
    "    return row\n",
    "\n",
    "# apply the function to each row\n",
    "df_timeout = df_timeout.apply(shift_values, axis=1)\n",
    "df_timeout.to_csv('generated_csv/timeout_fixed.csv', index=False)"
   ]
  },
  {
   "cell_type": "code",
   "execution_count": 68,
   "id": "e44e0052",
   "metadata": {},
   "outputs": [
    {
     "data": {
      "text/plain": [
       "pie    79\n",
       "bar    46\n",
       "Name: condition, dtype: int64"
      ]
     },
     "execution_count": 68,
     "metadata": {},
     "output_type": "execute_result"
    }
   ],
   "source": [
    "df_timeout['condition'].value_counts()"
   ]
  },
  {
   "cell_type": "code",
   "execution_count": 69,
   "id": "29c98650",
   "metadata": {},
   "outputs": [
    {
     "data": {
      "text/plain": [
       "icon     57\n",
       "geo      35\n",
       "color    33\n",
       "Name: texture_condition, dtype: int64"
      ]
     },
     "execution_count": 69,
     "metadata": {},
     "output_type": "execute_result"
    }
   ],
   "source": [
    "df_timeout['texture_condition'].value_counts()"
   ]
  },
  {
   "cell_type": "code",
   "execution_count": 70,
   "id": "ab67224b",
   "metadata": {},
   "outputs": [
    {
     "name": "stdout",
     "output_type": "stream",
     "text": [
      "number of time-out trials in...\n",
      "each chart type:\n",
      "pie    79\n",
      "bar    46\n",
      "Name: condition, dtype: int64\n",
      "\n",
      "each texture type:\n",
      "icon     57\n",
      "geo      35\n",
      "color    33\n",
      "Name: texture_condition, dtype: int64\n",
      "\n",
      "each condition\n",
      "geometric bar:12\n",
      "iconic bar:26\n",
      "gray bar:8\n",
      "\n",
      "geometric pie:23\n",
      "iconic pie:31\n",
      "gray pie:25\n"
     ]
    }
   ],
   "source": [
    "print(\"number of time-out trials in...\")\n",
    "print(\"each chart type:\")\n",
    "print(df_timeout['condition'].value_counts())\n",
    "print()\n",
    "\n",
    "print(\"each texture type:\")\n",
    "print(df_timeout['texture_condition'].value_counts())\n",
    "print()\n",
    "\n",
    "\n",
    "print(\"each condition\")\n",
    "filtered_df = df_timeout[(df_timeout['condition'] == 'bar') & (df_timeout['texture_condition'] == 'geo')]\n",
    "num_rows = filtered_df.shape[0]\n",
    "print(\"geometric bar:\" + str(num_rows))\n",
    "                                                               \n",
    "filtered_df = df_timeout[(df_timeout['condition'] == 'bar') & (df_timeout['texture_condition'] == 'icon')]\n",
    "num_rows = filtered_df.shape[0]\n",
    "print(\"iconic bar:\" + str(num_rows))\n",
    "                                                               \n",
    "filtered_df = df_timeout[(df_timeout['condition'] == 'bar') & (df_timeout['texture_condition'] == 'color')]\n",
    "num_rows = filtered_df.shape[0]\n",
    "print(\"gray bar:\" + str(num_rows))\n",
    "\n",
    "print()\n",
    "filtered_df = df_timeout[(df_timeout['condition'] == 'pie') & (df_timeout['texture_condition'] == 'geo')]\n",
    "num_rows = filtered_df.shape[0]\n",
    "print(\"geometric pie:\" + str(num_rows))\n",
    "                                                               \n",
    "filtered_df = df_timeout[(df_timeout['condition'] == 'pie') & (df_timeout['texture_condition'] == 'icon')]\n",
    "num_rows = filtered_df.shape[0]\n",
    "print(\"iconic pie:\" + str(num_rows))\n",
    "                                                               \n",
    "filtered_df = df_timeout[(df_timeout['condition'] == 'pie') & (df_timeout['texture_condition'] == 'color')]\n",
    "num_rows = filtered_df.shape[0]\n",
    "print(\"gray pie:\" + str(num_rows))"
   ]
  },
  {
   "cell_type": "code",
   "execution_count": null,
   "id": "551b3116",
   "metadata": {},
   "outputs": [],
   "source": []
  },
  {
   "cell_type": "code",
   "execution_count": null,
   "id": "1cc32b90",
   "metadata": {},
   "outputs": [],
   "source": []
  },
  {
   "cell_type": "code",
   "execution_count": null,
   "id": "42fc6749",
   "metadata": {},
   "outputs": [],
   "source": []
  }
 ],
 "metadata": {
  "kernelspec": {
   "display_name": "Python 3 (ipykernel)",
   "language": "python",
   "name": "python3"
  },
  "language_info": {
   "codemirror_mode": {
    "name": "ipython",
    "version": 3
   },
   "file_extension": ".py",
   "mimetype": "text/x-python",
   "name": "python",
   "nbconvert_exporter": "python",
   "pygments_lexer": "ipython3",
   "version": "3.9.7"
  }
 },
 "nbformat": 4,
 "nbformat_minor": 5
}
