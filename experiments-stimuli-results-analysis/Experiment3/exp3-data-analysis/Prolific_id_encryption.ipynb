{
 "cells": [
  {
   "cell_type": "markdown",
   "metadata": {},
   "source": [
    "# Prolific id encryption\n",
    "author: Tingying He, date: August, 2023\n",
    "\n",
    "This script is used to encrypt the Prolific ID. By running this script, all Prolific IDs in the raw data within the \"final_data\" folder will be replaced with corresponding unique participant IDs.\n",
    "\n",
    "⚠️ Warning: Running this script will directly replace the original files. Please make sure to back up your data before running the script."
   ]
  },
  {
   "cell_type": "code",
   "execution_count": 2,
   "metadata": {},
   "outputs": [
    {
     "data": {
      "text/plain": [
       "'final_data/prolific_export_641f4d6c66bf43f77dc91ce4.csv'"
      ]
     },
     "execution_count": 2,
     "metadata": {},
     "output_type": "execute_result"
    }
   ],
   "source": [
    "import csv\n",
    "import uuid\n",
    "import os\n",
    "import shutil\n",
    "\n",
    "# Dictionary to store mapping of old Prolific IDs to new UUIDs\n",
    "id_mapping = {}\n",
    "\n",
    "# Path to the folder containing the CSV files\n",
    "folder_path = 'final_data/individual_texture'\n",
    "\n",
    "# Iterate over each CSV file in the folder\n",
    "for filename in os.listdir(folder_path):\n",
    "    if filename.endswith('.csv'):\n",
    "        old_prolific_id = filename[:-4] # Extract Prolific ID from filename (excluding .csv)\n",
    "        new_id = str(uuid.uuid4()) # Generate a new UUID\n",
    "        id_mapping[old_prolific_id] = new_id # Store the mapping\n",
    "        \n",
    "        # Read the existing CSV and modify the participant_id column\n",
    "        old_path = os.path.join(folder_path, filename)\n",
    "        new_path = os.path.join(folder_path, filename + '.tmp')\n",
    "        \n",
    "        with open(old_path, 'r') as old_file, open(new_path, 'w', newline='') as new_file:\n",
    "            reader = csv.DictReader(old_file)\n",
    "            writer = csv.DictWriter(new_file, fieldnames=reader.fieldnames)\n",
    "            \n",
    "            writer.writeheader()\n",
    "            for row in reader:\n",
    "                row['participant_id'] = new_id # Update the participant_id column\n",
    "                writer.writerow(row)\n",
    "        \n",
    "        # Replace the original CSV file with the modified one\n",
    "        shutil.move(new_path, os.path.join(folder_path, new_id + '.csv'))\n",
    "\n",
    "        # Delete the original file\n",
    "        os.remove(old_path)\n",
    "    \n",
    "# Now update the measurements.csv file\n",
    "measurements_path = \"final_data/measurements.csv\"\n",
    "new_measurements_path = \"final_data/measurements.tmp.csv\"\n",
    "\n",
    "with open(measurements_path, 'r') as old_file, open(new_measurements_path, 'w', newline='') as new_file:\n",
    "    reader = csv.DictReader(old_file)\n",
    "    writer = csv.DictWriter(new_file, fieldnames=reader.fieldnames)\n",
    "    \n",
    "    writer.writeheader()\n",
    "    for row in reader:\n",
    "        old_id = row['participant_id']\n",
    "        if old_id in id_mapping:\n",
    "            row['participant_id'] = id_mapping[old_id] # Update the participant_id column\n",
    "        writer.writerow(row)\n",
    "\n",
    "# Replace the original measurements.csv file with the modified one\n",
    "shutil.move(new_measurements_path, measurements_path)\n",
    "\n",
    "\n",
    "# Path to the prolific_export file\n",
    "prolific_export_path = 'final_data/prolific_export_641f4d6c66bf43f77dc91ce4.csv'\n",
    "new_prolific_export_path = 'final_data/prolific_export_641f4d6c66bf43f77dc91ce4.tmp.csv'\n",
    "\n",
    "with open(prolific_export_path, 'r') as old_file, open(new_prolific_export_path, 'w', newline='') as new_file:\n",
    "    reader = csv.DictReader(old_file)\n",
    "    writer = csv.DictWriter(new_file, fieldnames=reader.fieldnames)\n",
    "\n",
    "    writer.writeheader()\n",
    "    for row in reader:\n",
    "        old_id = row['Participant id']\n",
    "        if old_id in id_mapping:\n",
    "            row['Participant id'] = id_mapping[old_id] # Update the \"Participant id\" column\n",
    "        writer.writerow(row)\n",
    "\n",
    "# Replace the original prolific_export file with the modified one\n",
    "shutil.move(new_prolific_export_path, prolific_export_path)"
   ]
  },
  {
   "cell_type": "code",
   "execution_count": null,
   "metadata": {},
   "outputs": [],
   "source": []
  },
  {
   "cell_type": "code",
   "execution_count": null,
   "metadata": {},
   "outputs": [],
   "source": []
  }
 ],
 "metadata": {
  "kernelspec": {
   "display_name": "Python 3 (ipykernel)",
   "language": "python",
   "name": "python3"
  },
  "language_info": {
   "codemirror_mode": {
    "name": "ipython",
    "version": 3
   },
   "file_extension": ".py",
   "mimetype": "text/x-python",
   "name": "python",
   "nbconvert_exporter": "python",
   "pygments_lexer": "ipython3",
   "version": "3.9.7"
  }
 },
 "nbformat": 4,
 "nbformat_minor": 4
}
