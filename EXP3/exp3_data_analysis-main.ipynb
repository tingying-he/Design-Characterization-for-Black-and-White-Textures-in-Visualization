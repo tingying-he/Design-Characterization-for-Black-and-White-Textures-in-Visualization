{
 "cells": [
  {
   "cell_type": "markdown",
   "metadata": {},
   "source": [
    "# Exp3 Data Analysis\n",
    "\n",
    "author: Tingying He date: 20230325\n",
    "\n",
    "## Input data:\n",
    "1. Exp3 results download from our server (.csv)\n",
    "    * measurements.csv\n",
    "        * education\n",
    "        * readability score\n",
    "        * BeauVis score\n",
    "    * individual_texture: measurements of trials per participant (participant_id.csv), each trial is one row\n",
    "        * accuracy\n",
    "        * response time\n",
    "    \n",
    "2. Exp3 demographic data exported from Prolific (.csv)\n",
    "    * gender\n",
    "    * age\n",
    "\n",
    "## Output\n",
    "\n",
    "### Basic infomation\n",
    "1. Valid responses of Exp3 (a .csv file without Prolific ID)\n",
    "2. Number of participants in each condition (bar/pie)\n",
    "3. Demographics (gender, age, highest education)\n",
    "\n",
    "### Data analysis\n",
    "\n",
    "#### Accuracy\n",
    "1. Percentage of accuracy for each texture in each condition\n",
    "2. Average accuracy with 95% CI for each texture in each condition\n",
    "3. pair-wise comparison of two different texture in each condition\n",
    "\n",
    "#### Response time\n",
    "1. Average accuracy with 95% CI for each texture in each condition\n",
    "2. pair-wise comparison of two different texture in each condition\n",
    "\n",
    "#### Readability\n",
    "1. Score of readability with 95% CI"
   ]
  },
  {
   "cell_type": "code",
   "execution_count": 399,
   "metadata": {},
   "outputs": [],
   "source": [
    "# import lib\n",
    "import pandas as pd\n",
    "import matplotlib.pyplot as plt\n",
    "import numpy as np\n",
    "import scipy.stats as st\n",
    "import math\n",
    "import os\n",
    "import glob # read csv files"
   ]
  },
  {
   "cell_type": "markdown",
   "metadata": {},
   "source": [
    "# Basic information"
   ]
  },
  {
   "cell_type": "markdown",
   "metadata": {},
   "source": [
    "## Import data"
   ]
  },
  {
   "cell_type": "code",
   "execution_count": 400,
   "metadata": {},
   "outputs": [
    {
     "data": {
      "text/html": [
       "<div>\n",
       "<style scoped>\n",
       "    .dataframe tbody tr th:only-of-type {\n",
       "        vertical-align: middle;\n",
       "    }\n",
       "\n",
       "    .dataframe tbody tr th {\n",
       "        vertical-align: top;\n",
       "    }\n",
       "\n",
       "    .dataframe thead th {\n",
       "        text-align: right;\n",
       "    }\n",
       "</style>\n",
       "<table border=\"1\" class=\"dataframe\">\n",
       "  <thead>\n",
       "    <tr style=\"text-align: right;\">\n",
       "      <th></th>\n",
       "      <th>participant_id</th>\n",
       "      <th>study_id</th>\n",
       "      <th>session_id</th>\n",
       "      <th>condition</th>\n",
       "      <th>is_debug</th>\n",
       "      <th>exclude_reloaders</th>\n",
       "      <th>timestamp_0</th>\n",
       "      <th>browser_name</th>\n",
       "      <th>browser_version</th>\n",
       "      <th>os</th>\n",
       "      <th>...</th>\n",
       "      <th>beauvis3_bar_icon</th>\n",
       "      <th>beauvis4_bar_icon</th>\n",
       "      <th>readable_pie_icon</th>\n",
       "      <th>beauvis0_pie_icon</th>\n",
       "      <th>beauvis1_pie_icon</th>\n",
       "      <th>beauvis2_pie_icon</th>\n",
       "      <th>beauvis3_pie_icon</th>\n",
       "      <th>beauvis4_pie_icon</th>\n",
       "      <th>timestamp_98</th>\n",
       "      <th>optionalComments</th>\n",
       "    </tr>\n",
       "  </thead>\n",
       "  <tbody>\n",
       "    <tr>\n",
       "      <th>0</th>\n",
       "      <td>5fb65ad58d6ec70008c4ee34</td>\n",
       "      <td>641f4f507c8086c2b12966b8</td>\n",
       "      <td>641f500950a46280aa19f017</td>\n",
       "      <td>bar</td>\n",
       "      <td>False</td>\n",
       "      <td>1</td>\n",
       "      <td>1679773711081</td>\n",
       "      <td>Chrome</td>\n",
       "      <td>111.0.0.0</td>\n",
       "      <td>Windows</td>\n",
       "      <td>...</td>\n",
       "      <td>6.0</td>\n",
       "      <td>6.0</td>\n",
       "      <td>NaN</td>\n",
       "      <td>NaN</td>\n",
       "      <td>NaN</td>\n",
       "      <td>NaN</td>\n",
       "      <td>NaN</td>\n",
       "      <td>NaN</td>\n",
       "      <td>1679774282918</td>\n",
       "      <td>NaN</td>\n",
       "    </tr>\n",
       "    <tr>\n",
       "      <th>1</th>\n",
       "      <td>60ce30df032ca7cfb03900bc</td>\n",
       "      <td>641f4f507c8086c2b12966b9</td>\n",
       "      <td>641f4fd2e1622d07fec05566</td>\n",
       "      <td>pie</td>\n",
       "      <td>False</td>\n",
       "      <td>1</td>\n",
       "      <td>1679773742913</td>\n",
       "      <td>Chrome</td>\n",
       "      <td>111.0.0.0</td>\n",
       "      <td>Windows</td>\n",
       "      <td>...</td>\n",
       "      <td>NaN</td>\n",
       "      <td>NaN</td>\n",
       "      <td>6.0</td>\n",
       "      <td>6.0</td>\n",
       "      <td>6.0</td>\n",
       "      <td>5.0</td>\n",
       "      <td>5.0</td>\n",
       "      <td>6.0</td>\n",
       "      <td>1679774929743</td>\n",
       "      <td>NaN</td>\n",
       "    </tr>\n",
       "    <tr>\n",
       "      <th>2</th>\n",
       "      <td>615f04836985bb3ce5815f3c</td>\n",
       "      <td>641f4f507c8086c2b12966b9</td>\n",
       "      <td>641f500f09e06ae2bcac7171</td>\n",
       "      <td>pie</td>\n",
       "      <td>False</td>\n",
       "      <td>1</td>\n",
       "      <td>1679773925640</td>\n",
       "      <td>Chrome</td>\n",
       "      <td>111.0.0.0</td>\n",
       "      <td>Windows</td>\n",
       "      <td>...</td>\n",
       "      <td>NaN</td>\n",
       "      <td>NaN</td>\n",
       "      <td>4.0</td>\n",
       "      <td>7.0</td>\n",
       "      <td>7.0</td>\n",
       "      <td>7.0</td>\n",
       "      <td>7.0</td>\n",
       "      <td>7.0</td>\n",
       "      <td>1679775043993</td>\n",
       "      <td>Everything went well and I enjoyed the study a...</td>\n",
       "    </tr>\n",
       "    <tr>\n",
       "      <th>3</th>\n",
       "      <td>5fca888982a09a6a47620777</td>\n",
       "      <td>641f4f507c8086c2b12966b8</td>\n",
       "      <td>641f5048b37c6fb7641a3b7b</td>\n",
       "      <td>pie</td>\n",
       "      <td>False</td>\n",
       "      <td>1</td>\n",
       "      <td>1679773787086</td>\n",
       "      <td>Chrome</td>\n",
       "      <td>111.0.0.0</td>\n",
       "      <td>Windows</td>\n",
       "      <td>...</td>\n",
       "      <td>NaN</td>\n",
       "      <td>NaN</td>\n",
       "      <td>6.0</td>\n",
       "      <td>6.0</td>\n",
       "      <td>6.0</td>\n",
       "      <td>6.0</td>\n",
       "      <td>7.0</td>\n",
       "      <td>6.0</td>\n",
       "      <td>1679775987213</td>\n",
       "      <td>NaN</td>\n",
       "    </tr>\n",
       "    <tr>\n",
       "      <th>4</th>\n",
       "      <td>5f6e5f1a89a12b394d694868</td>\n",
       "      <td>641f4f507c8086c2b12966b9</td>\n",
       "      <td>641f5a718d356fa41d9aeaa7</td>\n",
       "      <td>pie</td>\n",
       "      <td>False</td>\n",
       "      <td>1</td>\n",
       "      <td>1679776376504</td>\n",
       "      <td>Chrome</td>\n",
       "      <td>111.0.0.0</td>\n",
       "      <td>macOS</td>\n",
       "      <td>...</td>\n",
       "      <td>NaN</td>\n",
       "      <td>NaN</td>\n",
       "      <td>3.0</td>\n",
       "      <td>5.0</td>\n",
       "      <td>6.0</td>\n",
       "      <td>6.0</td>\n",
       "      <td>5.0</td>\n",
       "      <td>6.0</td>\n",
       "      <td>1679776964033</td>\n",
       "      <td>NaN</td>\n",
       "    </tr>\n",
       "  </tbody>\n",
       "</table>\n",
       "<p>5 rows × 147 columns</p>\n",
       "</div>"
      ],
      "text/plain": [
       "             participant_id                  study_id  \\\n",
       "0  5fb65ad58d6ec70008c4ee34  641f4f507c8086c2b12966b8   \n",
       "1  60ce30df032ca7cfb03900bc  641f4f507c8086c2b12966b9   \n",
       "2  615f04836985bb3ce5815f3c  641f4f507c8086c2b12966b9   \n",
       "3  5fca888982a09a6a47620777  641f4f507c8086c2b12966b8   \n",
       "4  5f6e5f1a89a12b394d694868  641f4f507c8086c2b12966b9   \n",
       "\n",
       "                 session_id condition  is_debug  exclude_reloaders  \\\n",
       "0  641f500950a46280aa19f017       bar     False                  1   \n",
       "1  641f4fd2e1622d07fec05566       pie     False                  1   \n",
       "2  641f500f09e06ae2bcac7171       pie     False                  1   \n",
       "3  641f5048b37c6fb7641a3b7b       pie     False                  1   \n",
       "4  641f5a718d356fa41d9aeaa7       pie     False                  1   \n",
       "\n",
       "     timestamp_0 browser_name browser_version       os  ... beauvis3_bar_icon  \\\n",
       "0  1679773711081       Chrome       111.0.0.0  Windows  ...               6.0   \n",
       "1  1679773742913       Chrome       111.0.0.0  Windows  ...               NaN   \n",
       "2  1679773925640       Chrome       111.0.0.0  Windows  ...               NaN   \n",
       "3  1679773787086       Chrome       111.0.0.0  Windows  ...               NaN   \n",
       "4  1679776376504       Chrome       111.0.0.0    macOS  ...               NaN   \n",
       "\n",
       "   beauvis4_bar_icon readable_pie_icon  beauvis0_pie_icon  beauvis1_pie_icon  \\\n",
       "0                6.0               NaN                NaN                NaN   \n",
       "1                NaN               6.0                6.0                6.0   \n",
       "2                NaN               4.0                7.0                7.0   \n",
       "3                NaN               6.0                6.0                6.0   \n",
       "4                NaN               3.0                5.0                6.0   \n",
       "\n",
       "   beauvis2_pie_icon  beauvis3_pie_icon  beauvis4_pie_icon   timestamp_98  \\\n",
       "0                NaN                NaN                NaN  1679774282918   \n",
       "1                5.0                5.0                6.0  1679774929743   \n",
       "2                7.0                7.0                7.0  1679775043993   \n",
       "3                6.0                7.0                6.0  1679775987213   \n",
       "4                6.0                5.0                6.0  1679776964033   \n",
       "\n",
       "                                    optionalComments  \n",
       "0                                                NaN  \n",
       "1                                                NaN  \n",
       "2  Everything went well and I enjoyed the study a...  \n",
       "3                                                NaN  \n",
       "4                                                NaN  \n",
       "\n",
       "[5 rows x 147 columns]"
      ]
     },
     "execution_count": 400,
     "metadata": {},
     "output_type": "execute_result"
    }
   ],
   "source": [
    "# import data from LimeSurvey\n",
    "df=pd.read_csv(\"final_data/measurements.csv\")\n",
    "df.head()"
   ]
  },
  {
   "cell_type": "code",
   "execution_count": 401,
   "metadata": {},
   "outputs": [
    {
     "data": {
      "text/html": [
       "<div>\n",
       "<style scoped>\n",
       "    .dataframe tbody tr th:only-of-type {\n",
       "        vertical-align: middle;\n",
       "    }\n",
       "\n",
       "    .dataframe tbody tr th {\n",
       "        vertical-align: top;\n",
       "    }\n",
       "\n",
       "    .dataframe thead th {\n",
       "        text-align: right;\n",
       "    }\n",
       "</style>\n",
       "<table border=\"1\" class=\"dataframe\">\n",
       "  <thead>\n",
       "    <tr style=\"text-align: right;\">\n",
       "      <th></th>\n",
       "      <th>Submission id</th>\n",
       "      <th>Participant id</th>\n",
       "      <th>Status</th>\n",
       "      <th>Started at</th>\n",
       "      <th>Completed at</th>\n",
       "      <th>Reviewed at</th>\n",
       "      <th>Archived at</th>\n",
       "      <th>Time taken</th>\n",
       "      <th>Completion code</th>\n",
       "      <th>Total approvals</th>\n",
       "      <th>Fluent languages</th>\n",
       "      <th>Age</th>\n",
       "      <th>Sex</th>\n",
       "      <th>Ethnicity simplified</th>\n",
       "      <th>Country of birth</th>\n",
       "      <th>Country of residence</th>\n",
       "      <th>Nationality</th>\n",
       "      <th>Language</th>\n",
       "      <th>Student status</th>\n",
       "      <th>Employment status</th>\n",
       "    </tr>\n",
       "  </thead>\n",
       "  <tbody>\n",
       "    <tr>\n",
       "      <th>0</th>\n",
       "      <td>641f4fd2e1622d07fec05566</td>\n",
       "      <td>60ce30df032ca7cfb03900bc</td>\n",
       "      <td>AWAITING REVIEW</td>\n",
       "      <td>2023-03-25T19:48:46.811000Z</td>\n",
       "      <td>2023-03-25T20:09:03.830000Z</td>\n",
       "      <td>NaN</td>\n",
       "      <td>2023-03-25T20:09:04.289051Z</td>\n",
       "      <td>1218</td>\n",
       "      <td>CDR2RKQG</td>\n",
       "      <td>43</td>\n",
       "      <td>English</td>\n",
       "      <td>25</td>\n",
       "      <td>Female</td>\n",
       "      <td>Black</td>\n",
       "      <td>South Africa</td>\n",
       "      <td>Hungary</td>\n",
       "      <td>South Africa</td>\n",
       "      <td>English</td>\n",
       "      <td>Yes</td>\n",
       "      <td>Part-Time</td>\n",
       "    </tr>\n",
       "    <tr>\n",
       "      <th>1</th>\n",
       "      <td>641f500950a46280aa19f017</td>\n",
       "      <td>5fb65ad58d6ec70008c4ee34</td>\n",
       "      <td>AWAITING REVIEW</td>\n",
       "      <td>2023-03-25T19:48:27.145000Z</td>\n",
       "      <td>2023-03-25T19:58:09.564000Z</td>\n",
       "      <td>NaN</td>\n",
       "      <td>2023-03-25T19:58:10.195660Z</td>\n",
       "      <td>583</td>\n",
       "      <td>CDR2RKQG</td>\n",
       "      <td>124</td>\n",
       "      <td>English, Portuguese</td>\n",
       "      <td>20</td>\n",
       "      <td>Male</td>\n",
       "      <td>White</td>\n",
       "      <td>Portugal</td>\n",
       "      <td>Portugal</td>\n",
       "      <td>Portugal</td>\n",
       "      <td>Portuguese</td>\n",
       "      <td>Yes</td>\n",
       "      <td>Unemployed (and job seeking)</td>\n",
       "    </tr>\n",
       "    <tr>\n",
       "      <th>2</th>\n",
       "      <td>641f500f09e06ae2bcac7171</td>\n",
       "      <td>615f04836985bb3ce5815f3c</td>\n",
       "      <td>AWAITING REVIEW</td>\n",
       "      <td>2023-03-25T19:51:36.509000Z</td>\n",
       "      <td>2023-03-25T20:12:28.797000Z</td>\n",
       "      <td>NaN</td>\n",
       "      <td>2023-03-25T20:12:29.298077Z</td>\n",
       "      <td>1253</td>\n",
       "      <td>CDR2RKQG</td>\n",
       "      <td>108</td>\n",
       "      <td>Afrikaans, English</td>\n",
       "      <td>32</td>\n",
       "      <td>Female</td>\n",
       "      <td>Black</td>\n",
       "      <td>South Africa</td>\n",
       "      <td>South Africa</td>\n",
       "      <td>South Africa</td>\n",
       "      <td>English</td>\n",
       "      <td>DATA_EXPIRED</td>\n",
       "      <td>DATA_EXPIRED</td>\n",
       "    </tr>\n",
       "    <tr>\n",
       "      <th>3</th>\n",
       "      <td>641f5048b37c6fb7641a3b7b</td>\n",
       "      <td>5fca888982a09a6a47620777</td>\n",
       "      <td>AWAITING REVIEW</td>\n",
       "      <td>2023-03-25T19:49:28.482000Z</td>\n",
       "      <td>2023-03-25T20:26:42.445000Z</td>\n",
       "      <td>NaN</td>\n",
       "      <td>2023-03-25T20:26:43.105111Z</td>\n",
       "      <td>2234</td>\n",
       "      <td>CDR2RKQG</td>\n",
       "      <td>241</td>\n",
       "      <td>Spanish, English</td>\n",
       "      <td>29</td>\n",
       "      <td>Male</td>\n",
       "      <td>Mixed</td>\n",
       "      <td>Mexico</td>\n",
       "      <td>Mexico</td>\n",
       "      <td>Mexico</td>\n",
       "      <td>Spanish</td>\n",
       "      <td>Yes</td>\n",
       "      <td>Unemployed (and job seeking)</td>\n",
       "    </tr>\n",
       "    <tr>\n",
       "      <th>4</th>\n",
       "      <td>641f5a4346c497b1deff68bb</td>\n",
       "      <td>5e569011c0486f03a51801b5</td>\n",
       "      <td>AWAITING REVIEW</td>\n",
       "      <td>2023-03-25T20:32:03.666000Z</td>\n",
       "      <td>2023-03-25T20:44:22.791000Z</td>\n",
       "      <td>NaN</td>\n",
       "      <td>2023-03-25T20:44:23.147554Z</td>\n",
       "      <td>740</td>\n",
       "      <td>CDR2RKQG</td>\n",
       "      <td>242</td>\n",
       "      <td>English, Polish</td>\n",
       "      <td>21</td>\n",
       "      <td>Male</td>\n",
       "      <td>White</td>\n",
       "      <td>Poland</td>\n",
       "      <td>Poland</td>\n",
       "      <td>Poland</td>\n",
       "      <td>Polish</td>\n",
       "      <td>Yes</td>\n",
       "      <td>Other</td>\n",
       "    </tr>\n",
       "  </tbody>\n",
       "</table>\n",
       "</div>"
      ],
      "text/plain": [
       "              Submission id            Participant id           Status  \\\n",
       "0  641f4fd2e1622d07fec05566  60ce30df032ca7cfb03900bc  AWAITING REVIEW   \n",
       "1  641f500950a46280aa19f017  5fb65ad58d6ec70008c4ee34  AWAITING REVIEW   \n",
       "2  641f500f09e06ae2bcac7171  615f04836985bb3ce5815f3c  AWAITING REVIEW   \n",
       "3  641f5048b37c6fb7641a3b7b  5fca888982a09a6a47620777  AWAITING REVIEW   \n",
       "4  641f5a4346c497b1deff68bb  5e569011c0486f03a51801b5  AWAITING REVIEW   \n",
       "\n",
       "                    Started at                 Completed at  Reviewed at  \\\n",
       "0  2023-03-25T19:48:46.811000Z  2023-03-25T20:09:03.830000Z          NaN   \n",
       "1  2023-03-25T19:48:27.145000Z  2023-03-25T19:58:09.564000Z          NaN   \n",
       "2  2023-03-25T19:51:36.509000Z  2023-03-25T20:12:28.797000Z          NaN   \n",
       "3  2023-03-25T19:49:28.482000Z  2023-03-25T20:26:42.445000Z          NaN   \n",
       "4  2023-03-25T20:32:03.666000Z  2023-03-25T20:44:22.791000Z          NaN   \n",
       "\n",
       "                   Archived at  Time taken Completion code  Total approvals  \\\n",
       "0  2023-03-25T20:09:04.289051Z        1218        CDR2RKQG               43   \n",
       "1  2023-03-25T19:58:10.195660Z         583        CDR2RKQG              124   \n",
       "2  2023-03-25T20:12:29.298077Z        1253        CDR2RKQG              108   \n",
       "3  2023-03-25T20:26:43.105111Z        2234        CDR2RKQG              241   \n",
       "4  2023-03-25T20:44:23.147554Z         740        CDR2RKQG              242   \n",
       "\n",
       "      Fluent languages  Age     Sex Ethnicity simplified Country of birth  \\\n",
       "0              English   25  Female                Black     South Africa   \n",
       "1  English, Portuguese   20    Male                White         Portugal   \n",
       "2   Afrikaans, English   32  Female                Black     South Africa   \n",
       "3     Spanish, English   29    Male                Mixed           Mexico   \n",
       "4      English, Polish   21    Male                White           Poland   \n",
       "\n",
       "  Country of residence   Nationality    Language Student status  \\\n",
       "0              Hungary  South Africa     English            Yes   \n",
       "1             Portugal      Portugal  Portuguese            Yes   \n",
       "2         South Africa  South Africa     English   DATA_EXPIRED   \n",
       "3               Mexico        Mexico     Spanish            Yes   \n",
       "4               Poland        Poland      Polish            Yes   \n",
       "\n",
       "              Employment status  \n",
       "0                     Part-Time  \n",
       "1  Unemployed (and job seeking)  \n",
       "2                  DATA_EXPIRED  \n",
       "3  Unemployed (and job seeking)  \n",
       "4                         Other  "
      ]
     },
     "execution_count": 401,
     "metadata": {},
     "output_type": "execute_result"
    }
   ],
   "source": [
    "# import data from Prolific\n",
    "df_p=pd.read_csv(\"final_data/prolific_export_641f4d6c66bf43f77dc91ce4.csv\")\n",
    "df_p.head()"
   ]
  },
  {
   "cell_type": "code",
   "execution_count": 402,
   "metadata": {},
   "outputs": [],
   "source": [
    "# add demographics data from Prolific(df_p) to df by prolific id\n",
    "\n",
    "# columns we want to get from Prolific\n",
    "df['gender'] = ''\n",
    "df['age'] = ''\n",
    "\n",
    "# write these columns\n",
    "for index, row in df.iterrows():\n",
    "    for index_p, row_p in df_p.iterrows():\n",
    "        if row['participant_id'] == row_p['Participant id']:\n",
    "            df.loc[index, 'gender'] = row_p['Sex']\n",
    "            df.loc[index, 'age'] = row_p['Age']"
   ]
  },
  {
   "cell_type": "code",
   "execution_count": 403,
   "metadata": {},
   "outputs": [
    {
     "data": {
      "text/plain": [
       "pie    83\n",
       "bar    67\n",
       "Name: condition, dtype: int64"
      ]
     },
     "execution_count": 403,
     "metadata": {},
     "output_type": "execute_result"
    }
   ],
   "source": [
    "# check condition balance\n",
    "df['condition'].value_counts()"
   ]
  },
  {
   "cell_type": "markdown",
   "metadata": {},
   "source": [
    "## Select valid data"
   ]
  },
  {
   "cell_type": "code",
   "execution_count": 404,
   "metadata": {},
   "outputs": [],
   "source": [
    "df.to_csv('generated_csv/exp3_valid_responses.csv', index=False)"
   ]
  },
  {
   "cell_type": "code",
   "execution_count": 405,
   "metadata": {},
   "outputs": [],
   "source": [
    "# drop the 'Prolific Id' column\n",
    "df_no_PID = df.drop('participant_id', axis=1)\n",
    "df_no_PID.to_csv('generated_csv/exp3_valid_responses_without_prolificID.csv', index=False)"
   ]
  },
  {
   "cell_type": "markdown",
   "metadata": {},
   "source": [
    "## Demographics"
   ]
  },
  {
   "cell_type": "code",
   "execution_count": 406,
   "metadata": {},
   "outputs": [],
   "source": [
    "def printDemographics(df):\n",
    "    #gender\n",
    "    male_count = len(df[df['gender'] == 'Male'])\n",
    "    female_count = len(df[df['gender'] == 'Female'])\n",
    "    other_count = len(df[(df['gender'] != 'Male') & (df['gender'] != 'Female')])\n",
    "    print(\"Gender\")\n",
    "    print(\"male:\", male_count)\n",
    "    print(\"female:\", female_count)\n",
    "    print(\"other(please check):\", other_count)\n",
    "    print()\n",
    "    \n",
    "    # age\n",
    "    print(\"Age\")\n",
    "    print(\"mean:\", np.mean(df['age']))\n",
    "    print(\"sd:\", df['age'].std())\n",
    "    print()\n",
    "    \n",
    "\n",
    "    bachelor_count = len(df[df['education'] == 'bachelor'])\n",
    "    master_count = len(df[df['education'] == 'master'])\n",
    "    phd_count = len(df[df['education'] == 'phd'])\n",
    "    other_count = len(df[(df['education'] != 'bachelor') & (df['education'] != 'master') & (df['education'] != 'phd')])\n",
    "\n",
    "    print(\"Eductaion\")\n",
    "    print(\"bachelor:\", bachelor_count)\n",
    "    print(\"master:\", master_count)\n",
    "    print(\"phd:\", phd_count)\n",
    "    print(\"other:\", other_count)\n",
    "    print()"
   ]
  },
  {
   "cell_type": "code",
   "execution_count": 407,
   "metadata": {},
   "outputs": [
    {
     "name": "stdout",
     "output_type": "stream",
     "text": [
      "Gender\n",
      "male: 76\n",
      "female: 74\n",
      "other(please check): 0\n",
      "\n",
      "Age\n",
      "mean: 27.966666666666665\n",
      "sd: 8.062188377343173\n",
      "\n",
      "Eductaion\n",
      "bachelor: 99\n",
      "master: 23\n",
      "phd: 1\n",
      "other: 27\n",
      "\n"
     ]
    }
   ],
   "source": [
    "printDemographics(df)"
   ]
  },
  {
   "cell_type": "code",
   "execution_count": 408,
   "metadata": {},
   "outputs": [
    {
     "name": "stdout",
     "output_type": "stream",
     "text": [
      "Gender\n",
      "male: 39\n",
      "female: 28\n",
      "other(please check): 0\n",
      "\n",
      "Age\n",
      "mean: 27.865671641791046\n",
      "sd: 8.112645427352362\n",
      "\n",
      "Eductaion\n",
      "bachelor: 48\n",
      "master: 12\n",
      "phd: 1\n",
      "other: 6\n",
      "\n"
     ]
    }
   ],
   "source": [
    "printDemographics(df[df['condition'] == 'bar'])"
   ]
  },
  {
   "cell_type": "code",
   "execution_count": 409,
   "metadata": {},
   "outputs": [
    {
     "data": {
      "text/plain": [
       "67"
      ]
     },
     "execution_count": 409,
     "metadata": {},
     "output_type": "execute_result"
    }
   ],
   "source": [
    "len(df[df['condition'] == 'bar'])"
   ]
  },
  {
   "cell_type": "code",
   "execution_count": 410,
   "metadata": {},
   "outputs": [
    {
     "data": {
      "text/plain": [
       "83"
      ]
     },
     "execution_count": 410,
     "metadata": {},
     "output_type": "execute_result"
    }
   ],
   "source": [
    "len(df[df['condition'] == 'pie'])"
   ]
  },
  {
   "cell_type": "code",
   "execution_count": 411,
   "metadata": {},
   "outputs": [
    {
     "name": "stdout",
     "output_type": "stream",
     "text": [
      "Gender\n",
      "male: 37\n",
      "female: 46\n",
      "other(please check): 0\n",
      "\n",
      "Age\n",
      "mean: 28.048192771084338\n",
      "sd: 8.069671638463987\n",
      "\n",
      "Eductaion\n",
      "bachelor: 51\n",
      "master: 11\n",
      "phd: 0\n",
      "other: 21\n",
      "\n"
     ]
    }
   ],
   "source": [
    "printDemographics(df[df['condition'] == 'pie'])"
   ]
  },
  {
   "cell_type": "markdown",
   "metadata": {},
   "source": [
    "# Data analysis"
   ]
  },
  {
   "cell_type": "code",
   "execution_count": 412,
   "metadata": {},
   "outputs": [],
   "source": [
    "# functions for plotCIs\n",
    "\n",
    "# prepare data\n",
    "def createNumberList(df, columnName):\n",
    "    \"\"\"\n",
    "    create a list of numbers from a df column, remove all nan in this column\n",
    "    \"\"\"\n",
    "    numberList = [x for x in df[columnName].tolist() if not math.isnan(x)]\n",
    "    \n",
    "    return numberList\n",
    "\n",
    "\n",
    "def bootstrap_ci(data, stat_function, n_bootstraps=1000, ci=95):\n",
    "    \"\"\"\n",
    "    Calculate the confidence interval using bootstrap.\n",
    "    :param data: The original data sample as a list or numpy array\n",
    "    :param stat_function: The function to compute the statistic of interest\n",
    "    :param n_bootstraps: The number of bootstrap samples to generate (default: 1000)\n",
    "    :param ci: The confidence level in percent (default: 95)\n",
    "    :return: A tuple with the lower and upper bounds of the confidence interval\n",
    "    \"\"\"\n",
    "    # Convert data to a numpy array if it's not already\n",
    "    data = np.asarray(data)\n",
    "    \n",
    "    # Generate bootstrap samples\n",
    "    bootstrap_samples = np.random.choice(data, (n_bootstraps, len(data)), replace=True)\n",
    "    \n",
    "    # Calculate the statistic for each bootstrap sample\n",
    "    bootstrap_stats = np.apply_along_axis(stat_function, 1, bootstrap_samples)\n",
    "    \n",
    "    # Calculate the lower and upper bounds of the confidence interval\n",
    "    lower_bound = np.percentile(bootstrap_stats, (100 - ci) / 2)\n",
    "    upper_bound = np.percentile(bootstrap_stats, 100 - (100 - ci) / 2)\n",
    "    \n",
    "    return lower_bound, upper_bound\n",
    "\n",
    "# Example usage:\n",
    "# data = readable_list\n",
    "# ci_lower, ci_upper = bootstrap_ci(data, np.mean)\n",
    "\n",
    "# print(f\"The 95% confidence interval for the mean is: ({ci_lower:.2f}, {ci_upper:.2f})\")\n",
    "def plotCIs(data_list, \n",
    "            x_axis_min, \n",
    "            x_axis_max, \n",
    "            fig_width, \n",
    "            fig_height, \n",
    "            fig_file_name,\n",
    "            gray_line_interval = 1):\n",
    "    # Create the graph with the specified width and height (in inch)\n",
    "    fig, ax = plt.subplots(figsize=(fig_width, fig_height))\n",
    "    \n",
    "    # hide the border of the figure\n",
    "    ax.spines['top'].set_visible(False)\n",
    "    ax.spines['right'].set_visible(False)\n",
    "    ax.spines['bottom'].set_visible(False)\n",
    "    ax.spines['left'].set_visible(False)\n",
    "    \n",
    "    # Extract the data from the dictionaries and calculate means and CIs\n",
    "    means_and_cis = [(np.mean(data_dict[label]), *bootstrap_ci(data_dict[label], np.mean)) for data_dict in data_list for label in data_dict]\n",
    "\n",
    "    # Plot the CIs and means for each data set\n",
    "    for i, (mean, ci_lower, ci_upper) in enumerate(means_and_cis, start=1):\n",
    "        ax.hlines(y=i, xmin=ci_lower, xmax=ci_upper, color='black')\n",
    "        ax.plot(mean, i, 'ko')\n",
    "        ax.text(x_axis_max+0.25, \n",
    "                i, \n",
    "                f\"{mean:.2f} [{ci_lower:.2f}, {ci_upper:.2f}]\",\n",
    "                horizontalalignment='left', \n",
    "                verticalalignment='center', \n",
    "                fontsize=8)\n",
    "        \n",
    "    # Plot the light grey vertical lines\n",
    "    for x_value in range(x_axis_min, x_axis_max+1, gray_line_interval):\n",
    "        ax.axvline(x_value, color='lightgrey', linewidth=0.5, zorder=0)\n",
    "        \n",
    "    # Set the y-axis labels to the names of the data sets\n",
    "    y_labels = [list(d.keys())[0] for d in data_list]\n",
    "    ax.set_yticks(range(1, len(data_list) + 1))\n",
    "    ax.set_yticklabels(y_labels)\n",
    "\n",
    "    # Set the x-axis limits\n",
    "    ax.set_xlim(x_axis_min, x_axis_max+0.5)\n",
    "\n",
    "    fig.savefig(fig_file_name+\".pdf\", format=\"pdf\", bbox_inches=\"tight\")\n",
    "\n",
    "#     "
   ]
  },
  {
   "cell_type": "code",
   "execution_count": 413,
   "metadata": {},
   "outputs": [],
   "source": [
    "def plotCIs_bonferroni_correction(data_list, \n",
    "            x_axis_min, \n",
    "            x_axis_max, \n",
    "            fig_width, \n",
    "            fig_height, \n",
    "            fig_file_name,\n",
    "            gray_line_interval=1,\n",
    "            alpha=0.05):\n",
    "    # Create the graph with the specified width and height (in inch)\n",
    "    fig, ax = plt.subplots(figsize=(fig_width, fig_height))\n",
    "    \n",
    "    # hide the border of the figure\n",
    "    ax.spines['top'].set_visible(False)\n",
    "    ax.spines['right'].set_visible(False)\n",
    "    ax.spines['bottom'].set_visible(False)\n",
    "    ax.spines['left'].set_visible(False)\n",
    "    \n",
    "    # Extract the data from the dictionaries and calculate means and CIs\n",
    "    means_and_cis = [(np.mean(data_dict[label]), *bootstrap_ci(data_dict[label], np.mean)) for data_dict in data_list for label in data_dict]\n",
    "\n",
    "    # Plot the CIs and means for each data set\n",
    "    for i, (mean, ci_lower, ci_upper) in enumerate(means_and_cis, start=1):\n",
    "        ax.hlines(y=i, xmin=ci_lower, xmax=ci_upper, color='black')\n",
    "        ax.plot(mean, i, 'ko')\n",
    "        ax.text(x_axis_max+0.25, \n",
    "                i, \n",
    "                f\"{mean:.2f} [{ci_lower:.2f}, {ci_upper:.2f}]\",\n",
    "                horizontalalignment='left', \n",
    "                verticalalignment='center', \n",
    "                fontsize=8)\n",
    "    \n",
    "        \n",
    "    # Plot the Bonferroni-corrected CIs for each data set in thin red lines\n",
    "    for i, (mean, ci_lower, ci_upper) in enumerate(means_and_cis, start=1):\n",
    "        n_comparisons = 3\n",
    "        alpha_adj = alpha / n_comparisons  # adjusted significance level for Bonferroni correction\n",
    "        bonf_lower = mean - np.sqrt((ci_upper - mean)**2 / n_comparisons) * np.sqrt(1 / (2*n_comparisons*alpha_adj))\n",
    "        bonf_upper = mean + np.sqrt((mean - ci_lower)**2 / n_comparisons) * np.sqrt(1 / (2*n_comparisons*alpha_adj))\n",
    "        ax.hlines(y=i, xmin=bonf_lower, xmax=bonf_upper, color='red', linewidth=0.5)\n",
    "        \n",
    "    # Plot the light grey vertical lines\n",
    "    for x_value in range(x_axis_min, x_axis_max+1, gray_line_interval):\n",
    "        ax.axvline(x_value, color='lightgrey', linewidth=0.5, zorder=0)\n",
    "        \n",
    "    # Set the y-axis labels to the names of the data sets\n",
    "    y_labels = [list(d.keys())[0] for d in data_list]\n",
    "    ax.set_yticks(range(1, len(data_list) + 1))\n",
    "    ax.set_yticklabels(y_labels)\n",
    "\n",
    "    # Set the x-axis limits\n",
    "    ax.set_xlim(x_axis_min, x_axis_max+0.5)\n",
    "\n",
    "    fig.savefig(fig_file_name+\".pdf\", format=\"pdf\", bbox_inches=\"tight\")"
   ]
  },
  {
   "cell_type": "code",
   "execution_count": 414,
   "metadata": {},
   "outputs": [],
   "source": [
    "def create_data_list_for_plotCIs (df, \n",
    "                                  theme, \n",
    "                                  condition1, \n",
    "                                  condition2, \n",
    "                                  condition3,\n",
    "                                  label1, \n",
    "                                  label2, \n",
    "                                  label3):\n",
    "    data_list = [\n",
    "        {label1: createNumberList(df, f\"{theme}_{condition1}\")},\n",
    "        {label2: createNumberList(df, f\"{theme}_{condition2}\")},\n",
    "        {label3: createNumberList(df, f\"{theme}_{condition3}\")}\n",
    "    ]\n",
    "    \n",
    "    return data_list\n"
   ]
  },
  {
   "cell_type": "code",
   "execution_count": 415,
   "metadata": {},
   "outputs": [],
   "source": [
    "def writeDifferenceTwoConditions(df, compare_theme, condition1, condition2):\n",
    "    \"\"\"\n",
    "    calculate difference (condition1 - condition2) of two conditions per participants (row), \n",
    "    and write it into a column in df ({compare_theme}_compare_{condition1}_{condition2})\n",
    "    \"\"\"\n",
    "    for index, row in df.iterrows():\n",
    "        difference = row[f\"{compare_theme}_{condition1}\"] - row[f\"{compare_theme}_{condition2}\"] \n",
    "        \n",
    "        # update the value of df (the original dataframe)\n",
    "        df.loc[index, f\"{compare_theme}_compare_{condition1}_{condition2}\"] = difference"
   ]
  },
  {
   "cell_type": "code",
   "execution_count": 416,
   "metadata": {},
   "outputs": [],
   "source": [
    "def plotComparisonCIs (df, \n",
    "                       compare_theme, \n",
    "                       condition1, \n",
    "                       condition2, \n",
    "                       condition3, \n",
    "                       label21, \n",
    "                       label31, \n",
    "                       label32, \n",
    "                       x_axis_min, \n",
    "                       x_axis_max,\n",
    "                       fig_width, \n",
    "                       fig_height, \n",
    "                       fig_file_name,\n",
    "                       gray_line_interval = 1):\n",
    "    writeDifferenceTwoConditions(df, compare_theme, condition2, condition1)\n",
    "    writeDifferenceTwoConditions(df, compare_theme, condition3, condition1)\n",
    "    writeDifferenceTwoConditions(df, compare_theme, condition3, condition2)\n",
    "    \n",
    "    data_list = [\n",
    "        {label21: createNumberList(df, f\"{compare_theme}_compare_{condition2}_{condition1}\")},\n",
    "        {label31: createNumberList(df, f\"{compare_theme}_compare_{condition3}_{condition1}\")},\n",
    "        {label32: createNumberList(df, f\"{compare_theme}_compare_{condition3}_{condition2}\")},\n",
    "    ]\n",
    "    \n",
    "    plotCIs_bonferroni_correction(data_list, x_axis_min, x_axis_max, fig_width, fig_height, fig_file_name)"
   ]
  },
  {
   "cell_type": "markdown",
   "metadata": {},
   "source": [
    "### Readable"
   ]
  },
  {
   "cell_type": "code",
   "execution_count": 417,
   "metadata": {},
   "outputs": [],
   "source": [
    "readable_bar_list = create_data_list_for_plotCIs (df, \n",
    "                                  'readable', \n",
    "                                  'bar_geo', \n",
    "                                  'bar_icon', \n",
    "                                  'bar_color',\n",
    "                                  'geometric bar', \n",
    "                                  'iconic bar', \n",
    "                                  'gray bar')"
   ]
  },
  {
   "cell_type": "code",
   "execution_count": 418,
   "metadata": {},
   "outputs": [
    {
     "data": {
      "image/png": "[encoded data removed]",
      "text/plain": [
       "<Figure size 432x144 with 1 Axes>"
      ]
     },
     "metadata": {
      "needs_background": "light"
     },
     "output_type": "display_data"
    }
   ],
   "source": [
    "plotCIs(readable_bar_list, 1, 7, 6, 2, \"generated_plots/readable_bar_CIs\")"
   ]
  },
  {
   "cell_type": "code",
   "execution_count": 419,
   "metadata": {},
   "outputs": [],
   "source": [
    "readable_pie_list = create_data_list_for_plotCIs (df, \n",
    "                                  'readable', \n",
    "                                  'pie_geo', \n",
    "                                  'pie_icon', \n",
    "                                  'pie_color',\n",
    "                                  'geometric pie', \n",
    "                                  'iconic pie', \n",
    "                                  'gray pie')"
   ]
  },
  {
   "cell_type": "code",
   "execution_count": 420,
   "metadata": {},
   "outputs": [
    {
     "data": {
      "image/png": "[encoded data removed]",
      "text/plain": [
       "<Figure size 432x144 with 1 Axes>"
      ]
     },
     "metadata": {
      "needs_background": "light"
     },
     "output_type": "display_data"
    }
   ],
   "source": [
    "plotCIs(readable_pie_list, 1, 7, 6, 2, \"generated_plots/readable_pie_CIs\")"
   ]
  },
  {
   "cell_type": "code",
   "execution_count": 421,
   "metadata": {},
   "outputs": [
    {
     "data": {
      "image/png": "[encoded data removed]",
      "text/plain": [
       "<Figure size 432x144 with 1 Axes>"
      ]
     },
     "metadata": {
      "needs_background": "light"
     },
     "output_type": "display_data"
    }
   ],
   "source": [
    "plotComparisonCIs (df, \n",
    "                   'readable', \n",
    "                   'bar_color', \n",
    "                   'bar_geo', \n",
    "                   'bar_icon', \n",
    "                   'geometric - gray', \n",
    "                   'iconic - gray', \n",
    "                   'iconic - geometric', \n",
    "                   -5, \n",
    "                   5, \n",
    "                   6, \n",
    "                   2, \n",
    "                   \"generated_plots/readable_compare_bar_CIs\")"
   ]
  },
  {
   "cell_type": "code",
   "execution_count": 422,
   "metadata": {},
   "outputs": [
    {
     "data": {
      "image/png": "[encoded data removed]",
      "text/plain": [
       "<Figure size 432x144 with 1 Axes>"
      ]
     },
     "metadata": {
      "needs_background": "light"
     },
     "output_type": "display_data"
    }
   ],
   "source": [
    "plotComparisonCIs (df, \n",
    "                   'readable', \n",
    "                   'pie_color', \n",
    "                   'pie_geo', \n",
    "                   'pie_icon', \n",
    "                   'geometric - gray', \n",
    "                   'iconic - gray', \n",
    "                   'iconic - geometric', \n",
    "                   -5, \n",
    "                   5, \n",
    "                   6, \n",
    "                   2, \n",
    "                   \"generated_plots/readable_compare_pie_CIs\")"
   ]
  },
  {
   "cell_type": "markdown",
   "metadata": {},
   "source": [
    "### Aesthetic"
   ]
  },
  {
   "cell_type": "code",
   "execution_count": 423,
   "metadata": {},
   "outputs": [],
   "source": [
    "# aesthetics\n",
    "def writeBeauvisScore(df, condition):\n",
    "    \"\"\"\n",
    "    calculate average score of 5 items in the BeauVis scale per participants (row), \n",
    "    and write it into a column in df (beauvis_{condition})\n",
    "    \"\"\"\n",
    "    df[f\"beauvis_{condition}\"] = \"\"\n",
    "    for index, row in df.iterrows():\n",
    "        beauvis_score = np.mean(row[[f\"beauvis0_{condition}\", \n",
    "                                     f\"beauvis1_{condition}\",\n",
    "                                     f\"beauvis2_{condition}\",\n",
    "                                     f\"beauvis3_{condition}\",\n",
    "                                     f\"beauvis4_{condition}\"\n",
    "                                    ]])\n",
    "        # update the value of df (the original dataframe)\n",
    "        df.loc[index, f\"beauvis_{condition}\"] = beauvis_score"
   ]
  },
  {
   "cell_type": "code",
   "execution_count": 424,
   "metadata": {},
   "outputs": [],
   "source": [
    "writeBeauvisScore(df, 'bar_geo')\n",
    "writeBeauvisScore(df, 'bar_icon')\n",
    "writeBeauvisScore(df, 'bar_color')\n",
    "writeBeauvisScore(df, 'pie_geo')\n",
    "writeBeauvisScore(df, 'pie_icon')\n",
    "writeBeauvisScore(df, 'pie_color')"
   ]
  },
  {
   "cell_type": "code",
   "execution_count": 425,
   "metadata": {},
   "outputs": [],
   "source": [
    "df_beauvis = df.loc[:, ['participant_id',\n",
    "                        'beauvis_bar_geo',\n",
    "                        'beauvis_bar_icon',\n",
    "                        'beauvis_bar_color',\n",
    "                        'beauvis_pie_geo',\n",
    "                        'beauvis_pie_icon',\n",
    "                        'beauvis_pie_color',]]\n",
    "df_beauvis.to_csv('generated_csv/beauvis.csv', index=False)"
   ]
  },
  {
   "cell_type": "code",
   "execution_count": 426,
   "metadata": {},
   "outputs": [],
   "source": [
    "df_readable = df.loc[:, ['participant_id',\n",
    "                        'readable_bar_geo',\n",
    "                        'readable_bar_icon',\n",
    "                        'readable_bar_color',\n",
    "                        'readable_pie_geo',\n",
    "                        'readable_pie_icon',\n",
    "                        'readable_pie_color',]]\n",
    "df_readable.to_csv('generated_csv/readable.csv', index=False)"
   ]
  },
  {
   "cell_type": "code",
   "execution_count": 427,
   "metadata": {},
   "outputs": [],
   "source": [
    "beauvis_bar_list = create_data_list_for_plotCIs (df, \n",
    "                                  'beauvis', \n",
    "                                  'bar_geo', \n",
    "                                  'bar_icon', \n",
    "                                  'bar_color',\n",
    "                                  'geometric bar', \n",
    "                                  'iconic bar', \n",
    "                                  'gray bar')"
   ]
  },
  {
   "cell_type": "code",
   "execution_count": 428,
   "metadata": {},
   "outputs": [
    {
     "data": {
      "image/png": "[encoded data removed]",
      "text/plain": [
       "<Figure size 432x144 with 1 Axes>"
      ]
     },
     "metadata": {
      "needs_background": "light"
     },
     "output_type": "display_data"
    }
   ],
   "source": [
    "plotCIs(beauvis_bar_list, 1, 7, 6, 2, \"generated_plots/beauvis_bar_CIs\")"
   ]
  },
  {
   "cell_type": "code",
   "execution_count": 429,
   "metadata": {},
   "outputs": [],
   "source": [
    "beauvis_pie_list = create_data_list_for_plotCIs (df, \n",
    "                                  'beauvis', \n",
    "                                  'pie_geo', \n",
    "                                  'pie_icon', \n",
    "                                  'pie_color',\n",
    "                                  'geometric pie', \n",
    "                                  'iconic pie', \n",
    "                                  'gray pie')"
   ]
  },
  {
   "cell_type": "code",
   "execution_count": 430,
   "metadata": {},
   "outputs": [
    {
     "data": {
      "image/png": "[encoded data removed]",
      "text/plain": [
       "<Figure size 432x144 with 1 Axes>"
      ]
     },
     "metadata": {
      "needs_background": "light"
     },
     "output_type": "display_data"
    }
   ],
   "source": [
    "plotCIs(beauvis_pie_list, 1, 7, 6, 2, \"generated_plots/beauvis_pie_CIs\")"
   ]
  },
  {
   "cell_type": "code",
   "execution_count": 431,
   "metadata": {},
   "outputs": [
    {
     "data": {
      "image/png": "[encoded data removed]",
      "text/plain": [
       "<Figure size 432x144 with 1 Axes>"
      ]
     },
     "metadata": {
      "needs_background": "light"
     },
     "output_type": "display_data"
    }
   ],
   "source": [
    "plotComparisonCIs (df, \n",
    "                   'beauvis', \n",
    "                   'bar_color', \n",
    "                   'bar_geo', \n",
    "                   'bar_icon', \n",
    "                   'geometric - gray', \n",
    "                   'iconic - gray', \n",
    "                   'iconic - geometric', \n",
    "                   -4, \n",
    "                   4, \n",
    "                   6, \n",
    "                   2, \n",
    "                   \"generated_plots/beauvis_compare_bar_CIs\")"
   ]
  },
  {
   "cell_type": "code",
   "execution_count": 432,
   "metadata": {},
   "outputs": [
    {
     "data": {
      "image/png": "[encoded data removed]",
      "text/plain": [
       "<Figure size 432x144 with 1 Axes>"
      ]
     },
     "metadata": {
      "needs_background": "light"
     },
     "output_type": "display_data"
    }
   ],
   "source": [
    "plotComparisonCIs (df, \n",
    "                   'beauvis', \n",
    "                   'pie_color', \n",
    "                   'pie_geo', \n",
    "                   'pie_icon', \n",
    "                   'geometric - gray', \n",
    "                   'iconic - gray', \n",
    "                   'iconic - geometric', \n",
    "                   -5, \n",
    "                   5, \n",
    "                   6, \n",
    "                   2, \n",
    "                   \"generated_plots/beauvis_compare_pie_CIs\")"
   ]
  },
  {
   "cell_type": "markdown",
   "metadata": {},
   "source": [
    "## Accuracy\n",
    "读取individual_texture文件夹里的所有csv，全部合并\n",
    "例如，现在如果我们要分析bar_geo条件的accuracy，我们需要\n",
    "1. 找出real\n",
    "2. condition = bar\n",
    "3. texture_condition = geo"
   ]
  },
  {
   "cell_type": "code",
   "execution_count": 433,
   "metadata": {},
   "outputs": [],
   "source": [
    "#读file,算正确率\n",
    "# Set the folder path\n",
    "folder_path = 'individual_texture'\n",
    "\n",
    "# Find all CSV files in the folder\n",
    "csv_files = glob.glob(os.path.join(folder_path, '*.csv'))\n",
    "\n",
    "# Define error rate data frame\n",
    "correct_rate_columns = ['participant_id', \n",
    "                        'correct_rate_bar_geo', \n",
    "                        'correct_rate_bar_icon', \n",
    "                        'correct_rate_bar_color', \n",
    "                        'correct_rate_pie_geo', \n",
    "                        'correct_rate_pie_icon', \n",
    "                        'correct_rate_pie_color']\n",
    "df_correct_rate = pd.DataFrame(columns=correct_rate_columns)\n",
    "\n",
    "\n",
    "# Define error rate data frame\n",
    "response_time_columns = ['participant_id', \n",
    "                        'response_time_bar_geo', \n",
    "                        'response_time_bar_icon', \n",
    "                        'response_time_bar_color', \n",
    "                        'response_time_pie_geo', \n",
    "                        'response_time_pie_icon', \n",
    "                        'response_time_pie_color']\n",
    "df_response_time = pd.DataFrame(columns=response_time_columns)"
   ]
  },
  {
   "cell_type": "code",
   "execution_count": 434,
   "metadata": {},
   "outputs": [],
   "source": [
    "def get_correct_rate(df_file, texture_condition):\n",
    "    df_file_filtered = df_file[(df_file['trial_type'] == 'real') &\n",
    "             (df_file['texture_condition'] == texture_condition)]\n",
    "    # Calculate the correct_rate in this condition per participant\n",
    "    total_rows = len(df_file_filtered)\n",
    "    correct_rows = len(df_file_filtered[df_file_filtered['answer_accuracy'] == 1])\n",
    "    correct_rate = (correct_rows / total_rows) * 100\n",
    "    \n",
    "    \n",
    "    # Append the new row with file_name and correct_rate\n",
    "#     new_row = {'participant_id': participant_id, \n",
    "#                f\"correct_rate_{condition}_{texture_condition}\": correct_rate}\n",
    "    \n",
    "    return correct_rate"
   ]
  },
  {
   "cell_type": "code",
   "execution_count": 435,
   "metadata": {},
   "outputs": [],
   "source": [
    "def get_response_time(df_file, texture_condition):\n",
    "    df_file_filtered = df_file[(df_file['trial_type'] == 'real') &\n",
    "             (df_file['texture_condition'] == texture_condition)&\n",
    "             (df_file['answer_accuracy'] != -1)] # We exclude the time-out trials\n",
    "    avg_response_time = df_file_filtered['elapsed_time'].mean()\n",
    "    \n",
    "    return avg_response_time"
   ]
  },
  {
   "cell_type": "code",
   "execution_count": 436,
   "metadata": {},
   "outputs": [
    {
     "name": "stdout",
     "output_type": "stream",
     "text": [
      "60e2ebb6ad1d5ee0e515a7c5.csv has 77 rows instead of 78\n",
      "600f0f9c3bfcdc077c924e51.csv has 70 rows instead of 78\n",
      "60ba46740472bd36868efcb0.csv has 77 rows instead of 78\n",
      "60bbc368a316ee5421a1153b.csv has 77 rows instead of 78\n",
      "5f89e17a57925103ac8601df.csv has 76 rows instead of 78\n",
      "612bdeaaaf02651ea655d21a.csv has 77 rows instead of 78\n",
      "5d66f23706e589000157e7ec.csv has 77 rows instead of 78\n",
      "               participant_id correct_rate_bar_geo correct_rate_bar_icon  \\\n",
      "0    5cabf58293e29a0016018c30                   70                    80   \n",
      "1    612cdfbb6f79aacd20c2b2c6                   90                    85   \n",
      "2    61015f63f9a351d3171a0f98                  100                    80   \n",
      "3    5e7b49fde74e0c14076f273b                  NaN                   NaN   \n",
      "4    60609771c29892dbccbe3c2b                  NaN                   NaN   \n",
      "..                        ...                  ...                   ...   \n",
      "144  614aa3c261217ac8ee05b90c                   75                    85   \n",
      "145  5e81efd1fdc8d601701db62b                  NaN                   NaN   \n",
      "146  5f73744c5f51ad0a1a0f176e                  NaN                   NaN   \n",
      "147  5eed26d4e4dd3e14979dacf8                   95                    85   \n",
      "148  61574e3de0229e6bb92368c2                  NaN                   NaN   \n",
      "\n",
      "    correct_rate_bar_color correct_rate_pie_geo correct_rate_pie_icon  \\\n",
      "0                       65                  NaN                   NaN   \n",
      "1                       90                  NaN                   NaN   \n",
      "2                       95                  NaN                   NaN   \n",
      "3                      NaN                   80                    65   \n",
      "4                      NaN                   90                    95   \n",
      "..                     ...                  ...                   ...   \n",
      "144                     65                  NaN                   NaN   \n",
      "145                    NaN                   85                    80   \n",
      "146                    NaN                   80                    80   \n",
      "147                     90                  NaN                   NaN   \n",
      "148                    NaN                   85                    95   \n",
      "\n",
      "    correct_rate_pie_color  \n",
      "0                      NaN  \n",
      "1                      NaN  \n",
      "2                      NaN  \n",
      "3                       60  \n",
      "4                      100  \n",
      "..                     ...  \n",
      "144                    NaN  \n",
      "145                     95  \n",
      "146                     70  \n",
      "147                    NaN  \n",
      "148                     95  \n",
      "\n",
      "[149 rows x 7 columns]\n"
     ]
    }
   ],
   "source": [
    "# Initialize an empty list to store individual DataFrames\n",
    "dataframes = []\n",
    "\n",
    "# Read and store each CSV file as a DataFrame, and check if the filename matches a participant_id\n",
    "for file in csv_files:\n",
    "    # Get the filename without extension\n",
    "    file_name = os.path.splitext(os.path.basename(file))[0]\n",
    "\n",
    "    \n",
    "    # Check if the filename matches any value in the 'participant_id' column\n",
    "    if file_name in df['participant_id'].values:\n",
    "        # Read the CSV file and store it as a DataFrame\n",
    "        df_file = pd.read_csv(file)\n",
    "        \n",
    "        # Add this participants' answer to df_correct_rate\n",
    "        correct_rate_new_row = {\"participant_id\": file_name}\n",
    "        df_correct_rate = df_correct_rate.append(correct_rate_new_row, ignore_index=True)\n",
    "        \n",
    "        correct_rate = get_correct_rate(df_file, 'geo')\n",
    "        df_correct_rate.loc[df_correct_rate['participant_id'] == file_name, f\"correct_rate_{df_file['condition'].iloc[0]}_geo\"] = correct_rate\n",
    "        \n",
    "        correct_rate = get_correct_rate(df_file, 'icon')\n",
    "        df_correct_rate.loc[df_correct_rate['participant_id'] == file_name, f\"correct_rate_{df_file['condition'].iloc[0]}_icon\"] = correct_rate\n",
    "        \n",
    "        correct_rate = get_correct_rate(df_file, 'color')\n",
    "        df_correct_rate.loc[df_correct_rate['participant_id'] == file_name, f\"correct_rate_{df_file['condition'].iloc[0]}_color\"] = correct_rate\n",
    "        \n",
    "        # Add this participants' answer to df_correct_rate\n",
    "        response_time_new_row = {\"participant_id\": file_name}\n",
    "        df_response_time = df_response_time.append(response_time_new_row, ignore_index=True)\n",
    "        \n",
    "        response_time = get_response_time(df_file, 'geo')\n",
    "        df_response_time.loc[df_response_time['participant_id'] == file_name, f\"response_time_{df_file['condition'].iloc[0]}_geo\"] = response_time\n",
    "        \n",
    "        response_time = get_response_time(df_file, 'icon')\n",
    "        df_response_time.loc[df_response_time['participant_id'] == file_name, f\"response_time_{df_file['condition'].iloc[0]}_icon\"] = response_time\n",
    "        \n",
    "        response_time = get_response_time(df_file, 'color')\n",
    "        df_response_time.loc[df_response_time['participant_id'] == file_name, f\"response_time_{df_file['condition'].iloc[0]}_color\"] = response_time\n",
    "        \n",
    "        \n",
    "#         new_row = write_correct_rate_row(df_file, df_correct_rate, file_name, df_file['condition'].iloc[0], 'geo')\n",
    "#         df_correct_rate = df_correct_rate.append(new_row, ignore_index=True)\n",
    "        \n",
    "#         new_row = write_correct_rate_row(df_file, df_correct_rate, file_name, df_file['condition'].iloc[0], 'icon')\n",
    "#         df_correct_rate = df_correct_rate.append(new_row, ignore_index=True)\n",
    "        \n",
    "#         new_row = write_correct_rate_row(df_file, df_correct_rate, file_name, df_file['condition'].iloc[0], 'color')\n",
    "#         df_correct_rate = df_correct_rate.append(new_row, ignore_index=True)\n",
    "        # Check if the number of rows is equal to 78\n",
    "        dataframes.append(df_file)\n",
    "        if df_file.shape[0] != 78:\n",
    "            # Print the filename if the number of rows is not equal to 78\n",
    "            print(f\"{file_name}.csv has {df_file.shape[0]} rows instead of 78\")\n",
    "\n",
    "\n",
    "# Concatenate all individual DataFrames into a single DataFrame\n",
    "combined_df = pd.concat(dataframes, ignore_index=True)\n",
    "\n",
    "# Check the combined DataFrame\n",
    "# print(combined_df)\n",
    "\n",
    "print(df_correct_rate)\n",
    "\n",
    "combined_df.to_csv('generated_csv/combined.csv', index=False)\n",
    "\n",
    "df_correct_rate.to_csv('generated_csv/correct_rate.csv', index=False)\n",
    "\n",
    "df_response_time.to_csv('generated_csv/response_time.csv', index=False)"
   ]
  },
  {
   "cell_type": "code",
   "execution_count": 437,
   "metadata": {},
   "outputs": [
    {
     "data": {
      "text/plain": [
       "real        8928\n",
       "training    2679\n",
       "Name: trial_type, dtype: int64"
      ]
     },
     "execution_count": 437,
     "metadata": {},
     "output_type": "execute_result"
    }
   ],
   "source": [
    "combined_df[\"trial_type\"].value_counts()"
   ]
  },
  {
   "cell_type": "code",
   "execution_count": 438,
   "metadata": {},
   "outputs": [
    {
     "data": {
      "text/html": [
       "<div>\n",
       "<style scoped>\n",
       "    .dataframe tbody tr th:only-of-type {\n",
       "        vertical-align: middle;\n",
       "    }\n",
       "\n",
       "    .dataframe tbody tr th {\n",
       "        vertical-align: top;\n",
       "    }\n",
       "\n",
       "    .dataframe thead th {\n",
       "        text-align: right;\n",
       "    }\n",
       "</style>\n",
       "<table border=\"1\" class=\"dataframe\">\n",
       "  <thead>\n",
       "    <tr style=\"text-align: right;\">\n",
       "      <th></th>\n",
       "      <th>participant_id</th>\n",
       "      <th>answer_accuracy</th>\n",
       "      <th>elapsed_time</th>\n",
       "      <th>trial_type</th>\n",
       "      <th>condition</th>\n",
       "      <th>current_stimulus_index</th>\n",
       "      <th>target_left</th>\n",
       "      <th>target_right</th>\n",
       "      <th>correct_answer</th>\n",
       "      <th>key_pressed</th>\n",
       "      <th>questions_order</th>\n",
       "      <th>question_index</th>\n",
       "      <th>question_condition</th>\n",
       "      <th>textures_order_for_question</th>\n",
       "      <th>texture_index</th>\n",
       "      <th>texture_condition</th>\n",
       "      <th>trial_number</th>\n",
       "    </tr>\n",
       "  </thead>\n",
       "  <tbody>\n",
       "    <tr>\n",
       "      <th>0</th>\n",
       "      <td>5cabf58293e29a0016018c30</td>\n",
       "      <td>1</td>\n",
       "      <td>3632</td>\n",
       "      <td>training</td>\n",
       "      <td>bar</td>\n",
       "      <td>28</td>\n",
       "      <td>mushroom</td>\n",
       "      <td>celery</td>\n",
       "      <td>celery</td>\n",
       "      <td>ArrowRight</td>\n",
       "      <td>fewer, more</td>\n",
       "      <td>0</td>\n",
       "      <td>FEWER</td>\n",
       "      <td>geo, icon, color</td>\n",
       "      <td>0</td>\n",
       "      <td>geo</td>\n",
       "      <td>0.0</td>\n",
       "    </tr>\n",
       "    <tr>\n",
       "      <th>1</th>\n",
       "      <td>5cabf58293e29a0016018c30</td>\n",
       "      <td>1</td>\n",
       "      <td>3905</td>\n",
       "      <td>training</td>\n",
       "      <td>bar</td>\n",
       "      <td>23</td>\n",
       "      <td>carrot</td>\n",
       "      <td>olive</td>\n",
       "      <td>carrot</td>\n",
       "      <td>ArrowLeft</td>\n",
       "      <td>fewer, more</td>\n",
       "      <td>0</td>\n",
       "      <td>FEWER</td>\n",
       "      <td>geo, icon, color</td>\n",
       "      <td>0</td>\n",
       "      <td>geo</td>\n",
       "      <td>1.0</td>\n",
       "    </tr>\n",
       "    <tr>\n",
       "      <th>2</th>\n",
       "      <td>5cabf58293e29a0016018c30</td>\n",
       "      <td>0</td>\n",
       "      <td>1734</td>\n",
       "      <td>training</td>\n",
       "      <td>bar</td>\n",
       "      <td>11</td>\n",
       "      <td>tomato</td>\n",
       "      <td>carrot</td>\n",
       "      <td>carrot</td>\n",
       "      <td>ArrowLeft</td>\n",
       "      <td>fewer, more</td>\n",
       "      <td>0</td>\n",
       "      <td>FEWER</td>\n",
       "      <td>geo, icon, color</td>\n",
       "      <td>0</td>\n",
       "      <td>geo</td>\n",
       "      <td>2.0</td>\n",
       "    </tr>\n",
       "    <tr>\n",
       "      <th>3</th>\n",
       "      <td>5cabf58293e29a0016018c30</td>\n",
       "      <td>0</td>\n",
       "      <td>2232</td>\n",
       "      <td>real</td>\n",
       "      <td>bar</td>\n",
       "      <td>1</td>\n",
       "      <td>corn</td>\n",
       "      <td>tomato</td>\n",
       "      <td>corn</td>\n",
       "      <td>ArrowRight</td>\n",
       "      <td>fewer, more</td>\n",
       "      <td>0</td>\n",
       "      <td>FEWER</td>\n",
       "      <td>geo, icon, color</td>\n",
       "      <td>0</td>\n",
       "      <td>geo</td>\n",
       "      <td>0.0</td>\n",
       "    </tr>\n",
       "    <tr>\n",
       "      <th>4</th>\n",
       "      <td>5cabf58293e29a0016018c30</td>\n",
       "      <td>0</td>\n",
       "      <td>2327</td>\n",
       "      <td>real</td>\n",
       "      <td>bar</td>\n",
       "      <td>3</td>\n",
       "      <td>corn</td>\n",
       "      <td>olive</td>\n",
       "      <td>olive</td>\n",
       "      <td>ArrowLeft</td>\n",
       "      <td>fewer, more</td>\n",
       "      <td>0</td>\n",
       "      <td>FEWER</td>\n",
       "      <td>geo, icon, color</td>\n",
       "      <td>0</td>\n",
       "      <td>geo</td>\n",
       "      <td>1.0</td>\n",
       "    </tr>\n",
       "    <tr>\n",
       "      <th>...</th>\n",
       "      <td>...</td>\n",
       "      <td>...</td>\n",
       "      <td>...</td>\n",
       "      <td>...</td>\n",
       "      <td>...</td>\n",
       "      <td>...</td>\n",
       "      <td>...</td>\n",
       "      <td>...</td>\n",
       "      <td>...</td>\n",
       "      <td>...</td>\n",
       "      <td>...</td>\n",
       "      <td>...</td>\n",
       "      <td>...</td>\n",
       "      <td>...</td>\n",
       "      <td>...</td>\n",
       "      <td>...</td>\n",
       "      <td>...</td>\n",
       "    </tr>\n",
       "    <tr>\n",
       "      <th>11602</th>\n",
       "      <td>61574e3de0229e6bb92368c2</td>\n",
       "      <td>1</td>\n",
       "      <td>2162</td>\n",
       "      <td>real</td>\n",
       "      <td>pie</td>\n",
       "      <td>9</td>\n",
       "      <td>corn</td>\n",
       "      <td>mushroom</td>\n",
       "      <td>mushroom</td>\n",
       "      <td>ArrowRight</td>\n",
       "      <td>fewer, more</td>\n",
       "      <td>1</td>\n",
       "      <td>MORE</td>\n",
       "      <td>color, geo, icon</td>\n",
       "      <td>2</td>\n",
       "      <td>icon</td>\n",
       "      <td>5.0</td>\n",
       "    </tr>\n",
       "    <tr>\n",
       "      <th>11603</th>\n",
       "      <td>61574e3de0229e6bb92368c2</td>\n",
       "      <td>1</td>\n",
       "      <td>3447</td>\n",
       "      <td>real</td>\n",
       "      <td>pie</td>\n",
       "      <td>7</td>\n",
       "      <td>mushroom</td>\n",
       "      <td>corn</td>\n",
       "      <td>corn</td>\n",
       "      <td>ArrowRight</td>\n",
       "      <td>fewer, more</td>\n",
       "      <td>1</td>\n",
       "      <td>MORE</td>\n",
       "      <td>color, geo, icon</td>\n",
       "      <td>2</td>\n",
       "      <td>icon</td>\n",
       "      <td>6.0</td>\n",
       "    </tr>\n",
       "    <tr>\n",
       "      <th>11604</th>\n",
       "      <td>61574e3de0229e6bb92368c2</td>\n",
       "      <td>1</td>\n",
       "      <td>2362</td>\n",
       "      <td>real</td>\n",
       "      <td>pie</td>\n",
       "      <td>1</td>\n",
       "      <td>tomato</td>\n",
       "      <td>corn</td>\n",
       "      <td>tomato</td>\n",
       "      <td>ArrowLeft</td>\n",
       "      <td>fewer, more</td>\n",
       "      <td>1</td>\n",
       "      <td>MORE</td>\n",
       "      <td>color, geo, icon</td>\n",
       "      <td>2</td>\n",
       "      <td>icon</td>\n",
       "      <td>7.0</td>\n",
       "    </tr>\n",
       "    <tr>\n",
       "      <th>11605</th>\n",
       "      <td>61574e3de0229e6bb92368c2</td>\n",
       "      <td>1</td>\n",
       "      <td>2238</td>\n",
       "      <td>real</td>\n",
       "      <td>pie</td>\n",
       "      <td>2</td>\n",
       "      <td>mushroom</td>\n",
       "      <td>celery</td>\n",
       "      <td>mushroom</td>\n",
       "      <td>ArrowLeft</td>\n",
       "      <td>fewer, more</td>\n",
       "      <td>1</td>\n",
       "      <td>MORE</td>\n",
       "      <td>color, geo, icon</td>\n",
       "      <td>2</td>\n",
       "      <td>icon</td>\n",
       "      <td>8.0</td>\n",
       "    </tr>\n",
       "    <tr>\n",
       "      <th>11606</th>\n",
       "      <td>61574e3de0229e6bb92368c2</td>\n",
       "      <td>1</td>\n",
       "      <td>2555</td>\n",
       "      <td>real</td>\n",
       "      <td>pie</td>\n",
       "      <td>5</td>\n",
       "      <td>celery</td>\n",
       "      <td>olive</td>\n",
       "      <td>celery</td>\n",
       "      <td>ArrowLeft</td>\n",
       "      <td>fewer, more</td>\n",
       "      <td>1</td>\n",
       "      <td>MORE</td>\n",
       "      <td>color, geo, icon</td>\n",
       "      <td>2</td>\n",
       "      <td>icon</td>\n",
       "      <td>9.0</td>\n",
       "    </tr>\n",
       "  </tbody>\n",
       "</table>\n",
       "<p>11607 rows × 17 columns</p>\n",
       "</div>"
      ],
      "text/plain": [
       "                 participant_id  answer_accuracy  elapsed_time trial_type  \\\n",
       "0      5cabf58293e29a0016018c30                1          3632   training   \n",
       "1      5cabf58293e29a0016018c30                1          3905   training   \n",
       "2      5cabf58293e29a0016018c30                0          1734   training   \n",
       "3      5cabf58293e29a0016018c30                0          2232       real   \n",
       "4      5cabf58293e29a0016018c30                0          2327       real   \n",
       "...                         ...              ...           ...        ...   \n",
       "11602  61574e3de0229e6bb92368c2                1          2162       real   \n",
       "11603  61574e3de0229e6bb92368c2                1          3447       real   \n",
       "11604  61574e3de0229e6bb92368c2                1          2362       real   \n",
       "11605  61574e3de0229e6bb92368c2                1          2238       real   \n",
       "11606  61574e3de0229e6bb92368c2                1          2555       real   \n",
       "\n",
       "      condition  current_stimulus_index target_left target_right  \\\n",
       "0           bar                      28    mushroom       celery   \n",
       "1           bar                      23      carrot        olive   \n",
       "2           bar                      11      tomato       carrot   \n",
       "3           bar                       1        corn       tomato   \n",
       "4           bar                       3        corn        olive   \n",
       "...         ...                     ...         ...          ...   \n",
       "11602       pie                       9        corn     mushroom   \n",
       "11603       pie                       7    mushroom         corn   \n",
       "11604       pie                       1      tomato         corn   \n",
       "11605       pie                       2    mushroom       celery   \n",
       "11606       pie                       5      celery        olive   \n",
       "\n",
       "      correct_answer key_pressed questions_order question_index  \\\n",
       "0             celery  ArrowRight     fewer, more              0   \n",
       "1             carrot   ArrowLeft     fewer, more              0   \n",
       "2             carrot   ArrowLeft     fewer, more              0   \n",
       "3               corn  ArrowRight     fewer, more              0   \n",
       "4              olive   ArrowLeft     fewer, more              0   \n",
       "...              ...         ...             ...            ...   \n",
       "11602       mushroom  ArrowRight     fewer, more              1   \n",
       "11603           corn  ArrowRight     fewer, more              1   \n",
       "11604         tomato   ArrowLeft     fewer, more              1   \n",
       "11605       mushroom   ArrowLeft     fewer, more              1   \n",
       "11606         celery   ArrowLeft     fewer, more              1   \n",
       "\n",
       "      question_condition textures_order_for_question texture_index  \\\n",
       "0                  FEWER            geo, icon, color             0   \n",
       "1                  FEWER            geo, icon, color             0   \n",
       "2                  FEWER            geo, icon, color             0   \n",
       "3                  FEWER            geo, icon, color             0   \n",
       "4                  FEWER            geo, icon, color             0   \n",
       "...                  ...                         ...           ...   \n",
       "11602               MORE            color, geo, icon             2   \n",
       "11603               MORE            color, geo, icon             2   \n",
       "11604               MORE            color, geo, icon             2   \n",
       "11605               MORE            color, geo, icon             2   \n",
       "11606               MORE            color, geo, icon             2   \n",
       "\n",
       "      texture_condition  trial_number  \n",
       "0                   geo           0.0  \n",
       "1                   geo           1.0  \n",
       "2                   geo           2.0  \n",
       "3                   geo           0.0  \n",
       "4                   geo           1.0  \n",
       "...                 ...           ...  \n",
       "11602              icon           5.0  \n",
       "11603              icon           6.0  \n",
       "11604              icon           7.0  \n",
       "11605              icon           8.0  \n",
       "11606              icon           9.0  \n",
       "\n",
       "[11607 rows x 17 columns]"
      ]
     },
     "execution_count": 438,
     "metadata": {},
     "output_type": "execute_result"
    }
   ],
   "source": [
    "combined_df"
   ]
  },
  {
   "cell_type": "code",
   "execution_count": 439,
   "metadata": {},
   "outputs": [
    {
     "data": {
      "image/png": "[encoded data removed]",
      "text/plain": [
       "<Figure size 432x144 with 1 Axes>"
      ]
     },
     "metadata": {
      "needs_background": "light"
     },
     "output_type": "display_data"
    }
   ],
   "source": [
    "correct_rate_bar_list = create_data_list_for_plotCIs (df_correct_rate, \n",
    "                                  'correct_rate', \n",
    "                                  'bar_geo', \n",
    "                                  'bar_icon', \n",
    "                                  'bar_color',\n",
    "                                  'geometric bar', \n",
    "                                  'iconic bar', \n",
    "                                  'gray bar')\n",
    "plotCIs(correct_rate_bar_list,80, 100, 6, 2, \"generated_plots/correct_rate_bar_CIs\", 5)"
   ]
  },
  {
   "cell_type": "code",
   "execution_count": 440,
   "metadata": {},
   "outputs": [
    {
     "data": {
      "image/png": "[encoded data removed]",
      "text/plain": [
       "<Figure size 432x144 with 1 Axes>"
      ]
     },
     "metadata": {
      "needs_background": "light"
     },
     "output_type": "display_data"
    }
   ],
   "source": [
    "correct_rate_pie_list = create_data_list_for_plotCIs (df_correct_rate, \n",
    "                                  'correct_rate', \n",
    "                                  'pie_geo', \n",
    "                                  'pie_icon', \n",
    "                                  'pie_color',\n",
    "                                  'geometric pie', \n",
    "                                  'iconic pie', \n",
    "                                  'gray pie')\n",
    "plotCIs(correct_rate_pie_list, 80, 100, 6, 2, \"generated_plots/correct_rate_pie_CIs\", 5)"
   ]
  },
  {
   "cell_type": "code",
   "execution_count": 441,
   "metadata": {},
   "outputs": [
    {
     "data": {
      "image/png": "[encoded data removed]",
      "text/plain": [
       "<Figure size 432x144 with 1 Axes>"
      ]
     },
     "metadata": {
      "needs_background": "light"
     },
     "output_type": "display_data"
    }
   ],
   "source": [
    "plotComparisonCIs (df_correct_rate, \n",
    "                   'correct_rate', \n",
    "                   'bar_color', \n",
    "                   'bar_geo', \n",
    "                   'bar_icon', \n",
    "                   'geometric - gray', \n",
    "                   'iconic - gray', \n",
    "                   'iconic - geometric', \n",
    "                   -7, \n",
    "                   7, \n",
    "                   6, \n",
    "                   2, \n",
    "                   \"generated_plots/correct_rate_compare_bar_CIs\",\n",
    "                   2)"
   ]
  },
  {
   "cell_type": "code",
   "execution_count": 442,
   "metadata": {},
   "outputs": [
    {
     "data": {
      "image/png": "[encoded data removed]",
      "text/plain": [
       "<Figure size 432x144 with 1 Axes>"
      ]
     },
     "metadata": {
      "needs_background": "light"
     },
     "output_type": "display_data"
    }
   ],
   "source": [
    "plotComparisonCIs (df_correct_rate, \n",
    "                   'correct_rate', \n",
    "                   'pie_color', \n",
    "                   'pie_geo', \n",
    "                   'pie_icon', \n",
    "                   'geometric - gray', \n",
    "                   'iconic - gray', \n",
    "                   'iconic - geometric', \n",
    "                   -7, \n",
    "                   7, \n",
    "                   6, \n",
    "                   2, \n",
    "                   \"generated_plots/correct_rate_compare_pie_CIs\",\n",
    "                   2)"
   ]
  },
  {
   "cell_type": "markdown",
   "metadata": {},
   "source": [
    "### Time Out\n",
    "analysis the distribution of time out trials"
   ]
  },
  {
   "cell_type": "code",
   "execution_count": 443,
   "metadata": {},
   "outputs": [],
   "source": [
    "# Generate the subset DataFrame of time out real trials\n",
    "df_timeout_pre = combined_df[(combined_df['trial_type'] == 'real') & (combined_df['answer_accuracy'] == -1)]\n",
    "df_timeout_pre.to_csv('generated_csv/timeout.csv', index=False)\n",
    "df_timeout_pre = df_timeout_pre.reset_index(drop=True)"
   ]
  },
  {
   "cell_type": "code",
   "execution_count": 444,
   "metadata": {},
   "outputs": [],
   "source": [
    "df_timeout = pd.read_csv('generated_csv/timeout_fixed.csv')"
   ]
  },
  {
   "cell_type": "code",
   "execution_count": 445,
   "metadata": {},
   "outputs": [],
   "source": [
    "# # Fix df_timeout_pre\n",
    "# key_index = df_timeout_pre.columns.get_loc('key_pressed')\n",
    "\n",
    "# # Loop through all rows of the DataFrame\n",
    "# for i, row in df_timeout_pre.iterrows():\n",
    "#     # Check if the value in the key_pressed column is not \"none\"\n",
    "#     if row[\"key_pressed\"] != 'none':\n",
    "#         print(i)\n",
    "#         # Move the values one column left\n",
    "#         df_timeout_pre.loc[i, key_index:-1] = df_timeout_pre.loc[i, key_index+1:].values\n",
    "#         # Fill the last column with \"none\"\n",
    "#         df_timeout_pre.iloc[i, key_index] = 'none'\n",
    "# df_timeout_pre\n",
    "# df_timeout_pre.to_csv('generated_csv/timeout_fixed.csv', index=False)"
   ]
  },
  {
   "cell_type": "code",
   "execution_count": 446,
   "metadata": {},
   "outputs": [
    {
     "data": {
      "text/plain": [
       "pie    79\n",
       "bar    46\n",
       "Name: condition, dtype: int64"
      ]
     },
     "execution_count": 446,
     "metadata": {},
     "output_type": "execute_result"
    }
   ],
   "source": [
    "df_timeout['condition'].value_counts()"
   ]
  },
  {
   "cell_type": "code",
   "execution_count": 447,
   "metadata": {},
   "outputs": [
    {
     "data": {
      "text/plain": [
       "icon     57\n",
       "geo      35\n",
       "color    33\n",
       "Name: texture_condition, dtype: int64"
      ]
     },
     "execution_count": 447,
     "metadata": {},
     "output_type": "execute_result"
    }
   ],
   "source": [
    "df_timeout['texture_condition'].value_counts()"
   ]
  },
  {
   "cell_type": "code",
   "execution_count": 448,
   "metadata": {},
   "outputs": [
    {
     "name": "stdout",
     "output_type": "stream",
     "text": [
      "number of time-out trials in...\n",
      "each chart type:\n",
      "pie    79\n",
      "bar    46\n",
      "Name: condition, dtype: int64\n",
      "\n",
      "each texture type:\n",
      "icon     57\n",
      "geo      35\n",
      "color    33\n",
      "Name: texture_condition, dtype: int64\n",
      "\n",
      "each condition\n",
      "geometric bar:12\n",
      "iconic bar:26\n",
      "gray bar:8\n",
      "\n",
      "geometric pie:23\n",
      "iconic pie:31\n",
      "gray pie:25\n"
     ]
    }
   ],
   "source": [
    "print(\"number of time-out trials in...\")\n",
    "print(\"each chart type:\")\n",
    "print(df_timeout['condition'].value_counts())\n",
    "print()\n",
    "\n",
    "print(\"each texture type:\")\n",
    "print(df_timeout['texture_condition'].value_counts())\n",
    "print()\n",
    "\n",
    "\n",
    "print(\"each condition\")\n",
    "filtered_df = df_timeout[(df_timeout['condition'] == 'bar') & (df_timeout['texture_condition'] == 'geo')]\n",
    "num_rows = filtered_df.shape[0]\n",
    "print(\"geometric bar:\" + str(num_rows))\n",
    "                                                               \n",
    "filtered_df = df_timeout[(df_timeout['condition'] == 'bar') & (df_timeout['texture_condition'] == 'icon')]\n",
    "num_rows = filtered_df.shape[0]\n",
    "print(\"iconic bar:\" + str(num_rows))\n",
    "                                                               \n",
    "filtered_df = df_timeout[(df_timeout['condition'] == 'bar') & (df_timeout['texture_condition'] == 'color')]\n",
    "num_rows = filtered_df.shape[0]\n",
    "print(\"gray bar:\" + str(num_rows))\n",
    "\n",
    "print()\n",
    "filtered_df = df_timeout[(df_timeout['condition'] == 'pie') & (df_timeout['texture_condition'] == 'geo')]\n",
    "num_rows = filtered_df.shape[0]\n",
    "print(\"geometric pie:\" + str(num_rows))\n",
    "                                                               \n",
    "filtered_df = df_timeout[(df_timeout['condition'] == 'pie') & (df_timeout['texture_condition'] == 'icon')]\n",
    "num_rows = filtered_df.shape[0]\n",
    "print(\"iconic pie:\" + str(num_rows))\n",
    "                                                               \n",
    "filtered_df = df_timeout[(df_timeout['condition'] == 'pie') & (df_timeout['texture_condition'] == 'color')]\n",
    "num_rows = filtered_df.shape[0]\n",
    "print(\"gray pie:\" + str(num_rows))"
   ]
  },
  {
   "cell_type": "markdown",
   "metadata": {},
   "source": [
    "### Response time\n",
    "We only count response time for correct and incorrect trials. We dropped out time-out trials."
   ]
  },
  {
   "cell_type": "code",
   "execution_count": 449,
   "metadata": {},
   "outputs": [
    {
     "data": {
      "image/png": "[encoded data removed]",
      "text/plain": [
       "<Figure size 432x144 with 1 Axes>"
      ]
     },
     "metadata": {
      "needs_background": "light"
     },
     "output_type": "display_data"
    }
   ],
   "source": [
    "#先求了每个参与者的平均值之后的response time\n",
    "response_time_bar_list = create_data_list_for_plotCIs (df_response_time, \n",
    "                                  'response_time', \n",
    "                                  'bar_geo', \n",
    "                                  'bar_icon', \n",
    "                                  'bar_color',\n",
    "                                  'geometric bar', \n",
    "                                  'iconic bar', \n",
    "                                  'gray bar')\n",
    "plotCIs(response_time_bar_list,2000, 3000, 6, 2, \"generated_plots/response_time_bar_CIs\", 200)"
   ]
  },
  {
   "cell_type": "code",
   "execution_count": 450,
   "metadata": {},
   "outputs": [
    {
     "data": {
      "image/png": "[encoded data removed]",
      "text/plain": [
       "<Figure size 432x144 with 1 Axes>"
      ]
     },
     "metadata": {
      "needs_background": "light"
     },
     "output_type": "display_data"
    }
   ],
   "source": [
    "#先求了每个参与者的平均值之后的response time\n",
    "response_time_pie_list = create_data_list_for_plotCIs (df_response_time, \n",
    "                                  'response_time', \n",
    "                                  'pie_geo', \n",
    "                                  'pie_icon', \n",
    "                                  'pie_color',\n",
    "                                  'geometric pie', \n",
    "                                  'iconic pie', \n",
    "                                  'gray pie')\n",
    "plotCIs(response_time_bar_list,2000, 3000, 6, 2, \"generated_plots/response_time_pie_CIs\", 200)"
   ]
  },
  {
   "cell_type": "code",
   "execution_count": 451,
   "metadata": {},
   "outputs": [
    {
     "data": {
      "image/png": "[encoded data removed]",
      "text/plain": [
       "<Figure size 432x144 with 1 Axes>"
      ]
     },
     "metadata": {
      "needs_background": "light"
     },
     "output_type": "display_data"
    }
   ],
   "source": [
    "plotComparisonCIs (df_response_time, \n",
    "                   'response_time', \n",
    "                   'pie_color', \n",
    "                   'pie_geo', \n",
    "                   'pie_icon', \n",
    "                   'geometric - gray', \n",
    "                   'iconic - gray', \n",
    "                   'iconic - geometric', \n",
    "                   -500, \n",
    "                   500, \n",
    "                   6, \n",
    "                   2, \n",
    "                   \"generated_plots/response_time_compare_pie_CIs\",\n",
    "                   200)"
   ]
  },
  {
   "cell_type": "code",
   "execution_count": 452,
   "metadata": {},
   "outputs": [
    {
     "data": {
      "image/png": "[encoded data removed]",
      "text/plain": [
       "<Figure size 432x144 with 1 Axes>"
      ]
     },
     "metadata": {
      "needs_background": "light"
     },
     "output_type": "display_data"
    }
   ],
   "source": [
    "plotComparisonCIs (df_response_time, \n",
    "                   'response_time', \n",
    "                   'bar_color', \n",
    "                   'bar_geo', \n",
    "                   'bar_icon', \n",
    "                   'geometric - gray', \n",
    "                   'iconic - gray', \n",
    "                   'iconic - geometric', \n",
    "                   -500, \n",
    "                   500, \n",
    "                   6, \n",
    "                   2, \n",
    "                   \"response_time_compare_bar_CIs\",200)"
   ]
  },
  {
   "cell_type": "markdown",
   "metadata": {},
   "source": [
    "### Response time - all trials"
   ]
  }
 ],
 "metadata": {
  "kernelspec": {
   "display_name": "Python 3",
   "language": "python",
   "name": "python3"
  },
  "language_info": {
   "codemirror_mode": {
    "name": "ipython",
    "version": 3
   },
   "file_extension": ".py",
   "mimetype": "text/x-python",
   "name": "python",
   "nbconvert_exporter": "python",
   "pygments_lexer": "ipython3",
   "version": "3.8.5"
  }
 },
 "nbformat": 4,
 "nbformat_minor": 5
}
